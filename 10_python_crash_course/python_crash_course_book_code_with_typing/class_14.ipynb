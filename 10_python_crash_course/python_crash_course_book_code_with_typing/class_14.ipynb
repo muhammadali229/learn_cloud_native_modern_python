{
 "cells": [
  {
   "cell_type": "code",
   "execution_count": 1,
   "id": "83064958-511b-46b6-aa4b-ab690f568686",
   "metadata": {},
   "outputs": [],
   "source": [
    "# pip install mypy-ipython\n",
    "%load_ext mypy_ipython"
   ]
  },
  {
   "cell_type": "code",
   "execution_count": 2,
   "id": "97823079-0df9-4900-a3c6-3e6099fbe309",
   "metadata": {},
   "outputs": [],
   "source": [
    "# %mypy\n",
    "# def add(a: int, b: int) -> int:\n",
    "#     return a + b\n",
    "\n",
    "# def greet(name: str) -> str:\n",
    "#     return \"Hello, \" + name\n",
    "\n",
    "# print(add(1, 2))\n",
    "# print(greet(3))  # This will raise a type checking error"
   ]
  },
  {
   "cell_type": "code",
   "execution_count": 3,
   "id": "0eabc248-deb0-4456-b345-1e619f381db7",
   "metadata": {},
   "outputs": [
    {
     "name": "stdout",
     "output_type": "stream",
     "text": [
      "['child_name', 'eye_color', 'father_name', 'hair_color', 'mother_name', 'speaking']\n",
      "Child's name: Muhammad Ali\n",
      "Mother's name: Humair Faisal\n",
      "Eye color: blue\n",
      "Father's name: Faisal Yaseen\n",
      "Hair color: black\n"
     ]
    },
    {
     "data": {
      "text/plain": [
       "'Mother is speaking Pakistan Zindabad'"
      ]
     },
     "execution_count": 3,
     "metadata": {},
     "output_type": "execute_result"
    }
   ],
   "source": [
    "class Mother():\n",
    "    def __init__(self, name:str)->None:\n",
    "        self.mother_name:str = name\n",
    "        self.eye_color:str = 'blue'\n",
    "    def speaking(self, words:str)->str:\n",
    "        return f'Mother is speaking {words}'\n",
    "class Father():\n",
    "    def __init__(self, name:str)->None:\n",
    "        self.father_name:str = name\n",
    "        self.hair_color:str = 'black'\n",
    "    def speaking(self, words:str)->str:\n",
    "        return f'Father is speaking {words}'\n",
    "class Child(Mother, Father):\n",
    "    def __init__(self, mother_name:str, father_name:str, child_name:str)->None:\n",
    "        Mother.__init__(self, mother_name)\n",
    "        Father.__init__(self, father_name)\n",
    "        self.child_name:str = child_name\n",
    "child_1:Child = Child('Humair Faisal', 'Faisal Yaseen', 'Muhammad Ali')\n",
    "print([i for i in dir(child_1) if '__' not in i])\n",
    "# Output some attributes to check if everything is working\n",
    "print(f\"Child's name: {child_1.child_name}\")\n",
    "print(f\"Mother's name: {child_1.mother_name}\")\n",
    "print(f\"Eye color: {child_1.eye_color}\")\n",
    "print(f\"Father's name: {child_1.father_name}\")\n",
    "print(f\"Hair color: {child_1.hair_color}\")\n",
    "child_1.speaking('Pakistan Zindabad')"
   ]
  },
  {
   "cell_type": "code",
   "execution_count": 4,
   "id": "6eacf738-4e76-45d2-9538-f40c9baee811",
   "metadata": {},
   "outputs": [
    {
     "name": "stdout",
     "output_type": "stream",
     "text": [
      "['child_name', 'eye_color', 'father_name', 'hair_color', 'mother_name', 'speaking']\n",
      "Child's name: Muhammad Ali\n",
      "Mother's name: Humair Faisal\n",
      "Eye color: blue\n",
      "Father's name: Faisal Yaseen\n",
      "Hair color: black\n"
     ]
    },
    {
     "data": {
      "text/plain": [
       "'Father is speaking Pakistan Zindabad'"
      ]
     },
     "execution_count": 4,
     "metadata": {},
     "output_type": "execute_result"
    }
   ],
   "source": [
    "class Mother():\n",
    "    def __init__(self, name:str)->None:\n",
    "        self.mother_name:str = name\n",
    "        self.eye_color:str = 'blue'\n",
    "    def speaking(self, words:str)->str:\n",
    "        return f'Mother is speaking {words}'\n",
    "class Father():\n",
    "    def __init__(self, name:str)->None:\n",
    "        self.father_name:str = name\n",
    "        self.hair_color:str = 'black'\n",
    "    def speaking(self, words:str)->str:\n",
    "        return f'Father is speaking {words}'\n",
    "class Child(Father, Mother):\n",
    "    def __init__(self, mother_name:str, father_name:str, child_name:str)->None:\n",
    "        Mother.__init__(self, mother_name)\n",
    "        Father.__init__(self, father_name)\n",
    "        self.child_name:str = child_name\n",
    "child_1:Child = Child('Humair Faisal', 'Faisal Yaseen', 'Muhammad Ali')\n",
    "print([i for i in dir(child_1) if '__' not in i])\n",
    "# Output some attributes to check if everything is working\n",
    "print(f\"Child's name: {child_1.child_name}\")\n",
    "print(f\"Mother's name: {child_1.mother_name}\")\n",
    "print(f\"Eye color: {child_1.eye_color}\")\n",
    "print(f\"Father's name: {child_1.father_name}\")\n",
    "print(f\"Hair color: {child_1.hair_color}\")\n",
    "child_1.speaking('Pakistan Zindabad')"
   ]
  },
  {
   "cell_type": "code",
   "execution_count": 5,
   "id": "c0888046-1672-459a-822d-a1b580d0caff",
   "metadata": {},
   "outputs": [
    {
     "name": "stdout",
     "output_type": "stream",
     "text": [
      "5\n",
      "50\n",
      "100\n"
     ]
    }
   ],
   "source": [
    "# method overloading\n",
    "class MathOperations:\n",
    "    def multiply(self, a, b=1, c=1):\n",
    "        \"\"\"\n",
    "        Multiplies up to three numbers. If fewer numbers are provided,\n",
    "        uses 1 as the default value for the missing numbers.\n",
    "        \"\"\"\n",
    "        return a * b * c\n",
    "\n",
    "# Usage\n",
    "math_ops = MathOperations()\n",
    "\n",
    "print(math_ops.multiply(5))         # Output: 5  (5 * 1 * 1)\n",
    "print(math_ops.multiply(5, 10))     # Output: 50 (5 * 10 * 1)\n",
    "print(math_ops.multiply(5, 10, 2))  # Output: 100 (5 * 10 * 2)"
   ]
  },
  {
   "cell_type": "code",
   "execution_count": 6,
   "id": "b64171c3-b449-464d-a34f-f4eebf9a8e14",
   "metadata": {},
   "outputs": [
    {
     "name": "stdout",
     "output_type": "stream",
     "text": [
      "add(a:int, b:int): 3\n",
      "add(a:float, b:float): 3.7\n",
      "add(a:str, b:str): hello world\n"
     ]
    }
   ],
   "source": [
    "from typing import overload, Union\n",
    "@overload\n",
    "def add(a:int, b:int)->int:\n",
    "    ...\n",
    "@overload\n",
    "def add(a:float, b:float)->float:\n",
    "    ...\n",
    "@overload\n",
    "def add(a:str, b:str)->str:\n",
    "    ...\n",
    "\n",
    "def add(x:Union[int,float,str], y:Union[int,float,str])->Union[int,float,str]:\n",
    "    if isinstance(x, int) and isinstance(y, int):\n",
    "        return x + y\n",
    "    elif isinstance(x, float) and isinstance(y, float):\n",
    "        return x + y\n",
    "    elif isinstance(x, str) and isinstance(y, str):\n",
    "        return x + y\n",
    "    else:\n",
    "        raise TypeError('Invalid argument types...')\n",
    "print(f'add(a:int, b:int): {add(1, 2)}')\n",
    "print(f'add(a:float, b:float): {add(1.3, 2.4)}')\n",
    "print(f\"add(a:str, b:str): {add('hello', ' world')}\")"
   ]
  },
  {
   "cell_type": "code",
   "execution_count": 7,
   "id": "68704a47-b232-471e-b3ee-c4f5676323bd",
   "metadata": {},
   "outputs": [
    {
     "name": "stdout",
     "output_type": "stream",
     "text": [
      "Integer Addition: 15\n",
      "Float Addition: 15.7\n",
      "String Concatenation: Hello, World!\n",
      "Error: Invalid argument types: Expected (int, int), (float, float), or (str, str).\n"
     ]
    }
   ],
   "source": [
    "from typing import overload, Union\n",
    "\n",
    "class Calculator:\n",
    "\n",
    "    def __init__(self) -> None:\n",
    "        pass\n",
    "\n",
    "    @overload\n",
    "    def add(self, a: int, b: int) -> int:\n",
    "        ...\n",
    "\n",
    "    @overload\n",
    "    def add(self, a: float, b: float) -> float:\n",
    "        ...\n",
    "\n",
    "    @overload\n",
    "    def add(self, a: str, b: str) -> str:\n",
    "        ...\n",
    "\n",
    "    def add(self, x: Union[int, float, str], y: Union[int, float, str]) -> Union[int, float, str]:\n",
    "        if isinstance(x, int) and isinstance(y, int):\n",
    "            return x + y\n",
    "        elif isinstance(x, float) and isinstance(y, float):\n",
    "            return x + y\n",
    "        elif isinstance(x, str) and isinstance(y, str):\n",
    "            return x + y\n",
    "        else:\n",
    "            raise TypeError('Invalid argument types: Expected (int, int), (float, float), or (str, str).')\n",
    "\n",
    "# Usage Example\n",
    "calculator = Calculator()\n",
    "\n",
    "# Valid operations\n",
    "result_int = calculator.add(5, 10)            # Returns 15 (int)\n",
    "result_float = calculator.add(5.5, 10.2)      # Returns 15.7 (float)\n",
    "result_str = calculator.add(\"Hello, \", \"World!\") # Returns 'Hello, World!' (str)\n",
    "\n",
    "print(f\"Integer Addition: {result_int}\")       # Output: 15\n",
    "print(f\"Float Addition: {result_float}\")       # Output: 15.7\n",
    "print(f\"String Concatenation: {result_str}\")   # Output: 'Hello, World!'\n",
    "\n",
    "# This will raise an error\n",
    "try:\n",
    "    result_error = calculator.add(5, \"ten\")\n",
    "except TypeError as e:\n",
    "    print(f\"Error: {e}\")  # Output: Error: Invalid argument types: Expected (int, int), (float, float), or (str, str)."
   ]
  },
  {
   "cell_type": "code",
   "execution_count": 8,
   "id": "ef8e4e1d-8f0e-4fa1-9e80-1e8545c774fa",
   "metadata": {},
   "outputs": [
    {
     "name": "stdout",
     "output_type": "stream",
     "text": [
      "Animal.speak()->Some generic animal sound\n",
      "Dog.speak()->Woof!\n",
      "Cat.speak()->Meow!\n",
      "Cat.speak() with animal reference->Meow!\n",
      "Type of my_animal-><class '__main__.Cat'>\n"
     ]
    }
   ],
   "source": [
    "# overiding and polymorphism\n",
    "class Animal:\n",
    "    def speak(self) -> str:\n",
    "        \"\"\"Method that returns the sound an animal makes.\"\"\"\n",
    "        return \"Some generic animal sound\"\n",
    "\n",
    "class Dog(Animal):\n",
    "    def speak(self) -> str:\n",
    "        \"\"\"Dog-specific sound.\"\"\"\n",
    "        return \"Woof!\"\n",
    "\n",
    "class Cat(Animal):\n",
    "    def speak(self) -> str:\n",
    "        \"\"\"Cat-specific sound.\"\"\"\n",
    "        return \"Meow!\"\n",
    "\n",
    "animal:Animal = Animal()\n",
    "print(f'Animal.speak()->{animal.speak()}')\n",
    "dog:Dog = Dog()\n",
    "print(f'Dog.speak()->{dog.speak()}')\n",
    "cat:Cat = Cat()\n",
    "print(f'Cat.speak()->{cat.speak()}')\n",
    "\n",
    "# polymorphism\n",
    "my_animal:Animal = Cat()\n",
    "print(f'Cat.speak() with animal reference->{my_animal.speak()}')\n",
    "print(f'Type of my_animal->{type(my_animal)}')"
   ]
  },
  {
   "cell_type": "code",
   "execution_count": 9,
   "id": "f17931ff-10eb-4cad-a920-ab1589599b7f",
   "metadata": {},
   "outputs": [
    {
     "name": "stdout",
     "output_type": "stream",
     "text": [
      "8\n",
      "6\n",
      "21\n",
      "5.0\n",
      "Cannot divide by zero\n"
     ]
    }
   ],
   "source": [
    "class MathOperations:\n",
    "    # Static method to add two numbers\n",
    "    @staticmethod\n",
    "    def add(a, b):\n",
    "        return a + b\n",
    "\n",
    "    # Static method to subtract two numbers\n",
    "    @staticmethod\n",
    "    def subtract(a, b):\n",
    "        return a - b\n",
    "\n",
    "    # Static method to multiply two numbers\n",
    "    @staticmethod\n",
    "    def multiply(a, b):\n",
    "        return a * b\n",
    "\n",
    "    # Static method to divide two numbers\n",
    "    @staticmethod\n",
    "    def divide(a, b):\n",
    "        if b == 0:\n",
    "            return \"Cannot divide by zero\"\n",
    "        return a / b\n",
    "\n",
    "# Using static methods without creating an instance of MathOperations\n",
    "print(MathOperations.add(5, 3))         # Output: 8\n",
    "print(MathOperations.subtract(10, 4))   # Output: 6\n",
    "print(MathOperations.multiply(3, 7))    # Output: 21\n",
    "print(MathOperations.divide(15, 3))     # Output: 5.0\n",
    "print(MathOperations.divide(15, 0))     # Output: Cannot divide by zero"
   ]
  },
  {
   "cell_type": "code",
   "execution_count": 10,
   "id": "6ad7d5e2-2aed-42e9-9b74-16e09730026c",
   "metadata": {},
   "outputs": [
    {
     "data": {
      "text/plain": [
       "['add', 'divide', 'multiply', 'subtract']"
      ]
     },
     "execution_count": 10,
     "metadata": {},
     "output_type": "execute_result"
    }
   ],
   "source": [
    "[i for i in dir(MathOperations) if '__' not in i]"
   ]
  },
  {
   "cell_type": "code",
   "execution_count": 15,
   "id": "c8e67f4d-4d91-4eb5-9828-7526a861d780",
   "metadata": {},
   "outputs": [
    {
     "name": "stdout",
     "output_type": "stream",
     "text": [
      "['__class__', '__delattr__', '__dict__', '__dir__', '__doc__', '__eq__', '__format__', '__ge__', '__getattribute__', '__getstate__', '__gt__', '__hash__', '__init__', '__init_subclass__', '__le__', '__lt__', '__module__', '__ne__', '__new__', '__reduce__', '__reduce_ex__', '__repr__', '__setattr__', '__sizeof__', '__str__', '__subclasshook__', '__weakref__', 'eating']\n",
      "I am eating Briyani\n"
     ]
    }
   ],
   "source": [
    "class Human():\n",
    "    def eating(self, food)->None:\n",
    "        print(f'I am eating {food}')\n",
    "h1:Human = Human()\n",
    "print([i for i in dir(h1)])\n",
    "h1.eating('Briyani')"
   ]
  },
  {
   "cell_type": "code",
   "execution_count": 18,
   "id": "022795ed-e534-432b-8e6a-88e3de789ab9",
   "metadata": {},
   "outputs": [
    {
     "name": "stdout",
     "output_type": "stream",
     "text": [
      "I am eating Briyani\n",
      "Human class methods\n",
      "['__class__', '__delattr__', '__dict__', '__dir__', '__doc__', '__eq__', '__format__', '__ge__', '__getattribute__', '__getstate__', '__gt__', '__hash__', '__init__', '__init_subclass__', '__le__', '__lt__', '__module__', '__ne__', '__new__', '__reduce__', '__reduce_ex__', '__repr__', '__setattr__', '__sizeof__', '__str__', '__subclasshook__', '__weakref__', 'eating']\n",
      "\n",
      "object class methods\n",
      "['__class__', '__delattr__', '__dir__', '__doc__', '__eq__', '__format__', '__ge__', '__getattribute__', '__getstate__', '__gt__', '__hash__', '__init__', '__init_subclass__', '__le__', '__lt__', '__ne__', '__new__', '__reduce__', '__reduce_ex__', '__repr__', '__setattr__', '__sizeof__', '__str__', '__subclasshook__']\n"
     ]
    }
   ],
   "source": [
    "# Every thing is inharent from object class\n",
    "class Human(object):\n",
    "    def eating(self, food)->None:\n",
    "        print(f'I am eating {food}')\n",
    "h1:Human = Human()\n",
    "h1.eating('Briyani')\n",
    "print('Human class methods')\n",
    "print([i for i in dir(h1)])\n",
    "print('\\nobject class methods')\n",
    "print([i for i in dir(object)])"
   ]
  },
  {
   "cell_type": "code",
   "execution_count": 25,
   "id": "de585eb2-94e5-4e20-a716-95957a5c85ad",
   "metadata": {},
   "outputs": [
    {
     "name": "stdout",
     "output_type": "stream",
     "text": [
      "I am eating Briyani\n",
      "I am eating Nihari\n",
      "I am eating Nihari\n"
     ]
    }
   ],
   "source": [
    "class Human(object):\n",
    "    def eating(self, food)->None:\n",
    "        print(f'I am eating {food}')\n",
    "    def __call__(self):\n",
    "        self.eating('Nihari')\n",
    "h3:Human = Human()\n",
    "h3.eating('Briyani')\n",
    "h3.__call__()\n",
    "h3()"
   ]
  }
 ],
 "metadata": {
  "kernelspec": {
   "display_name": "Python 3 (ipykernel)",
   "language": "python",
   "name": "python3"
  },
  "language_info": {
   "codemirror_mode": {
    "name": "ipython",
    "version": 3
   },
   "file_extension": ".py",
   "mimetype": "text/x-python",
   "name": "python",
   "nbconvert_exporter": "python",
   "pygments_lexer": "ipython3",
   "version": "3.12.4"
  }
 },
 "nbformat": 4,
 "nbformat_minor": 5
}
