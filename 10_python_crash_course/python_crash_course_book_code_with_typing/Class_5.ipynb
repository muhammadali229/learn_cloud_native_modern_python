{
 "cells": [
  {
   "cell_type": "code",
   "execution_count": 1,
   "id": "1817192a",
   "metadata": {},
   "outputs": [],
   "source": [
    "students: str = ['ali', 'yasir', 'raja', 'anus']"
   ]
  },
  {
   "cell_type": "code",
   "execution_count": 2,
   "id": "abab3de6",
   "metadata": {},
   "outputs": [
    {
     "name": "stdout",
     "output_type": "stream",
     "text": [
      "ali\n",
      "yasir\n",
      "raja\n",
      "anus\n"
     ]
    }
   ],
   "source": [
    "for student in students:\n",
    "    print(student)"
   ]
  },
  {
   "cell_type": "code",
   "execution_count": 3,
   "id": "b59ff98a",
   "metadata": {},
   "outputs": [
    {
     "name": "stdout",
     "output_type": "stream",
     "text": [
      "ali\n",
      "yasir\n",
      "raja\n",
      "anus\n"
     ]
    }
   ],
   "source": [
    "i = 0\n",
    "while i < len(students):\n",
    "    print(students[i])\n",
    "    i += 1"
   ]
  },
  {
   "cell_type": "code",
   "execution_count": 6,
   "id": "95ec7d20",
   "metadata": {},
   "outputs": [],
   "source": [
    "# for student not in students: syntax error\n",
    "#     print(student)"
   ]
  },
  {
   "cell_type": "code",
   "execution_count": 10,
   "id": "5f7ee1ac",
   "metadata": {},
   "outputs": [
    {
     "name": "stdout",
     "output_type": "stream",
     "text": [
      "Welcome Ali\n",
      "Welcome Yasir\n",
      "Welcome Raja\n",
      "Welcome Anus\n",
      "Welcome to Retainership\n"
     ]
    }
   ],
   "source": [
    "for student in students:\n",
    "#     print('Retainership')\n",
    "    print(f'Welcome {student.title()}')\n",
    "print('Welcome to Retainership')"
   ]
  },
  {
   "cell_type": "code",
   "execution_count": 11,
   "id": "c0201a0b",
   "metadata": {},
   "outputs": [
    {
     "name": "stdout",
     "output_type": "stream",
     "text": [
      "ali\n",
      "yasir\n"
     ]
    }
   ],
   "source": [
    "for student in students[:2]:\n",
    "    print(student)"
   ]
  },
  {
   "cell_type": "code",
   "execution_count": 12,
   "id": "818deb70",
   "metadata": {},
   "outputs": [
    {
     "name": "stdout",
     "output_type": "stream",
     "text": [
      "anus\n",
      "raja\n",
      "yasir\n",
      "ali\n"
     ]
    }
   ],
   "source": [
    "for student in students[::-1]:\n",
    "    print(student)"
   ]
  },
  {
   "cell_type": "code",
   "execution_count": 21,
   "id": "548bc230",
   "metadata": {},
   "outputs": [],
   "source": [
    "from typing import List, Tuple\n",
    "database : List[Tuple[str, str]] = [('ali', 'ali44'), ('yasir', 'admin123'), ('hamza', 'hamza559')]"
   ]
  },
  {
   "cell_type": "code",
   "execution_count": 23,
   "id": "218ad567",
   "metadata": {},
   "outputs": [
    {
     "name": "stdout",
     "output_type": "stream",
     "text": [
      "('ali', 'ali44')\n",
      "('yasir', 'admin123')\n",
      "('hamza', 'hamza559')\n"
     ]
    }
   ],
   "source": [
    "for row in database:\n",
    "    print(row)"
   ]
  },
  {
   "cell_type": "code",
   "execution_count": 31,
   "id": "7ccaa67b",
   "metadata": {},
   "outputs": [
    {
     "name": "stdout",
     "output_type": "stream",
     "text": [
      "Enter your username: yasir\n",
      "Enter your password: adada\n",
      "yasir not found\n"
     ]
    }
   ],
   "source": [
    "username_input = input('Enter your username: ')\n",
    "password_input = input('Enter your password: ')\n",
    "for row in database:\n",
    "    username, password = row\n",
    "    if username == username_input and password == password_input:\n",
    "        print(f'Welcome to PIAIC {username}')\n",
    "        break\n",
    "else:\n",
    "    print(f'{username_input} not found')"
   ]
  },
  {
   "cell_type": "code",
   "execution_count": 34,
   "id": "713d2336",
   "metadata": {},
   "outputs": [],
   "source": [
    "a:Tuple[str] = ('ali', 'yasir')"
   ]
  },
  {
   "cell_type": "code",
   "execution_count": 37,
   "id": "16f90ebb",
   "metadata": {},
   "outputs": [],
   "source": [
    "# a[0] = 'haris' tuple is not mutable"
   ]
  },
  {
   "cell_type": "code",
   "execution_count": 38,
   "id": "77f10833",
   "metadata": {},
   "outputs": [
    {
     "data": {
      "text/plain": [
       "['ali', 'yasir', 'raja', 'anus']"
      ]
     },
     "execution_count": 38,
     "metadata": {},
     "output_type": "execute_result"
    }
   ],
   "source": [
    "students"
   ]
  },
  {
   "cell_type": "code",
   "execution_count": 39,
   "id": "aae52f86",
   "metadata": {},
   "outputs": [
    {
     "name": "stdout",
     "output_type": "stream",
     "text": [
      "ali\n",
      "yasir\n",
      "raja\n",
      "anus\n",
      "end of iteration\n"
     ]
    }
   ],
   "source": [
    "for s in students:\n",
    "    print(s)\n",
    "else:\n",
    "    print('end of iteration')"
   ]
  },
  {
   "cell_type": "code",
   "execution_count": 40,
   "id": "21d69836",
   "metadata": {},
   "outputs": [
    {
     "name": "stdout",
     "output_type": "stream",
     "text": [
      "ali\n"
     ]
    }
   ],
   "source": [
    "for s in students:\n",
    "    print(s)\n",
    "    break\n",
    "else:\n",
    "    print('end of iteration')"
   ]
  },
  {
   "cell_type": "code",
   "execution_count": 42,
   "id": "cde96d9c",
   "metadata": {},
   "outputs": [
    {
     "name": "stdout",
     "output_type": "stream",
     "text": [
      "ali\n",
      "yasir\n",
      "raja\n",
      "anus\n",
      "last element in students anus\n"
     ]
    }
   ],
   "source": [
    "for s in students:\n",
    "    print(s)\n",
    "print(f'last element in students {s}')"
   ]
  },
  {
   "cell_type": "code",
   "execution_count": 43,
   "id": "e97c5527",
   "metadata": {},
   "outputs": [
    {
     "data": {
      "text/plain": [
       "range(0, 10)"
      ]
     },
     "execution_count": 43,
     "metadata": {},
     "output_type": "execute_result"
    }
   ],
   "source": [
    "range(10)"
   ]
  },
  {
   "cell_type": "code",
   "execution_count": 44,
   "id": "cc08884b",
   "metadata": {},
   "outputs": [
    {
     "data": {
      "text/plain": [
       "[0, 1, 2, 3, 4, 5, 6, 7, 8, 9]"
      ]
     },
     "execution_count": 44,
     "metadata": {},
     "output_type": "execute_result"
    }
   ],
   "source": [
    "list(range(10))"
   ]
  },
  {
   "cell_type": "code",
   "execution_count": 45,
   "id": "a60e77b9",
   "metadata": {},
   "outputs": [
    {
     "name": "stdout",
     "output_type": "stream",
     "text": [
      "0\n",
      "1\n",
      "2\n",
      "3\n",
      "4\n",
      "5\n",
      "6\n",
      "7\n",
      "8\n",
      "9\n"
     ]
    }
   ],
   "source": [
    "for i in range(10):\n",
    "    print(i)"
   ]
  },
  {
   "cell_type": "code",
   "execution_count": 48,
   "id": "249f12eb",
   "metadata": {},
   "outputs": [
    {
     "data": {
      "text/plain": [
       "[0, 2, 4, 6, 8, 10]"
      ]
     },
     "execution_count": 48,
     "metadata": {},
     "output_type": "execute_result"
    }
   ],
   "source": [
    "list(range(0, 12, 2))"
   ]
  },
  {
   "cell_type": "code",
   "execution_count": 49,
   "id": "b8d944c8",
   "metadata": {},
   "outputs": [
    {
     "name": "stdout",
     "output_type": "stream",
     "text": [
      "2 X 1 = 2\n",
      "2 X 2 = 4\n",
      "2 X 3 = 6\n",
      "2 X 4 = 8\n",
      "2 X 5 = 10\n",
      "2 X 6 = 12\n",
      "2 X 7 = 14\n",
      "2 X 8 = 16\n",
      "2 X 9 = 18\n",
      "2 X 10 = 20\n"
     ]
    }
   ],
   "source": [
    "for i in list(range(1, 11)):\n",
    "    print(f'2 X {i} = {2 * i}')"
   ]
  },
  {
   "cell_type": "code",
   "execution_count": 55,
   "id": "718942be",
   "metadata": {},
   "outputs": [
    {
     "name": "stdout",
     "output_type": "stream",
     "text": [
      "['ali', 'yasir', 'raja', 'anus']\n",
      "[(0, 'ali'), (1, 'yasir'), (2, 'raja'), (3, 'anus')]\n"
     ]
    }
   ],
   "source": [
    "print(students)\n",
    "print(list(enumerate(students)))"
   ]
  },
  {
   "cell_type": "code",
   "execution_count": 56,
   "id": "7f5e025a",
   "metadata": {},
   "outputs": [
    {
     "name": "stdout",
     "output_type": "stream",
     "text": [
      "0: ali\n",
      "1: yasir\n",
      "2: raja\n",
      "3: anus\n"
     ]
    }
   ],
   "source": [
    "for index, name in enumerate(students):\n",
    "    print(f'{index}: {name}')"
   ]
  },
  {
   "cell_type": "code",
   "execution_count": 57,
   "id": "26763c0e",
   "metadata": {},
   "outputs": [],
   "source": [
    "squares : List[int] = []\n",
    "for i in range(1, 11):\n",
    "    squares.append(i ** 2)"
   ]
  },
  {
   "cell_type": "code",
   "execution_count": 58,
   "id": "d6e45afc",
   "metadata": {},
   "outputs": [
    {
     "data": {
      "text/plain": [
       "[1, 4, 9, 16, 25, 36, 49, 64, 81, 100]"
      ]
     },
     "execution_count": 58,
     "metadata": {},
     "output_type": "execute_result"
    }
   ],
   "source": [
    "squares"
   ]
  },
  {
   "cell_type": "code",
   "execution_count": 59,
   "id": "caf51b5d",
   "metadata": {},
   "outputs": [
    {
     "data": {
      "text/plain": [
       "[1, 4, 9, 16, 25, 36, 49, 64, 81, 100]"
      ]
     },
     "execution_count": 59,
     "metadata": {},
     "output_type": "execute_result"
    }
   ],
   "source": [
    "[i ** 2 for i in range(1, 11)]"
   ]
  },
  {
   "cell_type": "code",
   "execution_count": 61,
   "id": "d06aa3c3",
   "metadata": {},
   "outputs": [
    {
     "data": {
      "text/plain": [
       "55"
      ]
     },
     "execution_count": 61,
     "metadata": {},
     "output_type": "execute_result"
    }
   ],
   "source": [
    "sum([i for i in range(1, 11)])"
   ]
  },
  {
   "cell_type": "code",
   "execution_count": 62,
   "id": "cd8b3988",
   "metadata": {},
   "outputs": [
    {
     "data": {
      "text/plain": [
       "10"
      ]
     },
     "execution_count": 62,
     "metadata": {},
     "output_type": "execute_result"
    }
   ],
   "source": [
    "max([i for i in range(1, 11)])"
   ]
  },
  {
   "cell_type": "code",
   "execution_count": 63,
   "id": "15210813",
   "metadata": {},
   "outputs": [
    {
     "data": {
      "text/plain": [
       "1"
      ]
     },
     "execution_count": 63,
     "metadata": {},
     "output_type": "execute_result"
    }
   ],
   "source": [
    "min([i for i in range(1, 11)])"
   ]
  },
  {
   "cell_type": "code",
   "execution_count": 64,
   "id": "08704514",
   "metadata": {},
   "outputs": [],
   "source": [
    "from typing import Tuple, Any\n",
    "data :Tuple[Any] = (1, [2, 3, 4], True, 'a')"
   ]
  },
  {
   "cell_type": "code",
   "execution_count": 65,
   "id": "e851fa47",
   "metadata": {},
   "outputs": [
    {
     "ename": "TypeError",
     "evalue": "'tuple' object does not support item assignment",
     "output_type": "error",
     "traceback": [
      "\u001b[1;31m---------------------------------------------------------------------------\u001b[0m",
      "\u001b[1;31mTypeError\u001b[0m                                 Traceback (most recent call last)",
      "\u001b[1;32m~\\AppData\\Local\\Temp\\ipykernel_1048\\3020050509.py\u001b[0m in \u001b[0;36m<module>\u001b[1;34m\u001b[0m\n\u001b[1;32m----> 1\u001b[1;33m \u001b[0mdata\u001b[0m\u001b[1;33m[\u001b[0m\u001b[1;36m0\u001b[0m\u001b[1;33m]\u001b[0m \u001b[1;33m=\u001b[0m \u001b[1;36m9\u001b[0m\u001b[1;33m\u001b[0m\u001b[1;33m\u001b[0m\u001b[0m\n\u001b[0m",
      "\u001b[1;31mTypeError\u001b[0m: 'tuple' object does not support item assignment"
     ]
    }
   ],
   "source": [
    "data[0] = 9"
   ]
  },
  {
   "cell_type": "code",
   "execution_count": 66,
   "id": "4c76d10f",
   "metadata": {},
   "outputs": [],
   "source": [
    "data[1][0] = 9"
   ]
  },
  {
   "cell_type": "code",
   "execution_count": 67,
   "id": "53ee8cc8",
   "metadata": {},
   "outputs": [
    {
     "data": {
      "text/plain": [
       "(1, [9, 3, 4], True, 'a')"
      ]
     },
     "execution_count": 67,
     "metadata": {},
     "output_type": "execute_result"
    }
   ],
   "source": [
    "data"
   ]
  },
  {
   "cell_type": "code",
   "execution_count": 68,
   "id": "f20c4fe7",
   "metadata": {},
   "outputs": [],
   "source": [
    "data[1].append('7')"
   ]
  },
  {
   "cell_type": "code",
   "execution_count": 69,
   "id": "00af5d82",
   "metadata": {},
   "outputs": [
    {
     "data": {
      "text/plain": [
       "(1, [9, 3, 4, '7'], True, 'a')"
      ]
     },
     "execution_count": 69,
     "metadata": {},
     "output_type": "execute_result"
    }
   ],
   "source": [
    "data"
   ]
  },
  {
   "cell_type": "code",
   "execution_count": 70,
   "id": "9caf0ac3",
   "metadata": {},
   "outputs": [
    {
     "ename": "TypeError",
     "evalue": "'tuple' object does not support item assignment",
     "output_type": "error",
     "traceback": [
      "\u001b[1;31m---------------------------------------------------------------------------\u001b[0m",
      "\u001b[1;31mTypeError\u001b[0m                                 Traceback (most recent call last)",
      "\u001b[1;32m~\\AppData\\Local\\Temp\\ipykernel_1048\\1853070181.py\u001b[0m in \u001b[0;36m<module>\u001b[1;34m\u001b[0m\n\u001b[1;32m----> 1\u001b[1;33m \u001b[0mdata\u001b[0m\u001b[1;33m[\u001b[0m\u001b[1;36m1\u001b[0m\u001b[1;33m]\u001b[0m \u001b[1;33m=\u001b[0m \u001b[1;33m[\u001b[0m\u001b[1;36m1\u001b[0m\u001b[1;33m,\u001b[0m \u001b[1;36m2\u001b[0m\u001b[1;33m,\u001b[0m \u001b[1;36m3\u001b[0m\u001b[1;33m]\u001b[0m\u001b[1;33m\u001b[0m\u001b[1;33m\u001b[0m\u001b[0m\n\u001b[0m",
      "\u001b[1;31mTypeError\u001b[0m: 'tuple' object does not support item assignment"
     ]
    }
   ],
   "source": [
    "# data[1] = [1, 2, 3]"
   ]
  }
 ],
 "metadata": {
  "kernelspec": {
   "display_name": "Python 3 (ipykernel)",
   "language": "python",
   "name": "python3"
  },
  "language_info": {
   "codemirror_mode": {
    "name": "ipython",
    "version": 3
   },
   "file_extension": ".py",
   "mimetype": "text/x-python",
   "name": "python",
   "nbconvert_exporter": "python",
   "pygments_lexer": "ipython3",
   "version": "3.7.9"
  }
 },
 "nbformat": 4,
 "nbformat_minor": 5
}
