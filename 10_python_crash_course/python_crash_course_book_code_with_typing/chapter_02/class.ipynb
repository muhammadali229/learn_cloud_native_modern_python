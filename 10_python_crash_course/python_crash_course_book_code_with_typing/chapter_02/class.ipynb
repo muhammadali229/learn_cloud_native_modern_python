{
 "cells": [
  {
   "cell_type": "code",
   "execution_count": 1,
   "metadata": {},
   "outputs": [
    {
     "name": "stdout",
     "output_type": "stream",
     "text": [
      "PIAIC\n"
     ]
    }
   ],
   "source": [
    "name:str = 'Muhammad Ali'\n",
    "fname:str = 'Faisal Yaseen'\n",
    "message:str = 'PIAIC'\n",
    "print(message)"
   ]
  },
  {
   "cell_type": "code",
   "execution_count": 4,
   "metadata": {},
   "outputs": [
    {
     "name": "stdout",
     "output_type": "stream",
     "text": [
      "You're good at programming\n"
     ]
    }
   ],
   "source": [
    "message_2:str = 'You\\'re good at programming' \n",
    "print(message_2)"
   ]
  },
  {
   "cell_type": "code",
   "execution_count": 11,
   "metadata": {},
   "outputs": [
    {
     "name": "stdout",
     "output_type": "stream",
     "text": [
      "PIAIC Student Card\n",
      "Name: Muhammad Ali\n",
      "Age: 28\n",
      "Education: Bachelor's in Computer Engineering\n"
     ]
    }
   ],
   "source": [
    "name:str = 'Muhammad Ali'\n",
    "age:int = 28\n",
    "education:str = 'Bachelor\\'s in Computer Engineering'\n",
    "message:str = f\"PIAIC Student Card\\nName: {name}\\nAge: {age}\\nEducation: {education}\"\n",
    "print(message)"
   ]
  },
  {
   "cell_type": "code",
   "execution_count": 12,
   "metadata": {},
   "outputs": [
    {
     "name": "stdout",
     "output_type": "stream",
     "text": [
      "PIAIC Student Card\n",
      "Name: Muhammad Ali\n",
      "Age: 28\n",
      "Education:Bachelor's in Computer Engineering\n"
     ]
    }
   ],
   "source": [
    "name:str = 'Muhammad Ali'\n",
    "age:int = 28\n",
    "education:str = 'Bachelor\\'s in Computer Engineering'\n",
    "# Convert your integer datatype into string\n",
    "message:str = \"PIAIC Student Card\\nName: \" + name + \"\\nAge: \" + str(age) + \"\\nEducation:\" + education\n",
    "print(message)"
   ]
  },
  {
   "cell_type": "code",
   "execution_count": 10,
   "metadata": {},
   "outputs": [
    {
     "data": {
      "text/plain": [
       "72"
      ]
     },
     "execution_count": 10,
     "metadata": {},
     "output_type": "execute_result"
    }
   ],
   "source": [
    "int(\"65\") + 7"
   ]
  },
  {
   "cell_type": "code",
   "execution_count": 13,
   "metadata": {},
   "outputs": [
    {
     "name": "stdout",
     "output_type": "stream",
     "text": [
      "14\n"
     ]
    }
   ],
   "source": [
    "print(5 + \\\n",
    "    6 + 3)"
   ]
  },
  {
   "cell_type": "code",
   "execution_count": 15,
   "metadata": {},
   "outputs": [
    {
     "name": "stdout",
     "output_type": "stream",
     "text": [
      "17\n"
     ]
    }
   ],
   "source": [
    "print((\n",
    "    3 * 2 + 3\n",
    "    + 2 + 3\n",
    "    + 1 + 2\n",
    "))"
   ]
  },
  {
   "cell_type": "code",
   "execution_count": 18,
   "metadata": {},
   "outputs": [
    {
     "name": "stdout",
     "output_type": "stream",
     "text": [
      "\n",
      "PIAIC Student Card\n",
      "Registration No: 1312341\n",
      "Name: Muhammad Ali\n",
      "Age: 28\n",
      "Education: Bachelor's in Computer Engineering\n",
      "Course: Certified AI Generative\n",
      "\n"
     ]
    }
   ],
   "source": [
    "name:str = 'Muhammad Ali'\n",
    "age:int = 28\n",
    "education:str = 'Bachelor\\'s in Computer Engineering'\n",
    "course:str = 'Certified AI Generative'\n",
    "card:str = f\"\"\"\n",
    "PIAIC Student Card\n",
    "Registration No: {22 + 6 + 1312313}\n",
    "Name: {name}\n",
    "Age: {age}\n",
    "Education: {education}\n",
    "Course: {course}\n",
    "\"\"\"\n",
    "print(card)"
   ]
  },
  {
   "cell_type": "code",
   "execution_count": 22,
   "metadata": {},
   "outputs": [
    {
     "name": "stdout",
     "output_type": "stream",
     "text": [
      "\n",
      "PIAIC Student Card\n",
      "Registration No: 123154324\n",
      "Name: Muhammad Ali\n",
      "Age: 28\n",
      "Education: Bachelor's in Computer Engineering\n",
      "Course: Certified AI Generative\n",
      "\n"
     ]
    }
   ],
   "source": [
    "name:str = 'Muhammad Ali'\n",
    "age:int = 28\n",
    "education:str = 'Bachelor\\'s in Computer Engineering'\n",
    "course:str = 'Certified AI Generative'\n",
    "reg_no = 123154324\n",
    "card:str = f\"\"\"\n",
    "PIAIC Student Card\n",
    "Registration No: %d\n",
    "Name: %s\n",
    "Age: %d\n",
    "Education: %s\n",
    "Course: %s\n",
    "\"\"\" % (reg_no, name, age, education, course)\n",
    "print(card)"
   ]
  },
  {
   "cell_type": "code",
   "execution_count": 25,
   "metadata": {},
   "outputs": [
    {
     "data": {
      "text/plain": [
       "['capitalize',\n",
       " 'casefold',\n",
       " 'center',\n",
       " 'count',\n",
       " 'encode',\n",
       " 'endswith',\n",
       " 'expandtabs',\n",
       " 'find',\n",
       " 'format',\n",
       " 'format_map',\n",
       " 'index',\n",
       " 'isalnum',\n",
       " 'isalpha',\n",
       " 'isascii',\n",
       " 'isdecimal',\n",
       " 'isdigit',\n",
       " 'isidentifier',\n",
       " 'islower',\n",
       " 'isnumeric',\n",
       " 'isprintable',\n",
       " 'isspace',\n",
       " 'istitle',\n",
       " 'isupper',\n",
       " 'join',\n",
       " 'ljust',\n",
       " 'lower',\n",
       " 'lstrip',\n",
       " 'maketrans',\n",
       " 'partition',\n",
       " 'removeprefix',\n",
       " 'removesuffix',\n",
       " 'replace',\n",
       " 'rfind',\n",
       " 'rindex',\n",
       " 'rjust',\n",
       " 'rpartition',\n",
       " 'rsplit',\n",
       " 'rstrip',\n",
       " 'split',\n",
       " 'splitlines',\n",
       " 'startswith',\n",
       " 'strip',\n",
       " 'swapcase',\n",
       " 'title',\n",
       " 'translate',\n",
       " 'upper',\n",
       " 'zfill']"
      ]
     },
     "execution_count": 25,
     "metadata": {},
     "output_type": "execute_result"
    }
   ],
   "source": [
    "[i for i in dir(str) if '__' not in i]"
   ]
  },
  {
   "cell_type": "code",
   "execution_count": 26,
   "metadata": {},
   "outputs": [
    {
     "data": {
      "text/plain": [
       "'ALI'"
      ]
     },
     "execution_count": 26,
     "metadata": {},
     "output_type": "execute_result"
    }
   ],
   "source": [
    "name:str = 'ali'\n",
    "name.upper()"
   ]
  },
  {
   "cell_type": "code",
   "execution_count": 27,
   "metadata": {},
   "outputs": [
    {
     "data": {
      "text/plain": [
       "'Ali'"
      ]
     },
     "execution_count": 27,
     "metadata": {},
     "output_type": "execute_result"
    }
   ],
   "source": [
    "name:str = 'ali'\n",
    "name.title()"
   ]
  },
  {
   "cell_type": "code",
   "execution_count": 28,
   "metadata": {},
   "outputs": [
    {
     "data": {
      "text/plain": [
       "'Ali'"
      ]
     },
     "execution_count": 28,
     "metadata": {},
     "output_type": "execute_result"
    }
   ],
   "source": [
    "name:str = 'ali'\n",
    "name.capitalize()"
   ]
  },
  {
   "cell_type": "code",
   "execution_count": 29,
   "metadata": {},
   "outputs": [
    {
     "data": {
      "text/plain": [
       "'My name is Muhammad Ali'"
      ]
     },
     "execution_count": 29,
     "metadata": {},
     "output_type": "execute_result"
    }
   ],
   "source": [
    "\"My name is {}\".format(\"Muhammad Ali\")"
   ]
  },
  {
   "cell_type": "code",
   "execution_count": 30,
   "metadata": {},
   "outputs": [
    {
     "data": {
      "text/plain": [
       "'My name is 28. My age is Muhammad Ali'"
      ]
     },
     "execution_count": 30,
     "metadata": {},
     "output_type": "execute_result"
    }
   ],
   "source": [
    "\"My name is {}. My age is {}\".format(28, \"Muhammad Ali\")"
   ]
  },
  {
   "cell_type": "code",
   "execution_count": 31,
   "metadata": {},
   "outputs": [
    {
     "data": {
      "text/plain": [
       "'My name is Muhammad Ali. My age is 28'"
      ]
     },
     "execution_count": 31,
     "metadata": {},
     "output_type": "execute_result"
    }
   ],
   "source": [
    "\"My name is {1}. My age is {0}\".format(28, \"Muhammad Ali\")"
   ]
  },
  {
   "cell_type": "code",
   "execution_count": 34,
   "metadata": {},
   "outputs": [
    {
     "data": {
      "text/plain": [
       "'My name is Muhammad Ali. My age is 28'"
      ]
     },
     "execution_count": 34,
     "metadata": {},
     "output_type": "execute_result"
    }
   ],
   "source": [
    "\"My name is {a}. My age is {b}\".format(**{\"b\": 28, \"a\": \"Muhammad Ali\"})"
   ]
  },
  {
   "cell_type": "code",
   "execution_count": 37,
   "metadata": {},
   "outputs": [
    {
     "data": {
      "text/plain": [
       "'My name is Muhammad Ali. My age is 28'"
      ]
     },
     "execution_count": 37,
     "metadata": {},
     "output_type": "execute_result"
    }
   ],
   "source": [
    "\"My name is {a}. My age is {b}\".format(b= 28, a= \"Muhammad Ali\")"
   ]
  },
  {
   "cell_type": "code",
   "execution_count": 38,
   "metadata": {},
   "outputs": [
    {
     "name": "stdout",
     "output_type": "stream",
     "text": [
      "Muhamamd Ali\n",
      "7\n"
     ]
    }
   ],
   "source": [
    "code:str = \"\"\"\n",
    "print('Muhamamd Ali')\n",
    "a:int = 2\n",
    "b:int = 5\n",
    "print(a + b)\n",
    "\"\"\"\n",
    "exec(code)"
   ]
  },
  {
   "cell_type": "code",
   "execution_count": 42,
   "metadata": {},
   "outputs": [
    {
     "data": {
      "text/plain": [
       "'Muhammad Ali  '"
      ]
     },
     "execution_count": 42,
     "metadata": {},
     "output_type": "execute_result"
    }
   ],
   "source": [
    "name: str = \"   Muhammad Ali  \"\n",
    "name.lstrip()"
   ]
  },
  {
   "cell_type": "code",
   "execution_count": 43,
   "metadata": {},
   "outputs": [
    {
     "data": {
      "text/plain": [
       "'   Muhammad Ali'"
      ]
     },
     "execution_count": 43,
     "metadata": {},
     "output_type": "execute_result"
    }
   ],
   "source": [
    "name: str = \"   Muhammad Ali  \"\n",
    "name.rstrip()"
   ]
  },
  {
   "cell_type": "code",
   "execution_count": 44,
   "metadata": {},
   "outputs": [
    {
     "data": {
      "text/plain": [
       "'Muhammad Ali'"
      ]
     },
     "execution_count": 44,
     "metadata": {},
     "output_type": "execute_result"
    }
   ],
   "source": [
    "name: str = \"   Muhammad Ali  \"\n",
    "name.strip()"
   ]
  },
  {
   "cell_type": "code",
   "execution_count": 45,
   "metadata": {},
   "outputs": [],
   "source": [
    "import re"
   ]
  },
  {
   "cell_type": "code",
   "execution_count": 48,
   "metadata": {},
   "outputs": [
    {
     "name": "stdout",
     "output_type": "stream",
     "text": [
      "   Muhammad Ali  \n"
     ]
    },
    {
     "data": {
      "text/plain": [
       "'Muhammad Ali'"
      ]
     },
     "metadata": {},
     "output_type": "display_data"
    }
   ],
   "source": [
    "print(name)\n",
    "name1:str = re.sub(\" {2,100}\", \"\", name) # remove spaces if it spaces are more than 2 and less than 100\n",
    "display(name1)"
   ]
  },
  {
   "cell_type": "code",
   "execution_count": 49,
   "metadata": {},
   "outputs": [
    {
     "name": "stdout",
     "output_type": "stream",
     "text": [
      "   Muhammad Ali  \n"
     ]
    },
    {
     "data": {
      "text/plain": [
       "'Muhammad Ali'"
      ]
     },
     "metadata": {},
     "output_type": "display_data"
    }
   ],
   "source": [
    "print(name)\n",
    "name1:str = re.sub(\" {2,100}\", \"\", name).strip()\n",
    "display(name1)"
   ]
  },
  {
   "cell_type": "code",
   "execution_count": 51,
   "metadata": {},
   "outputs": [
    {
     "data": {
      "text/plain": [
       "'Muhammad Ali'"
      ]
     },
     "execution_count": 51,
     "metadata": {},
     "output_type": "execute_result"
    }
   ],
   "source": [
    "name:str = \"muhammad ali\"\n",
    "f\"{name.title()}\""
   ]
  },
  {
   "cell_type": "code",
   "execution_count": 53,
   "metadata": {},
   "outputs": [
    {
     "name": "stdout",
     "output_type": "stream",
     "text": [
      "Muhammad Ali\n",
      "Age:28\t\tEducation:Computer Engineering\n"
     ]
    }
   ],
   "source": [
    "name:str = \"muhammad ali\\nage:28\\t\\teducation:Computer Engineering\"\n",
    "print(f\"{name.title()}\")"
   ]
  },
  {
   "cell_type": "code",
   "execution_count": 54,
   "metadata": {},
   "outputs": [
    {
     "name": "stdout",
     "output_type": "stream",
     "text": [
      "Muhammad Ali\n",
      "Age:28\t\tEducation:Computer Engineerin\n"
     ]
    }
   ],
   "source": [
    "name:str = \"muhammad ali\\nage:28\\t\\teducation:Computer Engineering\\b\" # removes g\n",
    "print(f\"{name.title()}\")"
   ]
  },
  {
   "cell_type": "code",
   "execution_count": 57,
   "metadata": {},
   "outputs": [
    {
     "data": {
      "text/plain": [
       "'www.czone.pk'"
      ]
     },
     "execution_count": 57,
     "metadata": {},
     "output_type": "execute_result"
    }
   ],
   "source": [
    "url:str = \"https://www.czone.pk\"\n",
    "url.removeprefix(\"https://\")"
   ]
  },
  {
   "cell_type": "code",
   "execution_count": null,
   "metadata": {},
   "outputs": [],
   "source": []
  }
 ],
 "metadata": {
  "kernelspec": {
   "display_name": "Python 3",
   "language": "python",
   "name": "python3"
  },
  "language_info": {
   "codemirror_mode": {
    "name": "ipython",
    "version": 3
   },
   "file_extension": ".py",
   "mimetype": "text/x-python",
   "name": "python",
   "nbconvert_exporter": "python",
   "pygments_lexer": "ipython3",
   "version": "3.12.4"
  }
 },
 "nbformat": 4,
 "nbformat_minor": 2
}
