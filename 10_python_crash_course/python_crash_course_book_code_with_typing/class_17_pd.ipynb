{
 "cells": [
  {
   "cell_type": "code",
   "execution_count": 1,
   "metadata": {},
   "outputs": [],
   "source": [
    "import pandas as pd\n",
    "import pandera as pa"
   ]
  },
  {
   "cell_type": "code",
   "execution_count": 2,
   "metadata": {},
   "outputs": [
    {
     "data": {
      "text/plain": [
       "0     1\n",
       "1     2\n",
       "2     3\n",
       "3     4\n",
       "4     5\n",
       "5     6\n",
       "6     7\n",
       "7     8\n",
       "8     9\n",
       "9    10\n",
       "Name: integer_series, dtype: int64"
      ]
     },
     "metadata": {},
     "output_type": "display_data"
    },
    {
     "name": "stdout",
     "output_type": "stream",
     "text": [
      "<class 'pandas.core.series.Series'>\n"
     ]
    }
   ],
   "source": [
    "series = pd.Series(list(range(1, 11)),name=\"integer_series\")\n",
    "\n",
    "# Define a Pandera schema for the Series\n",
    "schema = pa.SeriesSchema(\n",
    "    pa.Int,  # Specify the data type as integer\n",
    "    nullable=False,  # Ensure there are no null values\n",
    "    name=\"integer_series\",  # Optional: name for the series\n",
    ")\n",
    "\n",
    "# Validate the Series\n",
    "validated_series = schema(series)\n",
    "\n",
    "# Print the validated Series\n",
    "display(validated_series)\n",
    "\n",
    "# Print the data type\n",
    "print(type(validated_series)) "
   ]
  },
  {
   "cell_type": "code",
   "execution_count": 3,
   "metadata": {},
   "outputs": [
    {
     "name": "stdout",
     "output_type": "stream",
     "text": [
      "a     1\n",
      "b     2\n",
      "c     3\n",
      "d     4\n",
      "e     5\n",
      "f     6\n",
      "g     7\n",
      "h     8\n",
      "i     9\n",
      "j    10\n",
      "dtype: int64\n"
     ]
    }
   ],
   "source": [
    "s2 = pd.Series({\n",
    "    \"a\": 1,\n",
    "    \"b\": 2,\n",
    "    \"c\": 3,\n",
    "    \"d\": 4,\n",
    "    \"e\": 5,\n",
    "    \"f\": 6,\n",
    "    \"g\": 7,\n",
    "    \"h\": 8,\n",
    "    \"i\": 9,\n",
    "    \"j\": 10\n",
    "})\n",
    "\n",
    "# Define a Pandera schema for the Series\n",
    "s2_schema = pa.SeriesSchema(\n",
    "    pa.Int,  # Specify the data type as integer\n",
    "    nullable=False,  # Ensure there are no null values\n",
    "    index=pa.Index(pa.String),  # Specify the index type as string\n",
    "    checks=[\n",
    "        pa.Check.in_range(min_value=1, max_value=10),  # Ensure values are between 1 and 10\n",
    "        # pa.Check(lambda s: s.sum() == 55, error=\"Sum of values must be 55\"),  # Custom check\n",
    "    ]\n",
    ")\n",
    "\n",
    "# Validate the Series\n",
    "validated_s2 = s2_schema(s2)\n",
    "\n",
    "# Print the validated Series\n",
    "print(validated_s2)"
   ]
  },
  {
   "cell_type": "code",
   "execution_count": 4,
   "metadata": {},
   "outputs": [
    {
     "name": "stdout",
     "output_type": "stream",
     "text": [
      "a    1\n",
      "b    2\n",
      "c    3\n",
      "d    4\n",
      "e    5\n",
      "dtype: int64\n"
     ]
    }
   ],
   "source": [
    "from typing import List \n",
    "values : List[int] = [1, 2, 3, 4, 5]\n",
    "index : List[str] = ['a', 'b', 'c', 'd', 'e']\n",
    "s1: pd.Series = pd.Series(values, index=index)\n",
    "print(s1) "
   ]
  },
  {
   "cell_type": "code",
   "execution_count": 5,
   "metadata": {},
   "outputs": [
    {
     "name": "stdout",
     "output_type": "stream",
     "text": [
      "a1  a    1\n",
      "    b    2\n",
      "    c    3\n",
      "b1  d    4\n",
      "    e    5\n",
      "Name: student_data, dtype: int64\n"
     ]
    }
   ],
   "source": [
    "from typing import List \n",
    "values : List[int] = [1, 2, 3, 4, 5]\n",
    "index : List[List[str]] = [['a1', 'a1', 'a1', 'b1', 'b1'], ['a', 'b', 'c', 'd', 'e']]\n",
    "s1: pd.Series = pd.Series(values, index=index, name='student_data')\n",
    "print(s1) "
   ]
  },
  {
   "cell_type": "code",
   "execution_count": 6,
   "metadata": {},
   "outputs": [
    {
     "data": {
      "text/plain": [
       "array([1, 2, 3, 4, 5])"
      ]
     },
     "execution_count": 6,
     "metadata": {},
     "output_type": "execute_result"
    }
   ],
   "source": [
    "import numpy as np\n",
    "\n",
    "values : List[np.int32] = np.array([1, 2, 3, 4, 5], dtype=np.int32)\n",
    "values"
   ]
  },
  {
   "cell_type": "code",
   "execution_count": 7,
   "metadata": {},
   "outputs": [
    {
     "data": {
      "text/html": [
       "<div>\n",
       "<style scoped>\n",
       "    .dataframe tbody tr th:only-of-type {\n",
       "        vertical-align: middle;\n",
       "    }\n",
       "\n",
       "    .dataframe tbody tr th {\n",
       "        vertical-align: top;\n",
       "    }\n",
       "\n",
       "    .dataframe thead th {\n",
       "        text-align: right;\n",
       "    }\n",
       "</style>\n",
       "<table border=\"1\" class=\"dataframe\">\n",
       "  <thead>\n",
       "    <tr style=\"text-align: right;\">\n",
       "      <th></th>\n",
       "      <th>id</th>\n",
       "      <th>name</th>\n",
       "      <th>cgpa</th>\n",
       "    </tr>\n",
       "  </thead>\n",
       "  <tbody>\n",
       "    <tr>\n",
       "      <th>0</th>\n",
       "      <td>1</td>\n",
       "      <td>Muhammad Ali</td>\n",
       "      <td>3.06</td>\n",
       "    </tr>\n",
       "    <tr>\n",
       "      <th>1</th>\n",
       "      <td>2</td>\n",
       "      <td>Anus</td>\n",
       "      <td>2.50</td>\n",
       "    </tr>\n",
       "    <tr>\n",
       "      <th>2</th>\n",
       "      <td>3</td>\n",
       "      <td>Maryam Jahangir</td>\n",
       "      <td>3.50</td>\n",
       "    </tr>\n",
       "    <tr>\n",
       "      <th>3</th>\n",
       "      <td>4</td>\n",
       "      <td>Eraj Rizvi</td>\n",
       "      <td>4.00</td>\n",
       "    </tr>\n",
       "    <tr>\n",
       "      <th>4</th>\n",
       "      <td>5</td>\n",
       "      <td>Yasir Abbas</td>\n",
       "      <td>2.70</td>\n",
       "    </tr>\n",
       "  </tbody>\n",
       "</table>\n",
       "</div>"
      ],
      "text/plain": [
       "   id             name  cgpa\n",
       "0   1     Muhammad Ali  3.06\n",
       "1   2             Anus  2.50\n",
       "2   3  Maryam Jahangir  3.50\n",
       "3   4       Eraj Rizvi  4.00\n",
       "4   5      Yasir Abbas  2.70"
      ]
     },
     "execution_count": 7,
     "metadata": {},
     "output_type": "execute_result"
    }
   ],
   "source": [
    "# Create a Dataframe using series\n",
    "s1:pd.Series = pd.Series([1, 2, 3, 4, 5], name='id')\n",
    "s2:pd.Series = pd.Series([3.06, 2.5, 3.5, 4.00, 2.7], name='cgpa')\n",
    "s3:pd.Series = pd.Series(['Muhammad Ali', 'Anus', 'Maryam Jahangir', 'Eraj Rizvi', 'Yasir Abbas'], name='name')\n",
    "df:pd.DataFrame = pd.DataFrame({'id': s1, 'name': s3, 'cgpa': s2})\n",
    "df"
   ]
  },
  {
   "cell_type": "code",
   "execution_count": 8,
   "metadata": {},
   "outputs": [
    {
     "data": {
      "text/html": [
       "<div>\n",
       "<style scoped>\n",
       "    .dataframe tbody tr th:only-of-type {\n",
       "        vertical-align: middle;\n",
       "    }\n",
       "\n",
       "    .dataframe tbody tr th {\n",
       "        vertical-align: top;\n",
       "    }\n",
       "\n",
       "    .dataframe thead th {\n",
       "        text-align: right;\n",
       "    }\n",
       "</style>\n",
       "<table border=\"1\" class=\"dataframe\">\n",
       "  <thead>\n",
       "    <tr style=\"text-align: right;\">\n",
       "      <th></th>\n",
       "      <th>id</th>\n",
       "      <th>name</th>\n",
       "      <th>cgpa</th>\n",
       "    </tr>\n",
       "  </thead>\n",
       "  <tbody>\n",
       "    <tr>\n",
       "      <th>0</th>\n",
       "      <td>1</td>\n",
       "      <td>Muhammad Ali</td>\n",
       "      <td>3.06</td>\n",
       "    </tr>\n",
       "    <tr>\n",
       "      <th>1</th>\n",
       "      <td>2</td>\n",
       "      <td>Anus</td>\n",
       "      <td>2.50</td>\n",
       "    </tr>\n",
       "    <tr>\n",
       "      <th>2</th>\n",
       "      <td>3</td>\n",
       "      <td>Maryam Jahangir</td>\n",
       "      <td>3.50</td>\n",
       "    </tr>\n",
       "    <tr>\n",
       "      <th>3</th>\n",
       "      <td>4</td>\n",
       "      <td>Eraj Rizvi</td>\n",
       "      <td>4.00</td>\n",
       "    </tr>\n",
       "    <tr>\n",
       "      <th>4</th>\n",
       "      <td>5</td>\n",
       "      <td>Yasir Abbas</td>\n",
       "      <td>2.70</td>\n",
       "    </tr>\n",
       "  </tbody>\n",
       "</table>\n",
       "</div>"
      ],
      "text/plain": [
       "   id             name  cgpa\n",
       "0   1     Muhammad Ali  3.06\n",
       "1   2             Anus  2.50\n",
       "2   3  Maryam Jahangir  3.50\n",
       "3   4       Eraj Rizvi  4.00\n",
       "4   5      Yasir Abbas  2.70"
      ]
     },
     "execution_count": 8,
     "metadata": {},
     "output_type": "execute_result"
    }
   ],
   "source": [
    "# Create a Dataframe using series\n",
    "s1:pd.Series = pd.Series([1, 2, 3, 4, 5], name='id')\n",
    "s2:pd.Series = pd.Series([3.06, 2.5, 3.5, 4.00, 2.7], name='cgpa')\n",
    "s3:pd.Series = pd.Series(['Muhammad Ali', 'Anus', 'Maryam Jahangir', 'Eraj Rizvi', 'Yasir Abbas'], name='name')\n",
    "df:pd.DataFrame = pd.concat([s1, s3,s2], axis=1)\n",
    "df"
   ]
  },
  {
   "cell_type": "code",
   "execution_count": 9,
   "metadata": {},
   "outputs": [],
   "source": [
    "from typing import Union\n",
    "data: List[List[Union[str, int]]] = [[1, 2, 3, 4, 5], [3.06, 2.5, 3.5, 4.00, 2.7], ['Muhammad Ali', 'Anus', 'Maryam Jahangir', 'Eraj Rizvi', 'Yasir Abbas']]"
   ]
  },
  {
   "cell_type": "code",
   "execution_count": 10,
   "metadata": {},
   "outputs": [
    {
     "data": {
      "text/html": [
       "<div>\n",
       "<style scoped>\n",
       "    .dataframe tbody tr th:only-of-type {\n",
       "        vertical-align: middle;\n",
       "    }\n",
       "\n",
       "    .dataframe tbody tr th {\n",
       "        vertical-align: top;\n",
       "    }\n",
       "\n",
       "    .dataframe thead th {\n",
       "        text-align: right;\n",
       "    }\n",
       "</style>\n",
       "<table border=\"1\" class=\"dataframe\">\n",
       "  <thead>\n",
       "    <tr style=\"text-align: right;\">\n",
       "      <th></th>\n",
       "      <th>id</th>\n",
       "      <th>cgpa</th>\n",
       "      <th>name</th>\n",
       "    </tr>\n",
       "  </thead>\n",
       "  <tbody>\n",
       "    <tr>\n",
       "      <th>0</th>\n",
       "      <td>1</td>\n",
       "      <td>3.06</td>\n",
       "      <td>Muhammad Ali</td>\n",
       "    </tr>\n",
       "    <tr>\n",
       "      <th>1</th>\n",
       "      <td>2</td>\n",
       "      <td>2.5</td>\n",
       "      <td>Anus</td>\n",
       "    </tr>\n",
       "    <tr>\n",
       "      <th>2</th>\n",
       "      <td>3</td>\n",
       "      <td>3.5</td>\n",
       "      <td>Maryam Jahangir</td>\n",
       "    </tr>\n",
       "    <tr>\n",
       "      <th>3</th>\n",
       "      <td>4</td>\n",
       "      <td>4.0</td>\n",
       "      <td>Eraj Rizvi</td>\n",
       "    </tr>\n",
       "    <tr>\n",
       "      <th>4</th>\n",
       "      <td>5</td>\n",
       "      <td>2.7</td>\n",
       "      <td>Yasir Abbas</td>\n",
       "    </tr>\n",
       "  </tbody>\n",
       "</table>\n",
       "</div>"
      ],
      "text/plain": [
       "  id  cgpa             name\n",
       "0  1  3.06     Muhammad Ali\n",
       "1  2   2.5             Anus\n",
       "2  3   3.5  Maryam Jahangir\n",
       "3  4   4.0       Eraj Rizvi\n",
       "4  5   2.7      Yasir Abbas"
      ]
     },
     "execution_count": 10,
     "metadata": {},
     "output_type": "execute_result"
    }
   ],
   "source": [
    "df = pd.DataFrame(data)\n",
    "df = df.transpose()\n",
    "df.columns = ['id', 'cgpa', 'name']\n",
    "df"
   ]
  },
  {
   "cell_type": "code",
   "execution_count": 11,
   "metadata": {},
   "outputs": [
    {
     "data": {
      "text/html": [
       "<div>\n",
       "<style scoped>\n",
       "    .dataframe tbody tr th:only-of-type {\n",
       "        vertical-align: middle;\n",
       "    }\n",
       "\n",
       "    .dataframe tbody tr th {\n",
       "        vertical-align: top;\n",
       "    }\n",
       "\n",
       "    .dataframe thead th {\n",
       "        text-align: right;\n",
       "    }\n",
       "</style>\n",
       "<table border=\"1\" class=\"dataframe\">\n",
       "  <thead>\n",
       "    <tr style=\"text-align: right;\">\n",
       "      <th></th>\n",
       "      <th>id</th>\n",
       "      <th>name</th>\n",
       "      <th>cgpa</th>\n",
       "    </tr>\n",
       "  </thead>\n",
       "  <tbody>\n",
       "    <tr>\n",
       "      <th>42201</th>\n",
       "      <td>1</td>\n",
       "      <td>Muhammad Ali</td>\n",
       "      <td>3.06</td>\n",
       "    </tr>\n",
       "    <tr>\n",
       "      <th>42202</th>\n",
       "      <td>2</td>\n",
       "      <td>Anus</td>\n",
       "      <td>2.50</td>\n",
       "    </tr>\n",
       "    <tr>\n",
       "      <th>42203</th>\n",
       "      <td>3</td>\n",
       "      <td>Maryam Jahangir</td>\n",
       "      <td>3.50</td>\n",
       "    </tr>\n",
       "    <tr>\n",
       "      <th>42204</th>\n",
       "      <td>4</td>\n",
       "      <td>Eraj Rizvi</td>\n",
       "      <td>4.00</td>\n",
       "    </tr>\n",
       "    <tr>\n",
       "      <th>42205</th>\n",
       "      <td>5</td>\n",
       "      <td>Yasir Abbas</td>\n",
       "      <td>2.70</td>\n",
       "    </tr>\n",
       "  </tbody>\n",
       "</table>\n",
       "</div>"
      ],
      "text/plain": [
       "       id             name  cgpa\n",
       "42201   1     Muhammad Ali  3.06\n",
       "42202   2             Anus  2.50\n",
       "42203   3  Maryam Jahangir  3.50\n",
       "42204   4       Eraj Rizvi  4.00\n",
       "42205   5      Yasir Abbas  2.70"
      ]
     },
     "execution_count": 11,
     "metadata": {},
     "output_type": "execute_result"
    }
   ],
   "source": [
    "# Create a Dataframe using series\n",
    "s1:pd.Series = pd.Series([1, 2, 3, 4, 5], name='id')\n",
    "s2:pd.Series = pd.Series([3.06, 2.5, 3.5, 4.00, 2.7], name='cgpa')\n",
    "s3:pd.Series = pd.Series(['Muhammad Ali', 'Anus', 'Maryam Jahangir', 'Eraj Rizvi', 'Yasir Abbas'], name='name')\n",
    "df:pd.DataFrame = pd.DataFrame({'id': s1, 'name': s3, 'cgpa': s2}, columns=['id', 'name', 'cgpa'])\n",
    "df.index = ['42201', '42202', '42203', '42204', '42205']\n",
    "df"
   ]
  },
  {
   "cell_type": "code",
   "execution_count": 12,
   "metadata": {},
   "outputs": [
    {
     "data": {
      "text/plain": [
       "Index(['id', 'name', 'cgpa'], dtype='object')"
      ]
     },
     "execution_count": 12,
     "metadata": {},
     "output_type": "execute_result"
    }
   ],
   "source": [
    "df.columns"
   ]
  },
  {
   "cell_type": "code",
   "execution_count": 13,
   "metadata": {},
   "outputs": [
    {
     "data": {
      "text/plain": [
       "Index(['42201', '42202', '42203', '42204', '42205'], dtype='object')"
      ]
     },
     "execution_count": 13,
     "metadata": {},
     "output_type": "execute_result"
    }
   ],
   "source": [
    "df.index"
   ]
  },
  {
   "cell_type": "code",
   "execution_count": 14,
   "metadata": {},
   "outputs": [
    {
     "data": {
      "text/plain": [
       "array([[1, 'Muhammad Ali', 3.06],\n",
       "       [2, 'Anus', 2.5],\n",
       "       [3, 'Maryam Jahangir', 3.5],\n",
       "       [4, 'Eraj Rizvi', 4.0],\n",
       "       [5, 'Yasir Abbas', 2.7]], dtype=object)"
      ]
     },
     "execution_count": 14,
     "metadata": {},
     "output_type": "execute_result"
    }
   ],
   "source": [
    "df.values"
   ]
  },
  {
   "cell_type": "code",
   "execution_count": 15,
   "metadata": {},
   "outputs": [
    {
     "data": {
      "text/html": [
       "<div>\n",
       "<style scoped>\n",
       "    .dataframe tbody tr th:only-of-type {\n",
       "        vertical-align: middle;\n",
       "    }\n",
       "\n",
       "    .dataframe tbody tr th {\n",
       "        vertical-align: top;\n",
       "    }\n",
       "\n",
       "    .dataframe thead th {\n",
       "        text-align: right;\n",
       "    }\n",
       "</style>\n",
       "<table border=\"1\" class=\"dataframe\">\n",
       "  <thead>\n",
       "    <tr style=\"text-align: right;\">\n",
       "      <th></th>\n",
       "      <th>a</th>\n",
       "      <th>b</th>\n",
       "      <th>c</th>\n",
       "      <th>d</th>\n",
       "      <th>e</th>\n",
       "      <th>f</th>\n",
       "      <th>g</th>\n",
       "      <th>h</th>\n",
       "      <th>i</th>\n",
       "      <th>j</th>\n",
       "    </tr>\n",
       "  </thead>\n",
       "  <tbody>\n",
       "    <tr>\n",
       "      <th>0</th>\n",
       "      <td>0</td>\n",
       "      <td>1</td>\n",
       "      <td>2</td>\n",
       "      <td>3</td>\n",
       "      <td>4</td>\n",
       "      <td>5</td>\n",
       "      <td>6</td>\n",
       "      <td>7</td>\n",
       "      <td>8</td>\n",
       "      <td>9</td>\n",
       "    </tr>\n",
       "    <tr>\n",
       "      <th>1</th>\n",
       "      <td>10</td>\n",
       "      <td>11</td>\n",
       "      <td>12</td>\n",
       "      <td>13</td>\n",
       "      <td>14</td>\n",
       "      <td>15</td>\n",
       "      <td>16</td>\n",
       "      <td>17</td>\n",
       "      <td>18</td>\n",
       "      <td>19</td>\n",
       "    </tr>\n",
       "    <tr>\n",
       "      <th>2</th>\n",
       "      <td>20</td>\n",
       "      <td>21</td>\n",
       "      <td>22</td>\n",
       "      <td>23</td>\n",
       "      <td>24</td>\n",
       "      <td>25</td>\n",
       "      <td>26</td>\n",
       "      <td>27</td>\n",
       "      <td>28</td>\n",
       "      <td>29</td>\n",
       "    </tr>\n",
       "    <tr>\n",
       "      <th>3</th>\n",
       "      <td>30</td>\n",
       "      <td>31</td>\n",
       "      <td>32</td>\n",
       "      <td>33</td>\n",
       "      <td>34</td>\n",
       "      <td>35</td>\n",
       "      <td>36</td>\n",
       "      <td>37</td>\n",
       "      <td>38</td>\n",
       "      <td>39</td>\n",
       "    </tr>\n",
       "    <tr>\n",
       "      <th>4</th>\n",
       "      <td>40</td>\n",
       "      <td>41</td>\n",
       "      <td>42</td>\n",
       "      <td>43</td>\n",
       "      <td>44</td>\n",
       "      <td>45</td>\n",
       "      <td>46</td>\n",
       "      <td>47</td>\n",
       "      <td>48</td>\n",
       "      <td>49</td>\n",
       "    </tr>\n",
       "    <tr>\n",
       "      <th>5</th>\n",
       "      <td>50</td>\n",
       "      <td>51</td>\n",
       "      <td>52</td>\n",
       "      <td>53</td>\n",
       "      <td>54</td>\n",
       "      <td>55</td>\n",
       "      <td>56</td>\n",
       "      <td>57</td>\n",
       "      <td>58</td>\n",
       "      <td>59</td>\n",
       "    </tr>\n",
       "    <tr>\n",
       "      <th>6</th>\n",
       "      <td>60</td>\n",
       "      <td>61</td>\n",
       "      <td>62</td>\n",
       "      <td>63</td>\n",
       "      <td>64</td>\n",
       "      <td>65</td>\n",
       "      <td>66</td>\n",
       "      <td>67</td>\n",
       "      <td>68</td>\n",
       "      <td>69</td>\n",
       "    </tr>\n",
       "    <tr>\n",
       "      <th>7</th>\n",
       "      <td>70</td>\n",
       "      <td>71</td>\n",
       "      <td>72</td>\n",
       "      <td>73</td>\n",
       "      <td>74</td>\n",
       "      <td>75</td>\n",
       "      <td>76</td>\n",
       "      <td>77</td>\n",
       "      <td>78</td>\n",
       "      <td>79</td>\n",
       "    </tr>\n",
       "    <tr>\n",
       "      <th>8</th>\n",
       "      <td>80</td>\n",
       "      <td>81</td>\n",
       "      <td>82</td>\n",
       "      <td>83</td>\n",
       "      <td>84</td>\n",
       "      <td>85</td>\n",
       "      <td>86</td>\n",
       "      <td>87</td>\n",
       "      <td>88</td>\n",
       "      <td>89</td>\n",
       "    </tr>\n",
       "    <tr>\n",
       "      <th>9</th>\n",
       "      <td>90</td>\n",
       "      <td>91</td>\n",
       "      <td>92</td>\n",
       "      <td>93</td>\n",
       "      <td>94</td>\n",
       "      <td>95</td>\n",
       "      <td>96</td>\n",
       "      <td>97</td>\n",
       "      <td>98</td>\n",
       "      <td>99</td>\n",
       "    </tr>\n",
       "  </tbody>\n",
       "</table>\n",
       "</div>"
      ],
      "text/plain": [
       "    a   b   c   d   e   f   g   h   i   j\n",
       "0   0   1   2   3   4   5   6   7   8   9\n",
       "1  10  11  12  13  14  15  16  17  18  19\n",
       "2  20  21  22  23  24  25  26  27  28  29\n",
       "3  30  31  32  33  34  35  36  37  38  39\n",
       "4  40  41  42  43  44  45  46  47  48  49\n",
       "5  50  51  52  53  54  55  56  57  58  59\n",
       "6  60  61  62  63  64  65  66  67  68  69\n",
       "7  70  71  72  73  74  75  76  77  78  79\n",
       "8  80  81  82  83  84  85  86  87  88  89\n",
       "9  90  91  92  93  94  95  96  97  98  99"
      ]
     },
     "execution_count": 15,
     "metadata": {},
     "output_type": "execute_result"
    }
   ],
   "source": [
    "from nptyping import NDArray, Shape, Int64 \n",
    "data: NDArray[Shape['Size,Size'], Int64] = np.arange(10 * 10).reshape(10, 10)\n",
    "df:pd.DataFrame =  pd.DataFrame(data, columns=list('abcdefghij'))\n",
    "df"
   ]
  },
  {
   "cell_type": "code",
   "execution_count": 16,
   "metadata": {},
   "outputs": [
    {
     "data": {
      "text/html": [
       "<div>\n",
       "<style scoped>\n",
       "    .dataframe tbody tr th:only-of-type {\n",
       "        vertical-align: middle;\n",
       "    }\n",
       "\n",
       "    .dataframe tbody tr th {\n",
       "        vertical-align: top;\n",
       "    }\n",
       "\n",
       "    .dataframe thead th {\n",
       "        text-align: right;\n",
       "    }\n",
       "</style>\n",
       "<table border=\"1\" class=\"dataframe\">\n",
       "  <thead>\n",
       "    <tr style=\"text-align: right;\">\n",
       "      <th></th>\n",
       "      <th>Operator</th>\n",
       "      <th>Name</th>\n",
       "      <th>Example</th>\n",
       "      <th>Try it</th>\n",
       "    </tr>\n",
       "  </thead>\n",
       "  <tbody>\n",
       "    <tr>\n",
       "      <th>0</th>\n",
       "      <td>+</td>\n",
       "      <td>Addition</td>\n",
       "      <td>x + y</td>\n",
       "      <td>Try it »</td>\n",
       "    </tr>\n",
       "    <tr>\n",
       "      <th>1</th>\n",
       "      <td>-</td>\n",
       "      <td>Subtraction</td>\n",
       "      <td>x - y</td>\n",
       "      <td>Try it »</td>\n",
       "    </tr>\n",
       "    <tr>\n",
       "      <th>2</th>\n",
       "      <td>*</td>\n",
       "      <td>Multiplication</td>\n",
       "      <td>x * y</td>\n",
       "      <td>Try it »</td>\n",
       "    </tr>\n",
       "    <tr>\n",
       "      <th>3</th>\n",
       "      <td>/</td>\n",
       "      <td>Division</td>\n",
       "      <td>x / y</td>\n",
       "      <td>Try it »</td>\n",
       "    </tr>\n",
       "    <tr>\n",
       "      <th>4</th>\n",
       "      <td>%</td>\n",
       "      <td>Modulus</td>\n",
       "      <td>x % y</td>\n",
       "      <td>Try it »</td>\n",
       "    </tr>\n",
       "    <tr>\n",
       "      <th>5</th>\n",
       "      <td>**</td>\n",
       "      <td>Exponentiation</td>\n",
       "      <td>x ** y</td>\n",
       "      <td>Try it »</td>\n",
       "    </tr>\n",
       "    <tr>\n",
       "      <th>6</th>\n",
       "      <td>//</td>\n",
       "      <td>Floor division</td>\n",
       "      <td>x // y</td>\n",
       "      <td>Try it »</td>\n",
       "    </tr>\n",
       "  </tbody>\n",
       "</table>\n",
       "</div>"
      ],
      "text/plain": [
       "  Operator            Name Example    Try it\n",
       "0        +        Addition   x + y  Try it »\n",
       "1        -     Subtraction   x - y  Try it »\n",
       "2        *  Multiplication   x * y  Try it »\n",
       "3        /        Division   x / y  Try it »\n",
       "4        %         Modulus   x % y  Try it »\n",
       "5       **  Exponentiation  x ** y  Try it »\n",
       "6       //  Floor division  x // y  Try it »"
      ]
     },
     "execution_count": 16,
     "metadata": {},
     "output_type": "execute_result"
    }
   ],
   "source": [
    "df:List[pd.DataFrame] = pd.read_html('https://www.w3schools.com/python/python_operators.asp')\n",
    "df[0]"
   ]
  },
  {
   "cell_type": "code",
   "execution_count": 17,
   "metadata": {},
   "outputs": [
    {
     "data": {
      "text/html": [
       "<div>\n",
       "<style scoped>\n",
       "    .dataframe tbody tr th:only-of-type {\n",
       "        vertical-align: middle;\n",
       "    }\n",
       "\n",
       "    .dataframe tbody tr th {\n",
       "        vertical-align: top;\n",
       "    }\n",
       "\n",
       "    .dataframe thead th {\n",
       "        text-align: right;\n",
       "    }\n",
       "</style>\n",
       "<table border=\"1\" class=\"dataframe\">\n",
       "  <thead>\n",
       "    <tr style=\"text-align: right;\">\n",
       "      <th></th>\n",
       "      <th>Duration</th>\n",
       "      <th>Pulse</th>\n",
       "      <th>Maxpulse</th>\n",
       "      <th>Calories</th>\n",
       "    </tr>\n",
       "  </thead>\n",
       "  <tbody>\n",
       "    <tr>\n",
       "      <th>0</th>\n",
       "      <td>60</td>\n",
       "      <td>110</td>\n",
       "      <td>130</td>\n",
       "      <td>409.1</td>\n",
       "    </tr>\n",
       "    <tr>\n",
       "      <th>1</th>\n",
       "      <td>60</td>\n",
       "      <td>117</td>\n",
       "      <td>145</td>\n",
       "      <td>479.0</td>\n",
       "    </tr>\n",
       "    <tr>\n",
       "      <th>2</th>\n",
       "      <td>60</td>\n",
       "      <td>103</td>\n",
       "      <td>135</td>\n",
       "      <td>340.0</td>\n",
       "    </tr>\n",
       "    <tr>\n",
       "      <th>3</th>\n",
       "      <td>45</td>\n",
       "      <td>109</td>\n",
       "      <td>175</td>\n",
       "      <td>282.4</td>\n",
       "    </tr>\n",
       "    <tr>\n",
       "      <th>4</th>\n",
       "      <td>45</td>\n",
       "      <td>117</td>\n",
       "      <td>148</td>\n",
       "      <td>406.0</td>\n",
       "    </tr>\n",
       "  </tbody>\n",
       "</table>\n",
       "</div>"
      ],
      "text/plain": [
       "   Duration  Pulse  Maxpulse  Calories\n",
       "0        60    110       130     409.1\n",
       "1        60    117       145     479.0\n",
       "2        60    103       135     340.0\n",
       "3        45    109       175     282.4\n",
       "4        45    117       148     406.0"
      ]
     },
     "execution_count": 17,
     "metadata": {},
     "output_type": "execute_result"
    }
   ],
   "source": [
    "# URL of the JSON data\n",
    "url = 'https://www.w3schools.com/python/pandas/data.js'\n",
    "\n",
    "# Read JSON directly into a DataFrame\n",
    "df: pd.DataFrame = pd.read_json(url)\n",
    "\n",
    "# Display the DataFrame\n",
    "df.head()"
   ]
  },
  {
   "cell_type": "code",
   "execution_count": 18,
   "metadata": {},
   "outputs": [
    {
     "name": "stdout",
     "output_type": "stream",
     "text": [
      "       id  cgpa             name\n",
      "42201   1  3.06     Muhammad Ali\n",
      "42202   2  2.50             Anus\n",
      "42203   3  3.50  Maryam Jahangir\n",
      "42204   4  4.00       Eraj Rizvi\n",
      "42205   5  2.70      Yasir Abbas\n"
     ]
    }
   ],
   "source": [
    "df:pd.DataFrame = pd.DataFrame(\n",
    "    {\n",
    "        'id': [1, 2, 3, 4, 5], \n",
    "        'cgpa': [3.06, 2.5, 3.5, 4.00, 2.7], \n",
    "        'name': ['Muhammad Ali', 'Anus', 'Maryam Jahangir', 'Eraj Rizvi', 'Yasir Abbas']\n",
    "    }, \n",
    "    columns=['id', 'cgpa', 'name']\n",
    ")\n",
    "df.index = ['42201', '42202', '42203', '42204', '42205']\n",
    "\n",
    "# Define the schema using Pandera's DataFrameSchema\n",
    "schema = pa.DataFrameSchema(\n",
    "    {\n",
    "        # Column 'id': Integer type with unique constraint\n",
    "        'id': pa.Column(int, checks=pa.Check.in_range(1, 5), unique=True, nullable=False),\n",
    "\n",
    "        # Column 'name': Float type with range constraint\n",
    "        'name': pa.Column(str,  nullable=False),\n",
    "\n",
    "        # Column 'cgpa': String type\n",
    "        'cgpa': pa.Column(float, checks=pa.Check.in_range(0.0, 5.0), nullable=False)\n",
    "    },\n",
    "    index=pa.Index(str, name=None),\n",
    "    strict=True, # Ensures no extra columns are present\n",
    "    coerce=True  # Automatically converts data to match schema types\n",
    ")\n",
    "\n",
    "# Validate the DataFrame against the schema\n",
    "# collects all validation errors and reports them simultaneously, rather than stopping at the first error. \n",
    "validated_df = schema.validate(df, lazy=True)\n",
    "\n",
    "# Display the validated DataFrame\n",
    "print(validated_df)"
   ]
  },
  {
   "cell_type": "code",
   "execution_count": 19,
   "metadata": {},
   "outputs": [
    {
     "name": "stdout",
     "output_type": "stream",
     "text": [
      "['__annotations__', '__builtins__', '__call__', '__class__', '__closure__', '__code__', '__defaults__', '__delattr__', '__dict__', '__dir__', '__doc__', '__eq__', '__format__', '__ge__', '__get__', '__getattribute__', '__getstate__', '__globals__', '__gt__', '__hash__', '__init__', '__init_subclass__', '__kwdefaults__', '__le__', '__lt__', '__module__', '__name__', '__ne__', '__new__', '__qualname__', '__reduce__', '__reduce_ex__', '__repr__', '__setattr__', '__sizeof__', '__str__', '__subclasshook__', '__type_params__']\n"
     ]
    }
   ],
   "source": [
    "print(dir(pa.check))"
   ]
  },
  {
   "cell_type": "code",
   "execution_count": 20,
   "metadata": {},
   "outputs": [
    {
     "name": "stdout",
     "output_type": "stream",
     "text": [
      "0     1\n",
      "1     2\n",
      "2     3\n",
      "3     4\n",
      "4     5\n",
      "5     6\n",
      "6     7\n",
      "7     8\n",
      "8     9\n",
      "9    10\n",
      "dtype: int64\n",
      "1    2\n",
      "2    3\n",
      "3    4\n",
      "dtype: int64\n"
     ]
    }
   ],
   "source": [
    "s1: pd.Series = pd.Series(list(range(1, 11)))\n",
    "print(s1)\n",
    "print(s1[1:4])"
   ]
  },
  {
   "cell_type": "code",
   "execution_count": 21,
   "metadata": {},
   "outputs": [
    {
     "name": "stdout",
     "output_type": "stream",
     "text": [
      "0     1\n",
      "1     2\n",
      "2     3\n",
      "3     4\n",
      "4     5\n",
      "5     6\n",
      "6     7\n",
      "7     8\n",
      "8     9\n",
      "9    10\n",
      "dtype: int64\n",
      "1    2\n",
      "2    3\n",
      "3    4\n",
      "dtype: int64\n",
      "1    2\n",
      "3    4\n",
      "dtype: int64\n"
     ]
    }
   ],
   "source": [
    "s1: pd.Series = pd.Series(list(range(1, 11)))\n",
    "print(s1)\n",
    "print(s1.iloc[1:4])\n",
    "print(s1.iloc[1:4:2])"
   ]
  },
  {
   "cell_type": "code",
   "execution_count": 22,
   "metadata": {},
   "outputs": [
    {
     "name": "stdout",
     "output_type": "stream",
     "text": [
      "DataFrame:\n",
      "\n",
      "       id             name  cgpa\n",
      "42201   1     Muhammad Ali  3.06\n",
      "42202   2             Anus  2.50\n",
      "42203   3  Maryam Jahangir  3.50\n",
      "42204   4       Eraj Rizvi  4.00\n",
      "42205   5      Yasir Abbas  2.70\n",
      "\n",
      "df.iloc[1:4]:\n",
      "\n",
      "       id             name  cgpa\n",
      "42202   2             Anus   2.5\n",
      "42203   3  Maryam Jahangir   3.5\n",
      "42204   4       Eraj Rizvi   4.0\n",
      "\n",
      "df.iloc[1:4, [0,2]]:\n",
      "\n",
      "       id  cgpa\n",
      "42202   2   2.5\n",
      "42203   3   3.5\n",
      "42204   4   4.0\n",
      "\n"
     ]
    }
   ],
   "source": [
    "# Create a Dataframe using series\n",
    "s1:pd.Series = pd.Series([1, 2, 3, 4, 5], name='id')\n",
    "s2:pd.Series = pd.Series([3.06, 2.5, 3.5, 4.00, 2.7], name='cgpa')\n",
    "s3:pd.Series = pd.Series(['Muhammad Ali', 'Anus', 'Maryam Jahangir', 'Eraj Rizvi', 'Yasir Abbas'], name='name')\n",
    "df:pd.DataFrame = pd.DataFrame({'id': s1, 'name': s3, 'cgpa': s2}, columns=['id', 'name', 'cgpa'])\n",
    "df.index = ['42201', '42202', '42203', '42204', '42205']\n",
    "print(f'DataFrame:\\n\\n{df}\\n')\n",
    "print(f'df.iloc[1:4]:\\n\\n{df.iloc[1:4]}\\n')\n",
    "print(f'df.iloc[1:4, [0,2]]:\\n\\n{df.iloc[1:4, [0,2]]}\\n')"
   ]
  },
  {
   "cell_type": "code",
   "execution_count": 23,
   "metadata": {},
   "outputs": [
    {
     "name": "stdout",
     "output_type": "stream",
     "text": [
      "df.loc[['42202','42205'], ['name', 'cgpa']]:\n",
      "\n",
      "              name  cgpa\n",
      "42202         Anus   2.5\n",
      "42205  Yasir Abbas   2.7\n",
      "\n",
      "df['name'].at['42202']:\n",
      "\n",
      "Anus\n"
     ]
    }
   ],
   "source": [
    "print(f\"df.loc[['42202','42205'], ['name', 'cgpa']]:\\n\\n{df.loc[['42202','42205'], ['name', 'cgpa']]}\\n\")\n",
    "# print(f\"df.loc[[1, 4], ['name', 'cgpa']]:\\n\\n{df.loc[[1, 4], ['name', 'cgpa']]}\\n\")\n",
    "print(f\"df['name'].at['42202']:\\n\\n{df['name'].at['42202']}\")"
   ]
  },
  {
   "cell_type": "code",
   "execution_count": 24,
   "metadata": {},
   "outputs": [
    {
     "data": {
      "text/plain": [
       "['PIAIC80919',\n",
       " 'PIAIC80919',\n",
       " 'PIAIC80919',\n",
       " 'PIAIC80919',\n",
       " 'PIAIC80919',\n",
       " 'PIAIC80919',\n",
       " 'PIAIC101499',\n",
       " 'PIAIC123456',\n",
       " 'PIAIC73919',\n",
       " 'PIAIC73919',\n",
       " 'PIAIC210905',\n",
       " 'PIAIC120702',\n",
       " 'PIAIC218333',\n",
       " 'PIAIC139495',\n",
       " 'PIAIC58320']"
      ]
     },
     "execution_count": 24,
     "metadata": {},
     "output_type": "execute_result"
    }
   ],
   "source": [
    "import re\n",
    "with open('./chat_contain_roll_no.txt', encoding='utf-8') as f:\n",
    "    file_content = f.read()\n",
    "re.findall(r'PIAIC\\s?\\d{5,6}', file_content)"
   ]
  },
  {
   "cell_type": "code",
   "execution_count": 52,
   "metadata": {},
   "outputs": [
    {
     "data": {
      "text/plain": [
       "[('20:03:10', 'Dr. Ghulam Shabbir', 'PIAIC80919'),\n",
       " ('21:01:33', 'Faizan Hassan', 'PIAIC80919'),\n",
       " ('21:02:26', 'Taif Ullah', 'PIAIC80919'),\n",
       " ('21:04:42', 'Amanat Wattoo', 'PIAIC80919'),\n",
       " ('21:06:00', 'Amanat Wattoo', 'PIAIC80919'),\n",
       " ('21:09:50', 'Yasir', 'PIAIC80919'),\n",
       " ('21:32:29', 'Ali Zar FSD', 'PIAIC-173738'),\n",
       " ('21:41:51', 'Hamza', 'PIAIC-201785'),\n",
       " ('21:41:52', 'jhon wick', 'piaic 223880'),\n",
       " ('21:41:54', 'Hina Zargham', 'PIAIC101499'),\n",
       " ('21:41:54', 'Hatif Humayun', 'PIAIC-52822'),\n",
       " ('21:41:54', 'Ahmed Siddiqui', 'PIAIC123456'),\n",
       " ('21:41:56', 'Arif Najmi', 'PIAIC73919'),\n",
       " ('21:42:00', 'STONE', 'PIAIC_126369'),\n",
       " ('21:42:03', '.', 'PIAIC210905'),\n",
       " ('21:42:06', 'ABDUL KHALIQ', 'PIAIC-604031'),\n",
       " ('21:42:11', 'Arshad Siddiqui', 'PIAIC120702'),\n",
       " ('21:42:13', 'Ali Zar FSD', 'PIaic 223972'),\n",
       " ('21:42:13', 'Azfar Suhail', 'PIAIC218333'),\n",
       " ('21:42:14', 'Kamran Ahmed', 'PIAIC139495'),\n",
       " ('21:42:18', 'Ahmed', 'PIAIC-225620'),\n",
       " ('21:42:25', 'Kamal Hassan', 'PIAIC58320'),\n",
       " ('21:42:29', 'Ahmed', 'PIAIC-2165111')]"
      ]
     },
     "execution_count": 52,
     "metadata": {},
     "output_type": "execute_result"
    }
   ],
   "source": [
    "import re\n",
    "with open('./chat_contain_roll_no.txt', encoding='utf-8') as f:\n",
    "    file_content = f.read()\n",
    "\n",
    "# Regular expression pattern to capture time, name, and PIAIC roll number\n",
    "pattern = r\"(\\d{2}:\\d{2}:\\d{2}) From (.*?) to Everyone:\\s+.*?(\\bPIAIC[-_ ]?\\d+|\\bPIAIC\\d+|\\bPIaic\\s?\\d+|\\bPIAIC\\d+)\\b\"\n",
    "\n",
    "# Find all matches\n",
    "matches = re.findall(pattern, file_content, re.IGNORECASE | re.DOTALL)\n",
    "matches"
   ]
  },
  {
   "cell_type": "code",
   "execution_count": 54,
   "metadata": {},
   "outputs": [
    {
     "data": {
      "text/html": [
       "<div>\n",
       "<style scoped>\n",
       "    .dataframe tbody tr th:only-of-type {\n",
       "        vertical-align: middle;\n",
       "    }\n",
       "\n",
       "    .dataframe tbody tr th {\n",
       "        vertical-align: top;\n",
       "    }\n",
       "\n",
       "    .dataframe thead th {\n",
       "        text-align: right;\n",
       "    }\n",
       "</style>\n",
       "<table border=\"1\" class=\"dataframe\">\n",
       "  <thead>\n",
       "    <tr style=\"text-align: right;\">\n",
       "      <th></th>\n",
       "      <th>time</th>\n",
       "      <th>name</th>\n",
       "      <th>roll_no</th>\n",
       "    </tr>\n",
       "  </thead>\n",
       "  <tbody>\n",
       "    <tr>\n",
       "      <th>0</th>\n",
       "      <td>20:03:10</td>\n",
       "      <td>Dr. Ghulam Shabbir</td>\n",
       "      <td>PIAIC80919</td>\n",
       "    </tr>\n",
       "    <tr>\n",
       "      <th>1</th>\n",
       "      <td>21:01:33</td>\n",
       "      <td>Faizan Hassan</td>\n",
       "      <td>PIAIC80919</td>\n",
       "    </tr>\n",
       "    <tr>\n",
       "      <th>2</th>\n",
       "      <td>21:02:26</td>\n",
       "      <td>Taif Ullah</td>\n",
       "      <td>PIAIC80919</td>\n",
       "    </tr>\n",
       "    <tr>\n",
       "      <th>3</th>\n",
       "      <td>21:04:42</td>\n",
       "      <td>Amanat Wattoo</td>\n",
       "      <td>PIAIC80919</td>\n",
       "    </tr>\n",
       "    <tr>\n",
       "      <th>4</th>\n",
       "      <td>21:06:00</td>\n",
       "      <td>Amanat Wattoo</td>\n",
       "      <td>PIAIC80919</td>\n",
       "    </tr>\n",
       "  </tbody>\n",
       "</table>\n",
       "</div>"
      ],
      "text/plain": [
       "       time                name     roll_no\n",
       "0  20:03:10  Dr. Ghulam Shabbir  PIAIC80919\n",
       "1  21:01:33       Faizan Hassan  PIAIC80919\n",
       "2  21:02:26          Taif Ullah  PIAIC80919\n",
       "3  21:04:42       Amanat Wattoo  PIAIC80919\n",
       "4  21:06:00       Amanat Wattoo  PIAIC80919"
      ]
     },
     "execution_count": 54,
     "metadata": {},
     "output_type": "execute_result"
    }
   ],
   "source": [
    "df:pd.DataFrame = pd.DataFrame(matches, columns=['time', 'name', 'roll_no'])\n",
    "df.head()"
   ]
  }
 ],
 "metadata": {
  "kernelspec": {
   "display_name": "Python 3 (ipykernel)",
   "language": "python",
   "name": "python3"
  },
  "language_info": {
   "codemirror_mode": {
    "name": "ipython",
    "version": 3
   },
   "file_extension": ".py",
   "mimetype": "text/x-python",
   "name": "python",
   "nbconvert_exporter": "python",
   "pygments_lexer": "ipython3",
   "version": "3.12.4"
  }
 },
 "nbformat": 4,
 "nbformat_minor": 4
}
