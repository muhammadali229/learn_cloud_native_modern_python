{
 "cells": [
  {
   "cell_type": "code",
   "execution_count": 1,
   "id": "3dc99e58-9296-4336-889f-72e124705497",
   "metadata": {},
   "outputs": [
    {
     "name": "stdout",
     "output_type": "stream",
     "text": [
      "Pakistan\n"
     ]
    },
    {
     "data": {
      "text/plain": [
       "None"
      ]
     },
     "metadata": {},
     "output_type": "display_data"
    }
   ],
   "source": [
    "# Return and non retrun functions\n",
    "a: str = print('Pakistan') # print returns nothing\n",
    "display(a)"
   ]
  },
  {
   "cell_type": "code",
   "execution_count": 2,
   "id": "94180971-ad1c-4ba6-a1b6-2f162f9efef7",
   "metadata": {},
   "outputs": [
    {
     "name": "stdout",
     "output_type": "stream",
     "text": [
      "8\n"
     ]
    }
   ],
   "source": [
    "a:int = len('Pakistan') # len returns\n",
    "print(a)"
   ]
  },
  {
   "cell_type": "code",
   "execution_count": 3,
   "id": "142469cf-1554-4e3f-a0b2-629884930ef9",
   "metadata": {},
   "outputs": [
    {
     "name": "stdout",
     "output_type": "stream",
     "text": [
      "Generative AI Course\n",
      "Python Crash Course\n"
     ]
    }
   ],
   "source": [
    "# create simple function without any argument and returns nothing\n",
    "def piaic()->None:\n",
    "    print('Generative AI Course\\nPython Crash Course')\n",
    "piaic()"
   ]
  },
  {
   "cell_type": "code",
   "execution_count": 4,
   "id": "156cfcd1-5484-4101-affc-78df6df3c2d1",
   "metadata": {},
   "outputs": [
    {
     "name": "stdout",
     "output_type": "stream",
     "text": [
      "Generative AI Course\n",
      "Python Crash Course\n",
      "Generative AI Course\n",
      "Python Crash Course\n",
      "Generative AI Course\n",
      "Python Crash Course\n"
     ]
    }
   ],
   "source": [
    "for i in range(3):\n",
    "    piaic()"
   ]
  },
  {
   "cell_type": "code",
   "execution_count": 5,
   "id": "1701ddbc-9f6a-4edc-a07d-114fb32d561d",
   "metadata": {},
   "outputs": [
    {
     "data": {
      "text/plain": [
       "3"
      ]
     },
     "execution_count": 5,
     "metadata": {},
     "output_type": "execute_result"
    }
   ],
   "source": [
    "# function with parameters, args and return \n",
    "def add_2_numbers(a:int, b:int)-> int:\n",
    "    return a + b\n",
    "add_2_numbers(1, 2)"
   ]
  },
  {
   "cell_type": "code",
   "execution_count": 6,
   "id": "2b10c90d-1a8a-45a3-9799-da99f503a14a",
   "metadata": {},
   "outputs": [],
   "source": [
    "# if func call with 1 arg it gives an error\n",
    "# add_2_numbers(1)"
   ]
  },
  {
   "cell_type": "code",
   "execution_count": 7,
   "id": "153b2e6c-8999-4ba2-8d7d-3ba100a0d962",
   "metadata": {},
   "outputs": [
    {
     "data": {
      "text/plain": [
       "3"
      ]
     },
     "execution_count": 7,
     "metadata": {},
     "output_type": "execute_result"
    }
   ],
   "source": [
    "# function with an optional paramter\n",
    "def add_2_numbers(a:int, b:int = 0)-> int:\n",
    "    return a + b\n",
    "add_2_numbers(3)"
   ]
  },
  {
   "cell_type": "code",
   "execution_count": 8,
   "id": "d76bcb98-a17f-43f3-b160-e739130a06c1",
   "metadata": {},
   "outputs": [
    {
     "data": {
      "text/plain": [
       "7"
      ]
     },
     "execution_count": 8,
     "metadata": {},
     "output_type": "execute_result"
    }
   ],
   "source": [
    "add_2_numbers(3, 4)"
   ]
  },
  {
   "cell_type": "code",
   "execution_count": 9,
   "id": "fca0f259-eddc-49ae-b09a-94f088a7736d",
   "metadata": {},
   "outputs": [],
   "source": [
    "# lambda function\n",
    "from typing import Callable\n",
    "\n",
    "# Define the type for the lambda function\n",
    "AddFunction = Callable[[int, int], int]\n",
    "\n",
    "add_2_numbers:AddFunction = lambda x, y: x + y\n",
    "add_2_numbers_with_default:AddFunction = lambda x, y=0: x + y"
   ]
  },
  {
   "cell_type": "code",
   "execution_count": 10,
   "id": "d20f7909-3c29-4d88-8728-9a1359bd90cf",
   "metadata": {},
   "outputs": [
    {
     "name": "stdout",
     "output_type": "stream",
     "text": [
      "7\n",
      "7\n"
     ]
    }
   ],
   "source": [
    "print(add_2_numbers(3, 4))\n",
    "print(add_2_numbers_with_default(7))"
   ]
  },
  {
   "cell_type": "code",
   "execution_count": 11,
   "id": "b0857e0f-0294-45b9-8b6d-44d2e548a8a2",
   "metadata": {},
   "outputs": [
    {
     "name": "stdout",
     "output_type": "stream",
     "text": [
      "[1, 4, 9, 16, 64]\n"
     ]
    }
   ],
   "source": [
    "from typing import List\n",
    "data:List[int] = [1, 2,3,4,8]\n",
    "data = list(map(lambda x: x ** 2, data)) # without list it give a generator, so you need to convert to list\n",
    "print(data)"
   ]
  },
  {
   "cell_type": "code",
   "execution_count": 12,
   "id": "73d0542d-d26c-4582-ad64-d043b1eda3f4",
   "metadata": {},
   "outputs": [
    {
     "name": "stdout",
     "output_type": "stream",
     "text": [
      "[2, 4, 8]\n"
     ]
    }
   ],
   "source": [
    "from typing import List\n",
    "data:List[int] = [1, 2,3,4,8]\n",
    "data = list(filter(lambda x: x % 2 == 0, data)) # without list it give a generator, so you need to convert to list\n",
    "print(data)"
   ]
  },
  {
   "cell_type": "code",
   "execution_count": 13,
   "id": "394c6caf-984a-440c-bfba-590c384a3eb1",
   "metadata": {},
   "outputs": [
    {
     "name": "stdout",
     "output_type": "stream",
     "text": [
      "<generator object my_range at 0x0000028929B5C4F0>\n",
      "1\n",
      "2\n"
     ]
    }
   ],
   "source": [
    "# generator function\n",
    "def my_range(start:int, end:int, step:int = 1):\n",
    "    for i in range(start, end, step):\n",
    "        yield i\n",
    "a:int = my_range(1, 11)\n",
    "print(a)\n",
    "# print(list(a)) # it will generate all items at same time\n",
    "print(next(a))\n",
    "print(next(a))"
   ]
  },
  {
   "cell_type": "code",
   "execution_count": 15,
   "id": "d6f9ca2f-761e-4676-82f3-bc209beb7d7d",
   "metadata": {},
   "outputs": [],
   "source": [
    "from collections.abc import Iterator"
   ]
  },
  {
   "cell_type": "code",
   "execution_count": 19,
   "id": "79cfd65e-6545-4eb5-bf65-5bc9710b688b",
   "metadata": {},
   "outputs": [
    {
     "name": "stdout",
     "output_type": "stream",
     "text": [
      "<generator object my_range at 0x0000028929FD9C60>\n",
      "1\n",
      "2\n"
     ]
    }
   ],
   "source": [
    "# generator function\n",
    "def my_range(start:int, end:int, step:int = 1)-> Iterator[int]:\n",
    "    for i in range(start, end, step):\n",
    "        yield i\n",
    "a:Iterator[int] = my_range(1, 11)\n",
    "print(a)\n",
    "# print(list(a)) # it will generate all items at same time\n",
    "print(next(a))\n",
    "print(next(a))"
   ]
  },
  {
   "cell_type": "code",
   "execution_count": 17,
   "id": "34f0ee9c-93d5-4fac-a82f-5d8a5053e45c",
   "metadata": {},
   "outputs": [],
   "source": [
    "from typing import Generator"
   ]
  },
  {
   "cell_type": "code",
   "execution_count": 18,
   "id": "91515bc2-464f-41be-b981-f106acba0715",
   "metadata": {},
   "outputs": [
    {
     "name": "stdout",
     "output_type": "stream",
     "text": [
      "<generator object my_range at 0x0000028929B5E2F0>\n",
      "1\n",
      "2\n"
     ]
    }
   ],
   "source": [
    "# generator function\n",
    "def my_range(start:int, end:int, step:int = 1)-> Generator[int, None, None]:\n",
    "    for i in range(start, end, step):\n",
    "        yield i\n",
    "a:int = my_range(1, 11)\n",
    "print(a)\n",
    "# print(list(a)) # it will generate all items at same time\n",
    "print(next(a))\n",
    "print(next(a))"
   ]
  },
  {
   "cell_type": "code",
   "execution_count": 20,
   "id": "bf2a0f11-0fc1-4a51-a5eb-cc1344a7e167",
   "metadata": {},
   "outputs": [
    {
     "name": "stdout",
     "output_type": "stream",
     "text": [
      "3\n",
      "4\n",
      "5\n",
      "6\n",
      "7\n",
      "8\n",
      "9\n",
      "10\n"
     ]
    }
   ],
   "source": [
    "for i in a: # other values print after 2\n",
    "    print(i)"
   ]
  },
  {
   "cell_type": "code",
   "execution_count": 21,
   "id": "83fb46e9-a4b4-4e34-80f7-8d9b5a06aa75",
   "metadata": {},
   "outputs": [
    {
     "name": "stdout",
     "output_type": "stream",
     "text": [
      "All Generator Functions\n",
      "['__class__', '__del__', '__delattr__', '__dir__', '__doc__', '__eq__', '__format__', '__ge__', '__getattribute__', '__getstate__', '__gt__', '__hash__', '__init__', '__init_subclass__', '__iter__', '__le__', '__lt__', '__name__', '__ne__', '__new__', '__next__', '__qualname__', '__reduce__', '__reduce_ex__', '__repr__', '__setattr__', '__sizeof__', '__str__', '__subclasshook__', 'close', 'gi_code', 'gi_frame', 'gi_running', 'gi_suspended', 'gi_yieldfrom', 'send', 'throw']\n"
     ]
    }
   ],
   "source": [
    "print('All Generator Functions')\n",
    "print([i for i in dir(a) if '__' not in a])"
   ]
  },
  {
   "cell_type": "code",
   "execution_count": 25,
   "id": "73ca2de9-24ac-4660-ba14-35fbf51b8983",
   "metadata": {},
   "outputs": [],
   "source": [
    "iterator_var: Generator[int,None, None] = filter(lambda x: x % 2 == 0, range(1, 101))"
   ]
  },
  {
   "cell_type": "code",
   "execution_count": 26,
   "id": "7c3aa52e-83b4-45d9-836b-41714df9ec1c",
   "metadata": {},
   "outputs": [
    {
     "data": {
      "text/plain": [
       "2"
      ]
     },
     "execution_count": 26,
     "metadata": {},
     "output_type": "execute_result"
    }
   ],
   "source": [
    "next(iterator_var)"
   ]
  },
  {
   "cell_type": "code",
   "execution_count": 27,
   "id": "caf9275e-3684-4e49-a63a-464ca6934513",
   "metadata": {},
   "outputs": [
    {
     "data": {
      "text/plain": [
       "4"
      ]
     },
     "execution_count": 27,
     "metadata": {},
     "output_type": "execute_result"
    }
   ],
   "source": [
    "next(iterator_var)"
   ]
  },
  {
   "cell_type": "code",
   "execution_count": 37,
   "id": "5f8cf91c-2753-4331-b632-095859a8e995",
   "metadata": {},
   "outputs": [],
   "source": [
    "# unlimited args\n",
    "def add_unlimited_nums(*nums)->int:\n",
    "    print(nums, type(nums))\n",
    "    total:int = 0\n",
    "    for num in nums:\n",
    "        total += num\n",
    "    return total"
   ]
  },
  {
   "cell_type": "code",
   "execution_count": 38,
   "id": "4646d6df-a7e8-4f1c-a183-f49add827931",
   "metadata": {},
   "outputs": [
    {
     "name": "stdout",
     "output_type": "stream",
     "text": [
      "(1, 2, 3, 4, 5) <class 'tuple'>\n"
     ]
    },
    {
     "data": {
      "text/plain": [
       "15"
      ]
     },
     "execution_count": 38,
     "metadata": {},
     "output_type": "execute_result"
    }
   ],
   "source": [
    "add_unlimited_nums(1,2,3,4,5)"
   ]
  },
  {
   "cell_type": "code",
   "execution_count": 42,
   "id": "73f200e2-9e35-4f4e-aa6b-ae6e68131e7a",
   "metadata": {},
   "outputs": [],
   "source": [
    "# unlimited args\n",
    "def add_unlimited_nums(**nums)->int:\n",
    "    print(nums, type(nums))\n",
    "    total:int = 0\n",
    "    for key, value in nums.items():\n",
    "        total += value\n",
    "    return total"
   ]
  },
  {
   "cell_type": "code",
   "execution_count": 43,
   "id": "d1a86372-6bb5-4522-83dd-f7c9ddd38efd",
   "metadata": {},
   "outputs": [
    {
     "name": "stdout",
     "output_type": "stream",
     "text": [
      "{'a': 1, 'b': 2, 'c': 10} <class 'dict'>\n"
     ]
    },
    {
     "data": {
      "text/plain": [
       "13"
      ]
     },
     "execution_count": 43,
     "metadata": {},
     "output_type": "execute_result"
    }
   ],
   "source": [
    "add_unlimited_nums(a = 1, b = 2, c = 10)"
   ]
  },
  {
   "cell_type": "code",
   "execution_count": 46,
   "id": "2b481c15-08f4-4603-9901-eb780cd4117e",
   "metadata": {},
   "outputs": [
    {
     "data": {
      "text/plain": [
       "15"
      ]
     },
     "execution_count": 46,
     "metadata": {},
     "output_type": "execute_result"
    }
   ],
   "source": [
    "# keyword args\n",
    "def add_keyword(a:int, b:int)-> int:\n",
    "    return a + b\n",
    "add_pos(b = 5, a = 10)"
   ]
  },
  {
   "cell_type": "code",
   "execution_count": 47,
   "id": "6dad7564-0832-478c-ab47-0fee5cc79985",
   "metadata": {},
   "outputs": [
    {
     "data": {
      "text/plain": [
       "15"
      ]
     },
     "execution_count": 47,
     "metadata": {},
     "output_type": "execute_result"
    }
   ],
   "source": [
    "# positional args\n",
    "def add_keyword(a:int, b:int)-> int:\n",
    "    return a + b\n",
    "add_pos(5, 10) # user consider 1 arg to b but its value passing to a  "
   ]
  },
  {
   "cell_type": "code",
   "execution_count": 51,
   "id": "4b806b53-06fe-4da0-844f-b65511b9730f",
   "metadata": {},
   "outputs": [],
   "source": [
    "def not_follow_key(a:int, b:int)->int:\n",
    "    return a + b\n",
    "# not_follow_key(a = 1, 2) #  Error: positional argument follows keyword argument"
   ]
  },
  {
   "cell_type": "code",
   "execution_count": 63,
   "id": "7ce7aa91-6835-4fa9-8c3f-586c0d16dc3b",
   "metadata": {},
   "outputs": [
    {
     "name": "stdout",
     "output_type": "stream",
     "text": [
      "{'a': 1, 'b': 2, 'args': (), 'attrs': {}}\n",
      "{'a': 1, 'b': 2, 'args': (3, 4, 5), 'attrs': {}}\n",
      "{'a': 1, 'b': 2, 'args': (3, 4, 5), 'attrs': {'name': 'Muhammad Ali', 'education': 'Computer Engineering'}}\n"
     ]
    }
   ],
   "source": [
    "# complicated func\n",
    "def complicated_func(a:int, b:int, *args: int, **attrs: str)->Dict[str, Union[int, str, Tuple, Dict]]:\n",
    "    return {\n",
    "        'a': a,\n",
    "        'b': b,\n",
    "        'args': args,\n",
    "        'attrs': attrs\n",
    "    }\n",
    "# print(complicated_func(1)) missing 1 required positional argument\n",
    "print(complicated_func(1, 2))\n",
    "print(complicated_func(1, 2, 3, 4, 5))\n",
    "print(complicated_func(1, 2, 3, 4, 5, name='Muhammad Ali', education='Computer Engineering'))"
   ]
  },
  {
   "cell_type": "code",
   "execution_count": 66,
   "id": "37c189c2-ad29-4b59-a78d-4b1ab1fba8f7",
   "metadata": {},
   "outputs": [
    {
     "name": "stdout",
     "output_type": "stream",
     "text": [
      "Something before the function is called\n",
      "Between before and after\n",
      "Something after the function is called\n"
     ]
    }
   ],
   "source": [
    "# Decorator\n",
    "def decorator(func):\n",
    "    def wrapper():\n",
    "        print('Something before the function is called')\n",
    "        func()\n",
    "        print('Something after the function is called')\n",
    "    wrapper()\n",
    "@decorator\n",
    "def print_hello():\n",
    "    print('Between before and after')"
   ]
  },
  {
   "cell_type": "code",
   "execution_count": 69,
   "id": "b1a6bea1-147a-43d6-a399-ab3dbf730f36",
   "metadata": {},
   "outputs": [
    {
     "name": "stdout",
     "output_type": "stream",
     "text": [
      "Adding 3 and 5\n",
      "Result: 8\n"
     ]
    },
    {
     "data": {
      "text/plain": [
       "8"
      ]
     },
     "execution_count": 69,
     "metadata": {},
     "output_type": "execute_result"
    }
   ],
   "source": [
    "from typing import Callable\n",
    "\n",
    "def add_logger(func: Callable[[int, int], int]) -> Callable[[int, int], int]:\n",
    "    def wrapper(a: int, b: int) -> int:\n",
    "        print(f\"Adding {a} and {b}\")\n",
    "        result = func(a, b)\n",
    "        print(f\"Result: {result}\")\n",
    "        return result\n",
    "    return wrapper\n",
    "    \n",
    "@add_logger\n",
    "def add(a: int, b: int) -> int:\n",
    "    return a + b\n",
    "# Example usage:\n",
    "add(3, 5)"
   ]
  }
 ],
 "metadata": {
  "kernelspec": {
   "display_name": "Python 3 (ipykernel)",
   "language": "python",
   "name": "python3"
  },
  "language_info": {
   "codemirror_mode": {
    "name": "ipython",
    "version": 3
   },
   "file_extension": ".py",
   "mimetype": "text/x-python",
   "name": "python",
   "nbconvert_exporter": "python",
   "pygments_lexer": "ipython3",
   "version": "3.12.4"
  }
 },
 "nbformat": 4,
 "nbformat_minor": 5
}
