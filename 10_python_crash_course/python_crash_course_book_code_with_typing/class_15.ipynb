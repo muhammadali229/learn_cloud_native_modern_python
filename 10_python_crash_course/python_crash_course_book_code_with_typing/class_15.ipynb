{
 "cells": [
  {
   "cell_type": "code",
   "execution_count": 1,
   "id": "496857ee-1bad-4fb0-912f-190fa200cbea",
   "metadata": {},
   "outputs": [
    {
     "name": "stdout",
     "output_type": "stream",
     "text": [
      "\n",
      "['__call__', '__class__', '__delattr__', '__dict__', '__dir__', '__doc__', '__eq__', '__format__', '__ge__', '__getattribute__', '__getstate__', '__gt__', '__hash__', '__init__', '__init_subclass__', '__le__', '__lt__', '__module__', '__ne__', '__new__', '__reduce__', '__reduce_ex__', '__repr__', '__setattr__', '__sizeof__', '__str__', '__subclasshook__', '__weakref__', 'eating']\n",
      "I am eating Briyani\n",
      "I am eating Nihari\n",
      "I am eating Nihari\n"
     ]
    }
   ],
   "source": [
    "class Human():\n",
    "    def eating(self, food):\n",
    "        print(f'I am eating {food}')\n",
    "    def __call__(self):\n",
    "        self.eating('Nihari')\n",
    "h1:Human = Human()\n",
    "print()\n",
    "print([i for i in dir(h1)])\n",
    "h1.eating('Briyani')\n",
    "h1.__call__()\n",
    "h1()"
   ]
  },
  {
   "cell_type": "code",
   "execution_count": 2,
   "id": "1728806b-3cb1-4e72-96ed-45986ac6faac",
   "metadata": {},
   "outputs": [
    {
     "name": "stdout",
     "output_type": "stream",
     "text": [
      "['__call__', '__class__', '__delattr__', '__dir__', '__doc__', '__eq__', '__format__', '__func__', '__ge__', '__getattribute__', '__getstate__', '__gt__', '__hash__', '__init__', '__init_subclass__', '__le__', '__lt__', '__ne__', '__new__', '__reduce__', '__reduce_ex__', '__repr__', '__self__', '__setattr__', '__sizeof__', '__str__', '__subclasshook__']\n"
     ]
    }
   ],
   "source": [
    "print([i for i in dir(h1.eating)])"
   ]
  },
  {
   "cell_type": "code",
   "execution_count": 3,
   "id": "f38ddf6f-c6cb-4efc-bb93-17812078a1cd",
   "metadata": {},
   "outputs": [
    {
     "data": {
      "text/plain": [
       "True"
      ]
     },
     "execution_count": 3,
     "metadata": {},
     "output_type": "execute_result"
    }
   ],
   "source": [
    "class NonCallable():\n",
    "    def __call__(self):\n",
    "        raise TypeError('Not really calllable')\n",
    "instance:NonCallable = NonCallable()\n",
    "callable(instance)"
   ]
  },
  {
   "cell_type": "code",
   "execution_count": 4,
   "id": "5be0e759-1eff-4250-8097-63a22986e907",
   "metadata": {},
   "outputs": [
    {
     "ename": "TypeError",
     "evalue": "Not really calllable",
     "output_type": "error",
     "traceback": [
      "\u001b[1;31m---------------------------------------------------------------------------\u001b[0m",
      "\u001b[1;31mTypeError\u001b[0m                                 Traceback (most recent call last)",
      "Cell \u001b[1;32mIn[4], line 1\u001b[0m\n\u001b[1;32m----> 1\u001b[0m \u001b[43minstance\u001b[49m\u001b[43m(\u001b[49m\u001b[43m)\u001b[49m\n",
      "Cell \u001b[1;32mIn[3], line 3\u001b[0m, in \u001b[0;36mNonCallable.__call__\u001b[1;34m(self)\u001b[0m\n\u001b[0;32m      2\u001b[0m \u001b[38;5;28;01mdef\u001b[39;00m \u001b[38;5;21m__call__\u001b[39m(\u001b[38;5;28mself\u001b[39m):\n\u001b[1;32m----> 3\u001b[0m     \u001b[38;5;28;01mraise\u001b[39;00m \u001b[38;5;167;01mTypeError\u001b[39;00m(\u001b[38;5;124m'\u001b[39m\u001b[38;5;124mNot really calllable\u001b[39m\u001b[38;5;124m'\u001b[39m)\n",
      "\u001b[1;31mTypeError\u001b[0m: Not really calllable"
     ]
    }
   ],
   "source": [
    "instance()"
   ]
  },
  {
   "cell_type": "code",
   "execution_count": 5,
   "id": "e6fdc7c4-5915-4cc8-9adb-ada110a7b00f",
   "metadata": {},
   "outputs": [
    {
     "data": {
      "text/plain": [
       "True"
      ]
     },
     "execution_count": 5,
     "metadata": {},
     "output_type": "execute_result"
    }
   ],
   "source": [
    "class PowerFactory:\n",
    "    def __init__(self, exponent=2)->None:\n",
    "        self.exponent = exponent\n",
    "    def __call__(self, base):\n",
    "        return base ** self.exponent\n",
    "pf_1:PowerFactory = PowerFactory()\n",
    "callable(pf_1)"
   ]
  },
  {
   "cell_type": "code",
   "execution_count": 6,
   "id": "0fd74315-3b21-4c77-8eed-6006dbb0dcd5",
   "metadata": {},
   "outputs": [
    {
     "data": {
      "text/plain": [
       "9"
      ]
     },
     "execution_count": 6,
     "metadata": {},
     "output_type": "execute_result"
    }
   ],
   "source": [
    "pf_1(3)"
   ]
  },
  {
   "cell_type": "code",
   "execution_count": 17,
   "id": "63d20a34-d69d-4d6f-b032-3ca534341d47",
   "metadata": {},
   "outputs": [],
   "source": [
    "class CumulativeAverage():\n",
    "    def __init__(self):\n",
    "        self.data = []\n",
    "    def __call__(self, new_value):\n",
    "        self.data.append(new_value)\n",
    "        print(f'Data -> {self.data}')\n",
    "        return sum(self.data) / len(self.data)"
   ]
  },
  {
   "cell_type": "code",
   "execution_count": 18,
   "id": "86cc2c6c-1cb4-4673-9dd9-05f5bc25fbc6",
   "metadata": {},
   "outputs": [],
   "source": [
    "cal_1 = CumulativeAverage()"
   ]
  },
  {
   "cell_type": "code",
   "execution_count": 20,
   "id": "b3741d3e-043c-42a8-98dc-15ea107b9e2e",
   "metadata": {},
   "outputs": [
    {
     "name": "stdout",
     "output_type": "stream",
     "text": [
      "Data -> [3, 2, 5, 4, 1, 2, 3]\n",
      "2.857142857142857\n",
      "Data -> [3, 2, 5, 4, 1, 2, 3, 2]\n",
      "2.75\n",
      "Data -> [3, 2, 5, 4, 1, 2, 3, 2, 5]\n",
      "3.0\n"
     ]
    }
   ],
   "source": [
    "print(cal_1(3))\n",
    "print(cal_1(2))\n",
    "print(cal_1(5))"
   ]
  },
  {
   "cell_type": "code",
   "execution_count": 23,
   "id": "f363fac8-750b-472d-83af-991017f10b4c",
   "metadata": {},
   "outputs": [],
   "source": [
    "class Factorial():\n",
    "    def __init__(self):\n",
    "        self.cache = {0:1, 1:1}\n",
    "    def __call__(self, number):\n",
    "        if number not in self.cache:\n",
    "            self.cache[number] = number * self(number - 1) # it will call again __init__\n",
    "        return self.cache[number]"
   ]
  },
  {
   "cell_type": "code",
   "execution_count": 24,
   "id": "b49a9db9-ec84-418a-8e93-c6abec80afb6",
   "metadata": {},
   "outputs": [
    {
     "data": {
      "text/plain": [
       "6"
      ]
     },
     "execution_count": 24,
     "metadata": {},
     "output_type": "execute_result"
    }
   ],
   "source": [
    "f1:Factorial = Factorial()\n",
    "f1(3)"
   ]
  },
  {
   "cell_type": "code",
   "execution_count": 25,
   "id": "c54d2089-8ffd-4f10-ad63-f493e51644ed",
   "metadata": {},
   "outputs": [
    {
     "data": {
      "text/plain": [
       "{0: 1, 1: 1, 2: 2, 3: 6}"
      ]
     },
     "execution_count": 25,
     "metadata": {},
     "output_type": "execute_result"
    }
   ],
   "source": [
    "f1.cache"
   ]
  },
  {
   "cell_type": "code",
   "execution_count": 28,
   "id": "09f657f1-944f-4942-9674-11d396d3025f",
   "metadata": {},
   "outputs": [],
   "source": [
    "from piaic.genai import ExecutionTime"
   ]
  },
  {
   "cell_type": "code",
   "execution_count": 31,
   "id": "6a0bfd80-e64f-4e61-9ccf-f822fb35979c",
   "metadata": {},
   "outputs": [],
   "source": [
    "@ExecutionTime\n",
    "def square_number(numbers):\n",
    "    return [number ** 2 for number in numbers]"
   ]
  },
  {
   "cell_type": "code",
   "execution_count": 34,
   "id": "bed09e30-5e5f-40fb-b264-cf1cff7eb375",
   "metadata": {},
   "outputs": [
    {
     "name": "stdout",
     "output_type": "stream",
     "text": [
      "square_number() took 0.0070 ms\n"
     ]
    },
    {
     "data": {
      "text/plain": [
       "[0, 1, 4, 9, 16, 25, 36, 49, 64, 81]"
      ]
     },
     "execution_count": 34,
     "metadata": {},
     "output_type": "execute_result"
    }
   ],
   "source": [
    "square_number(list(range(10)))"
   ]
  },
  {
   "cell_type": "code",
   "execution_count": 55,
   "id": "86909aba-0cfc-4396-8d06-6e4f78e015db",
   "metadata": {},
   "outputs": [],
   "source": [
    "# Encapsulation\n",
    "class Piaic():\n",
    "    def __init__(self)->None: \n",
    "        # by default it's public\n",
    "        self.piaic_no : str = '02121314334'\n",
    "        # it's protected\n",
    "        self._total_expense : int = 6000000\n",
    "        # it's private\n",
    "        self.__test_announcement : str = '2024-05-31'"
   ]
  },
  {
   "cell_type": "code",
   "execution_count": 56,
   "id": "4f108fed-fe10-4233-a45a-94d9872597b2",
   "metadata": {},
   "outputs": [],
   "source": [
    "ali: Piaic = Piaic()"
   ]
  },
  {
   "cell_type": "code",
   "execution_count": 57,
   "id": "291b4ccd-6b2b-4139-96eb-b2e50358427e",
   "metadata": {},
   "outputs": [
    {
     "data": {
      "text/plain": [
       "'02121314334'"
      ]
     },
     "execution_count": 57,
     "metadata": {},
     "output_type": "execute_result"
    }
   ],
   "source": [
    "ali.piaic_no"
   ]
  },
  {
   "cell_type": "code",
   "execution_count": 58,
   "id": "0e998e76-927d-415b-8e13-53e4149b0e61",
   "metadata": {},
   "outputs": [
    {
     "data": {
      "text/plain": [
       "6000000"
      ]
     },
     "execution_count": 58,
     "metadata": {},
     "output_type": "execute_result"
    }
   ],
   "source": [
    "ali._total_expense"
   ]
  },
  {
   "cell_type": "code",
   "execution_count": 59,
   "id": "883a8d47-cc08-4647-9280-7cc3bc003694",
   "metadata": {},
   "outputs": [
    {
     "ename": "AttributeError",
     "evalue": "'Piaic' object has no attribute '__test_announcement'",
     "output_type": "error",
     "traceback": [
      "\u001b[1;31m---------------------------------------------------------------------------\u001b[0m",
      "\u001b[1;31mAttributeError\u001b[0m                            Traceback (most recent call last)",
      "Cell \u001b[1;32mIn[59], line 1\u001b[0m\n\u001b[1;32m----> 1\u001b[0m \u001b[43mali\u001b[49m\u001b[38;5;241;43m.\u001b[39;49m\u001b[43m__test_announcement\u001b[49m\n",
      "\u001b[1;31mAttributeError\u001b[0m: 'Piaic' object has no attribute '__test_announcement'"
     ]
    }
   ],
   "source": [
    "ali.__test_announcement"
   ]
  },
  {
   "cell_type": "code",
   "execution_count": 60,
   "id": "895fd44f-6aab-4986-ac96-05470f40bcfe",
   "metadata": {},
   "outputs": [
    {
     "data": {
      "text/plain": [
       "'2024-05-31'"
      ]
     },
     "execution_count": 60,
     "metadata": {},
     "output_type": "execute_result"
    }
   ],
   "source": [
    "ali._Piaic__test_announcement"
   ]
  },
  {
   "cell_type": "code",
   "execution_count": 65,
   "id": "7859bff1-7aa6-46fa-b149-0ab5410cb0f1",
   "metadata": {},
   "outputs": [],
   "source": [
    "# Encapsulation\n",
    "class Piaic():\n",
    "    def __init__(self)->None: \n",
    "        # by default it's public\n",
    "        self.piaic_no : str = '02121314334'\n",
    "        # it's protected\n",
    "        self._total_expense : int = 6000000\n",
    "        # it's private\n",
    "        self.__test_announcement : str = '2024-05-31'\n",
    "class Panaverse(Piaic):\n",
    "    def __init__(self):\n",
    "        super().__init__()\n",
    "    def total_revenue(self):\n",
    "        print(self.piaic_no)\n",
    "        print(self._total_expense)\n",
    "        print(self.__test_announcement)"
   ]
  },
  {
   "cell_type": "code",
   "execution_count": 66,
   "id": "464f3be8-72e1-4af3-8704-270e9141c690",
   "metadata": {},
   "outputs": [],
   "source": [
    "p2:Panaverse = Panaverse()"
   ]
  },
  {
   "cell_type": "code",
   "execution_count": 67,
   "id": "64fea08c-dc7c-4480-9953-548ca9dcee46",
   "metadata": {},
   "outputs": [
    {
     "data": {
      "text/plain": [
       "'02121314334'"
      ]
     },
     "execution_count": 67,
     "metadata": {},
     "output_type": "execute_result"
    }
   ],
   "source": [
    "p2.piaic_no"
   ]
  },
  {
   "cell_type": "code",
   "execution_count": 69,
   "id": "84e16949-7fa4-4c10-8c4e-c0e34e60baf7",
   "metadata": {},
   "outputs": [
    {
     "name": "stdout",
     "output_type": "stream",
     "text": [
      "02121314334\n",
      "6000000\n"
     ]
    },
    {
     "ename": "AttributeError",
     "evalue": "'Panaverse' object has no attribute '_Panaverse__test_announcement'",
     "output_type": "error",
     "traceback": [
      "\u001b[1;31m---------------------------------------------------------------------------\u001b[0m",
      "\u001b[1;31mAttributeError\u001b[0m                            Traceback (most recent call last)",
      "Cell \u001b[1;32mIn[69], line 1\u001b[0m\n\u001b[1;32m----> 1\u001b[0m \u001b[43mp2\u001b[49m\u001b[38;5;241;43m.\u001b[39;49m\u001b[43mtotal_revenue\u001b[49m\u001b[43m(\u001b[49m\u001b[43m)\u001b[49m\n",
      "Cell \u001b[1;32mIn[65], line 16\u001b[0m, in \u001b[0;36mPanaverse.total_revenue\u001b[1;34m(self)\u001b[0m\n\u001b[0;32m     14\u001b[0m \u001b[38;5;28mprint\u001b[39m(\u001b[38;5;28mself\u001b[39m\u001b[38;5;241m.\u001b[39mpiaic_no)\n\u001b[0;32m     15\u001b[0m \u001b[38;5;28mprint\u001b[39m(\u001b[38;5;28mself\u001b[39m\u001b[38;5;241m.\u001b[39m_total_expense)\n\u001b[1;32m---> 16\u001b[0m \u001b[38;5;28mprint\u001b[39m(\u001b[38;5;28;43mself\u001b[39;49m\u001b[38;5;241;43m.\u001b[39;49m\u001b[43m__test_announcement\u001b[49m)\n",
      "\u001b[1;31mAttributeError\u001b[0m: 'Panaverse' object has no attribute '_Panaverse__test_announcement'"
     ]
    }
   ],
   "source": [
    "p2.total_revenue()"
   ]
  },
  {
   "cell_type": "code",
   "execution_count": 78,
   "id": "ad68e9cd-148d-4c4b-9f19-d00617232d7c",
   "metadata": {},
   "outputs": [],
   "source": [
    "class Student_Login():\n",
    "    def __init__(self):\n",
    "        self.__username : str = 'admin'\n",
    "        self.__password : str = 'admin'\n",
    "    def __db_connectivity(self, username: str, password:str)->None:\n",
    "        if username == self.__username and password == self.__password:\n",
    "            print('Successfully Login')\n",
    "        else:\n",
    "            print('Invalid Credentials')\n",
    "    def login(self, username:str, password:str)->None:\n",
    "        self.__db_connectivity(username, password)\n",
    "    def update_password(self, password):\n",
    "        self.__password = password"
   ]
  },
  {
   "cell_type": "code",
   "execution_count": 79,
   "id": "4ba82a69-611e-40d5-bbaf-327e6bc5ee8d",
   "metadata": {},
   "outputs": [],
   "source": [
    "s1: Student_Login = Student_Login()"
   ]
  },
  {
   "cell_type": "code",
   "execution_count": 80,
   "id": "ee5dce44-435c-46c3-a7ba-1d4885a56a3d",
   "metadata": {},
   "outputs": [
    {
     "name": "stdout",
     "output_type": "stream",
     "text": [
      "Invalid Credentials\n"
     ]
    }
   ],
   "source": [
    "s1.login('champ', 'champ123')"
   ]
  },
  {
   "cell_type": "code",
   "execution_count": 81,
   "id": "bf181b03-2b3a-48d5-af95-6263f3c6255a",
   "metadata": {},
   "outputs": [
    {
     "name": "stdout",
     "output_type": "stream",
     "text": [
      "Successfully Login\n"
     ]
    }
   ],
   "source": [
    "s1.login('admin', 'admin')"
   ]
  },
  {
   "cell_type": "code",
   "execution_count": 82,
   "id": "a6a38ef1-fdb0-44e1-a6ee-7eb7419ff90f",
   "metadata": {},
   "outputs": [],
   "source": [
    "s1.update_password('admin123')"
   ]
  },
  {
   "cell_type": "code",
   "execution_count": 83,
   "id": "b625f051-02d7-46e3-b88d-fb27afec5e30",
   "metadata": {},
   "outputs": [
    {
     "name": "stdout",
     "output_type": "stream",
     "text": [
      "Invalid Credentials\n"
     ]
    }
   ],
   "source": [
    "s1.login('admin', 'admin')"
   ]
  },
  {
   "cell_type": "code",
   "execution_count": 84,
   "id": "d5244108-58a3-480f-8f94-5b6b0390063a",
   "metadata": {},
   "outputs": [
    {
     "name": "stdout",
     "output_type": "stream",
     "text": [
      "Successfully Login\n"
     ]
    }
   ],
   "source": [
    "s1.login('admin', 'admin123')"
   ]
  },
  {
   "cell_type": "code",
   "execution_count": 92,
   "id": "0bc72dd2-c45b-4b2b-a5a2-0532de052934",
   "metadata": {},
   "outputs": [
    {
     "name": "stdout",
     "output_type": "stream",
     "text": [
      "<__main__.Teacher object at 0x000001F147551400>\n"
     ]
    }
   ],
   "source": [
    "class Teacher():\n",
    "    def __init__(self, name, course):\n",
    "        self.name = name\n",
    "        self.course = course\n",
    "t1:Teacher = Teacher('Muhammad Ali', 'Python Basic')\n",
    "print(t1)"
   ]
  },
  {
   "cell_type": "code",
   "execution_count": 93,
   "id": "53146909-8916-40ee-98d0-ccde2df4ae7b",
   "metadata": {},
   "outputs": [
    {
     "name": "stdout",
     "output_type": "stream",
     "text": [
      "Teacher name: Muhammad Ali, Course: Python Basics\n"
     ]
    }
   ],
   "source": [
    "class Teacher():\n",
    "    def __init__(self, name, course):\n",
    "        self.name = name\n",
    "        self.course = course\n",
    "    def __str__(self):\n",
    "        return f\"Teacher name: {self.name}, Course: {self.course}\"\n",
    "t1:Teacher = Teacher('Muhammad Ali', 'Python Basics')\n",
    "print(t1)"
   ]
  },
  {
   "cell_type": "code",
   "execution_count": 98,
   "id": "c1ea4313-1281-4763-bd9d-af9fd754e2af",
   "metadata": {},
   "outputs": [
    {
     "ename": "TypeError",
     "evalue": "Can't instantiate abstract class Cat without an implementation for abstract method 'eat'",
     "output_type": "error",
     "traceback": [
      "\u001b[1;31m---------------------------------------------------------------------------\u001b[0m",
      "\u001b[1;31mTypeError\u001b[0m                                 Traceback (most recent call last)",
      "Cell \u001b[1;32mIn[98], line 18\u001b[0m\n\u001b[0;32m     16\u001b[0m     \u001b[38;5;28;01mdef\u001b[39;00m \u001b[38;5;21mdisplay_info\u001b[39m(\u001b[38;5;28mself\u001b[39m):\n\u001b[0;32m     17\u001b[0m         \u001b[38;5;28;01mreturn\u001b[39;00m \u001b[38;5;124mf\u001b[39m\u001b[38;5;124m'\u001b[39m\u001b[38;5;132;01m{\u001b[39;00m\u001b[38;5;28mself\u001b[39m\u001b[38;5;241m.\u001b[39mname\u001b[38;5;132;01m}\u001b[39;00m\u001b[38;5;124m, \u001b[39m\u001b[38;5;132;01m{\u001b[39;00m\u001b[38;5;28mself\u001b[39m\u001b[38;5;241m.\u001b[39mage\u001b[38;5;132;01m}\u001b[39;00m\u001b[38;5;124m'\u001b[39m\n\u001b[1;32m---> 18\u001b[0m c1:Cat \u001b[38;5;241m=\u001b[39m \u001b[43mCat\u001b[49m\u001b[43m(\u001b[49m\u001b[38;5;124;43m'\u001b[39;49m\u001b[38;5;124;43mTom\u001b[39;49m\u001b[38;5;124;43m'\u001b[39;49m\u001b[43m,\u001b[49m\u001b[43m \u001b[49m\u001b[38;5;241;43m2\u001b[39;49m\u001b[43m)\u001b[49m\n\u001b[0;32m     19\u001b[0m c1\u001b[38;5;241m.\u001b[39mdisplay_info()\n",
      "\u001b[1;31mTypeError\u001b[0m: Can't instantiate abstract class Cat without an implementation for abstract method 'eat'"
     ]
    }
   ],
   "source": [
    "# Abstract class\n",
    "from abc import ABC, abstractmethod\n",
    "class Animal(ABC):\n",
    "    @abstractmethod # it's required to create an abstract class\n",
    "    # you cant create abstract class object\n",
    "    def __init__(self):\n",
    "        super().__init__()\n",
    "        self.living_thing = True\n",
    "    @abstractmethod # any child class have to create its implementation\n",
    "    def eat(self, food):\n",
    "        pass\n",
    "class Cat(Animal):\n",
    "    def __init__(self, name, age):\n",
    "        super().__init__()\n",
    "        self.name = name\n",
    "        self.age = age\n",
    "    def display_info(self):\n",
    "        return f'{self.name}, {self.age}'\n",
    "c1:Cat = Cat('Tom', 2)\n",
    "c1.display_info()"
   ]
  },
  {
   "cell_type": "code",
   "execution_count": 100,
   "id": "b52e50f2-6eaa-482a-888c-5ccb4fda6213",
   "metadata": {},
   "outputs": [
    {
     "name": "stdout",
     "output_type": "stream",
     "text": [
      "Tom, 2\n",
      "I am eating Briyani\n"
     ]
    }
   ],
   "source": [
    "# Abstract class\n",
    "from abc import ABC, abstractmethod\n",
    "class Animal(ABC):\n",
    "    @abstractmethod # it's required to create an abstract class\n",
    "    # you cant create abstract class object\n",
    "    def __init__(self):\n",
    "        super().__init__()\n",
    "        self.living_thing = True\n",
    "    @abstractmethod # any child class have to create its implementation\n",
    "    def eat(self, food):\n",
    "        pass\n",
    "class Cat(Animal):\n",
    "    def __init__(self, name, age):\n",
    "        super().__init__()\n",
    "        self.name = name\n",
    "        self.age = age\n",
    "    def display_info(self):\n",
    "        return f'{self.name}, {self.age}'\n",
    "    def eat(self, food):\n",
    "        print(f'I am eating {food}')\n",
    "c1:Cat = Cat('Tom', 2)\n",
    "print(c1.display_info())\n",
    "c1.eat('Briyani')"
   ]
  },
  {
   "cell_type": "code",
   "execution_count": 104,
   "id": "bfffecd2-d2c8-4f55-aec8-68c8f9baf7b9",
   "metadata": {},
   "outputs": [
    {
     "name": "stdout",
     "output_type": "stream",
     "text": [
      "Duck is quack\n",
      "Person is quack\n"
     ]
    }
   ],
   "source": [
    "from typing import Union\n",
    "class Duck():\n",
    "    def quack(self)->str:\n",
    "        return 'Duck is quack'\n",
    "class Person():\n",
    "    def quack(self)->str:\n",
    "        return 'Person is quack'\n",
    "def quack_in_the_forest(obj:Union[Duck, Person]):\n",
    "    print(obj.quack())\n",
    "d1:Duck = Duck()\n",
    "p1:Person = Person()\n",
    "quack_in_the_forest(d1)\n",
    "quack_in_the_forest(p1)"
   ]
  }
 ],
 "metadata": {
  "kernelspec": {
   "display_name": "Python 3 (ipykernel)",
   "language": "python",
   "name": "python3"
  },
  "language_info": {
   "codemirror_mode": {
    "name": "ipython",
    "version": 3
   },
   "file_extension": ".py",
   "mimetype": "text/x-python",
   "name": "python",
   "nbconvert_exporter": "python",
   "pygments_lexer": "ipython3",
   "version": "3.12.4"
  }
 },
 "nbformat": 4,
 "nbformat_minor": 5
}
