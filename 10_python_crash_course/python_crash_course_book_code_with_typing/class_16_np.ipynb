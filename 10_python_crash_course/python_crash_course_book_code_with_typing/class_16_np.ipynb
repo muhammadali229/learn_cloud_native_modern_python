{
 "cells": [
  {
   "cell_type": "code",
   "execution_count": 3,
   "metadata": {},
   "outputs": [],
   "source": [
    "# !pip install nptyping\n",
    "# !pip install beartype --index-url https://pypi.python.org/simple/"
   ]
  },
  {
   "cell_type": "code",
   "execution_count": 4,
   "metadata": {},
   "outputs": [],
   "source": [
    "import numpy as np"
   ]
  },
  {
   "cell_type": "code",
   "execution_count": 5,
   "metadata": {},
   "outputs": [
    {
     "data": {
      "text/plain": [
       "'object: 1000'"
      ]
     },
     "metadata": {},
     "output_type": "display_data"
    },
    {
     "data": {
      "text/plain": [
       "'shape: ()'"
      ]
     },
     "metadata": {},
     "output_type": "display_data"
    },
    {
     "data": {
      "text/plain": [
       "'size: 1'"
      ]
     },
     "metadata": {},
     "output_type": "display_data"
    },
    {
     "data": {
      "text/plain": [
       "'dimensions: 0'"
      ]
     },
     "metadata": {},
     "output_type": "display_data"
    },
    {
     "data": {
      "text/plain": [
       "'dtype: int32'"
      ]
     },
     "metadata": {},
     "output_type": "display_data"
    },
    {
     "data": {
      "text/plain": [
       "\"type global: <class 'numpy.ndarray'>\""
      ]
     },
     "metadata": {},
     "output_type": "display_data"
    },
    {
     "data": {
      "text/plain": [
       "'itemsize: 4'"
      ]
     },
     "metadata": {},
     "output_type": "display_data"
    }
   ],
   "source": [
    "# scalar\n",
    "a : np.ndarray = np.array(1000)\n",
    "display(f'object: {a}')\n",
    "display(f'shape: {a.shape}')\n",
    "display(f'size: {a.size}')\n",
    "display(f'dimensions: {a.ndim}')\n",
    "display(f'dtype: {a.dtype}')\n",
    "display(f'type global: {type(a)}')\n",
    "display(f'itemsize: {a.itemsize}') # representing the number of bytes for one element in the array"
   ]
  },
  {
   "cell_type": "code",
   "execution_count": 6,
   "metadata": {},
   "outputs": [
    {
     "data": {
      "text/plain": [
       "'object: [ 1  2  3  4  5  6  7  8  9 10]'"
      ]
     },
     "metadata": {},
     "output_type": "display_data"
    },
    {
     "data": {
      "text/plain": [
       "'shape: (10,)'"
      ]
     },
     "metadata": {},
     "output_type": "display_data"
    },
    {
     "data": {
      "text/plain": [
       "'size: 10'"
      ]
     },
     "metadata": {},
     "output_type": "display_data"
    },
    {
     "data": {
      "text/plain": [
       "'dimensions: 1'"
      ]
     },
     "metadata": {},
     "output_type": "display_data"
    },
    {
     "data": {
      "text/plain": [
       "'dtype: int32'"
      ]
     },
     "metadata": {},
     "output_type": "display_data"
    },
    {
     "data": {
      "text/plain": [
       "\"type global: <class 'numpy.ndarray'>\""
      ]
     },
     "metadata": {},
     "output_type": "display_data"
    },
    {
     "data": {
      "text/plain": [
       "'itemsize: 4'"
      ]
     },
     "metadata": {},
     "output_type": "display_data"
    }
   ],
   "source": [
    "# vector 1-dim\n",
    "a : np.ndarray = np.array([1, 2, 3, 4, 5, 6, 7, 8, 9, 10])\n",
    "display(f'object: {a}')\n",
    "display(f'shape: {a.shape}')\n",
    "display(f'size: {a.size}')\n",
    "display(f'dimensions: {a.ndim}')\n",
    "display(f'dtype: {a.dtype}')\n",
    "display(f'type global: {type(a)}')\n",
    "display(f'itemsize: {a.itemsize}') # representing the number of bytes for one element in the array"
   ]
  },
  {
   "cell_type": "code",
   "execution_count": 7,
   "metadata": {},
   "outputs": [
    {
     "data": {
      "text/plain": [
       "'object: [[1 2 3]\\n [4 5 6]]'"
      ]
     },
     "metadata": {},
     "output_type": "display_data"
    },
    {
     "data": {
      "text/plain": [
       "'shape: (2, 3)'"
      ]
     },
     "metadata": {},
     "output_type": "display_data"
    },
    {
     "data": {
      "text/plain": [
       "'size: 6'"
      ]
     },
     "metadata": {},
     "output_type": "display_data"
    },
    {
     "data": {
      "text/plain": [
       "'dimensions: 2'"
      ]
     },
     "metadata": {},
     "output_type": "display_data"
    },
    {
     "data": {
      "text/plain": [
       "'dtype: int32'"
      ]
     },
     "metadata": {},
     "output_type": "display_data"
    },
    {
     "data": {
      "text/plain": [
       "\"type global: <class 'numpy.ndarray'>\""
      ]
     },
     "metadata": {},
     "output_type": "display_data"
    },
    {
     "data": {
      "text/plain": [
       "'itemsize: 4'"
      ]
     },
     "metadata": {},
     "output_type": "display_data"
    }
   ],
   "source": [
    "# vector 2-dim\n",
    "a : np.ndarray = np.array([[1, 2, 3], [4, 5, 6]])\n",
    "display(f'object: {a}')\n",
    "display(f'shape: {a.shape}')\n",
    "display(f'size: {a.size}')\n",
    "display(f'dimensions: {a.ndim}')\n",
    "display(f'dtype: {a.dtype}')\n",
    "display(f'type global: {type(a)}')\n",
    "display(f'itemsize: {a.itemsize}') # representing the number of bytes for one element in the array"
   ]
  },
  {
   "cell_type": "code",
   "execution_count": 8,
   "metadata": {},
   "outputs": [
    {
     "data": {
      "text/plain": [
       "'object: [ 1  2  3  4  5  6  7  8  9 10]'"
      ]
     },
     "metadata": {},
     "output_type": "display_data"
    },
    {
     "data": {
      "text/plain": [
       "'shape: (10,)'"
      ]
     },
     "metadata": {},
     "output_type": "display_data"
    },
    {
     "data": {
      "text/plain": [
       "'size: 10'"
      ]
     },
     "metadata": {},
     "output_type": "display_data"
    },
    {
     "data": {
      "text/plain": [
       "'dimensions: 1'"
      ]
     },
     "metadata": {},
     "output_type": "display_data"
    },
    {
     "data": {
      "text/plain": [
       "'dtype: int32'"
      ]
     },
     "metadata": {},
     "output_type": "display_data"
    },
    {
     "data": {
      "text/plain": [
       "\"type global: <class 'numpy.ndarray'>\""
      ]
     },
     "metadata": {},
     "output_type": "display_data"
    },
    {
     "data": {
      "text/plain": [
       "'itemsize: 4'"
      ]
     },
     "metadata": {},
     "output_type": "display_data"
    }
   ],
   "source": [
    "# Numpy with NDArray typing\n",
    "from nptyping import NDArray, Shape, UInt64\n",
    "a : NDArray[Shape['10'], UInt64] = np.array([1, 2, 3, 4, 5, 6, 7, 8, 9, 10])\n",
    "display(f'object: {a}')\n",
    "display(f'shape: {a.shape}')\n",
    "display(f'size: {a.size}')\n",
    "display(f'dimensions: {a.ndim}')\n",
    "display(f'dtype: {a.dtype}')\n",
    "display(f'type global: {type(a)}')\n",
    "display(f'itemsize: {a.itemsize}') # representing the number of bytes for one element in the array"
   ]
  },
  {
   "cell_type": "code",
   "execution_count": 9,
   "metadata": {},
   "outputs": [
    {
     "data": {
      "text/plain": [
       "'object: [1 2 3 4 5]'"
      ]
     },
     "metadata": {},
     "output_type": "display_data"
    },
    {
     "data": {
      "text/plain": [
       "'object: [ 6  7  8  9 10]'"
      ]
     },
     "metadata": {},
     "output_type": "display_data"
    }
   ],
   "source": [
    "# Numpy with NDArray typing\n",
    "from nptyping import NDArray, Shape, UInt64\n",
    "a : NDArray[Shape['10'], UInt64] = np.arange(1, 6)\n",
    "display(f'object: {a}')\n",
    "a += 5 # add 5 to each element\n",
    "display(f'object: {a}')"
   ]
  },
  {
   "cell_type": "code",
   "execution_count": 10,
   "metadata": {},
   "outputs": [
    {
     "ename": "NameError",
     "evalue": "name 'lst' is not defined",
     "output_type": "error",
     "traceback": [
      "\u001b[1;31m---------------------------------------------------------------------------\u001b[0m",
      "\u001b[1;31mNameError\u001b[0m                                 Traceback (most recent call last)",
      "Cell \u001b[1;32mIn[10], line 3\u001b[0m\n\u001b[0;32m      1\u001b[0m \u001b[38;5;66;03m# lst = [1, 2, 3, 4, 5]\u001b[39;00m\n\u001b[0;32m      2\u001b[0m \u001b[38;5;66;03m# lst += 5 # error\u001b[39;00m\n\u001b[1;32m----> 3\u001b[0m lst \u001b[38;5;241m=\u001b[39m [i \u001b[38;5;241m+\u001b[39m \u001b[38;5;241m5\u001b[39m \u001b[38;5;28;01mfor\u001b[39;00m i \u001b[38;5;129;01min\u001b[39;00m \u001b[43mlst\u001b[49m]\n\u001b[0;32m      4\u001b[0m \u001b[38;5;28mprint\u001b[39m(lst)\n",
      "\u001b[1;31mNameError\u001b[0m: name 'lst' is not defined"
     ]
    }
   ],
   "source": [
    "# lst = [1, 2, 3, 4, 5]\n",
    "# lst += 5 # error\n",
    "lst = [i + 5 for i in lst]\n",
    "print(lst)"
   ]
  },
  {
   "cell_type": "code",
   "execution_count": null,
   "metadata": {},
   "outputs": [
    {
     "name": "stdout",
     "output_type": "stream",
     "text": [
      "CPU times: total: 0 ns\n",
      "Wall time: 1.94 ms\n"
     ]
    }
   ],
   "source": [
    "%%time\n",
    "a : NDArray[Shape['10'], UInt64] = np.arange(1, 1000000)\n",
    "a += 5 "
   ]
  },
  {
   "cell_type": "code",
   "execution_count": null,
   "metadata": {},
   "outputs": [
    {
     "name": "stdout",
     "output_type": "stream",
     "text": [
      "CPU times: total: 78.1 ms\n",
      "Wall time: 100 ms\n"
     ]
    }
   ],
   "source": [
    "%%time\n",
    "from typing import List\n",
    "lst: List[int] = list(range(1, 1000000))\n",
    "lst = [i + 5 for i in lst]"
   ]
  },
  {
   "cell_type": "code",
   "execution_count": null,
   "metadata": {},
   "outputs": [
    {
     "data": {
      "text/plain": [
       "[6, 7, 8, 9, 10, 11]"
      ]
     },
     "metadata": {},
     "output_type": "display_data"
    }
   ],
   "source": [
    "# numpy advance operation vs list\n",
    "data : List[int] = list(range(1, 21))\n",
    "display(data[5:11])\n",
    "# data[5:11] = 100 # it will cause error only assign an iterable\n",
    "# display(data)"
   ]
  },
  {
   "cell_type": "code",
   "execution_count": null,
   "metadata": {},
   "outputs": [
    {
     "data": {
      "text/plain": [
       "array([ 6,  7,  8,  9, 10, 11])"
      ]
     },
     "metadata": {},
     "output_type": "display_data"
    },
    {
     "data": {
      "text/plain": [
       "array([  1,   2,   3,   4,   5, 100, 100, 100, 100, 100, 100,  12,  13,\n",
       "        14,  15,  16,  17,  18,  19,  20])"
      ]
     },
     "metadata": {},
     "output_type": "display_data"
    }
   ],
   "source": [
    "data: NDArray[Shape['20'], UInt64] = np.arange(1, 21)\n",
    "display(data[5:11])\n",
    "data[5:11] = 100\n",
    "display(data)"
   ]
  },
  {
   "cell_type": "code",
   "execution_count": null,
   "metadata": {},
   "outputs": [
    {
     "name": "stdout",
     "output_type": "stream",
     "text": [
      "[1 3 5]\n"
     ]
    }
   ],
   "source": [
    "from nptyping import NDArray, Shape, UInt64, Bool\n",
    "\n",
    "# Creating the state_bank array with type UInt64\n",
    "state_bank: NDArray[Shape['5'], UInt64] = np.arange(1, 6, dtype=np.uint64)\n",
    "\n",
    "# Creating the conditions array with type Bool\n",
    "conditions: NDArray[Shape['5'], Bool] = np.array([True, False, True, False, True], dtype=bool)\n",
    "\n",
    "# Using display to show the filtered array\n",
    "print(state_bank[conditions])  # Output: [1 3 5]\n"
   ]
  },
  {
   "cell_type": "code",
   "execution_count": null,
   "metadata": {},
   "outputs": [
    {
     "name": "stdout",
     "output_type": "stream",
     "text": [
      "[2 4]\n"
     ]
    }
   ],
   "source": [
    "\n",
    "# Creating the state_bank array with type UInt64\n",
    "state_bank: NDArray[Shape['5'], UInt64] = np.arange(1, 6, dtype=np.uint64)\n",
    "\n",
    "conditions = state_bank % 2 == 0\n",
    "\n",
    "# Using display to show the filtered array\n",
    "print(state_bank[conditions])  # Output: [1 3 5]\n"
   ]
  },
  {
   "cell_type": "code",
   "execution_count": null,
   "metadata": {},
   "outputs": [
    {
     "name": "stdout",
     "output_type": "stream",
     "text": [
      "State Bank:\n",
      "[ 1  2  3  4  5  6  7  8  9 10]\n",
      "UBL Bank:\n",
      "[24 28 46  3 32 69 71  7 71 75 73  2 32 98 54 69  1 47 96 83]\n"
     ]
    }
   ],
   "source": [
    "# Install necessary packages (Run in terminal if not already installed)\n",
    "# !pip install beartype numpy\n",
    "from beartype import beartype\n",
    "from beartype.typing import Union\n",
    "from beartype.vale import Is\n",
    "import numpy as np\n",
    "from numpy.typing import NDArray\n",
    "from numpy import uint64\n",
    "\n",
    "# Define custom type constraints\n",
    "UInt64 = uint64\n",
    "\n",
    "# Function using beartype for type checking\n",
    "@beartype\n",
    "def create_state_bank() -> NDArray[UInt64]:\n",
    "    # Array of shape (10,) and dtype uint64\n",
    "    return np.arange(1, 11, dtype=UInt64)\n",
    "\n",
    "@beartype\n",
    "def create_ubl_bank() -> NDArray[UInt64]:\n",
    "    # Array of shape (20,) and dtype uint64\n",
    "    return np.random.randint(1, 100, 20, dtype=UInt64)\n",
    "\n",
    "# Initialize arrays\n",
    "state_bank: NDArray[UInt64] = create_state_bank()\n",
    "ubl_bank: NDArray[UInt64] = create_ubl_bank()\n",
    "\n",
    "# Display arrays\n",
    "print(\"State Bank:\")\n",
    "print(state_bank)\n",
    "print(\"UBL Bank:\")\n",
    "print(ubl_bank)\n"
   ]
  },
  {
   "cell_type": "code",
   "execution_count": null,
   "metadata": {},
   "outputs": [
    {
     "data": {
      "text/plain": [
       "'State Bank: [ 1  2  3  4  5  6  7  8  9 10]'"
      ]
     },
     "metadata": {},
     "output_type": "display_data"
    },
    {
     "data": {
      "text/plain": [
       "'UBL Bank: [ 1  3  5  7 10]'"
      ]
     },
     "metadata": {},
     "output_type": "display_data"
    },
    {
     "name": "stdout",
     "output_type": "stream",
     "text": [
      "state_bank[np.in1d(state_bank, ubl_bank)]\n"
     ]
    },
    {
     "data": {
      "text/plain": [
       "array([ 1,  3,  5,  7, 10], dtype=uint64)"
      ]
     },
     "metadata": {},
     "output_type": "display_data"
    }
   ],
   "source": [
    "\n",
    "state_bank = np.arange(1, 11, dtype=np.uint64)\n",
    "\n",
    "ubl_bank = np.array([1, 3, 5, 7, 10])\n",
    "\n",
    "display(f'State Bank: {state_bank}')\n",
    "\n",
    "display(f'UBL Bank: {ubl_bank}')\n",
    "\n",
    "print('state_bank[np.in1d(state_bank, ubl_bank)]')\n",
    "\n",
    "display(state_bank[np.in1d(state_bank, ubl_bank)])\n"
   ]
  },
  {
   "cell_type": "code",
   "execution_count": null,
   "metadata": {},
   "outputs": [
    {
     "data": {
      "text/plain": [
       "'State Bank: [ 1  2  3  4  5  6  7  8  9 10]'"
      ]
     },
     "metadata": {},
     "output_type": "display_data"
    },
    {
     "data": {
      "text/plain": [
       "'UBL Bank: [ 1  3  5  7 10]'"
      ]
     },
     "metadata": {},
     "output_type": "display_data"
    },
    {
     "name": "stdout",
     "output_type": "stream",
     "text": [
      "np.intersect(state_bank, ubl_bank)\n"
     ]
    },
    {
     "data": {
      "text/plain": [
       "array([ 1.,  3.,  5.,  7., 10.])"
      ]
     },
     "metadata": {},
     "output_type": "display_data"
    }
   ],
   "source": [
    "\n",
    "state_bank = np.arange(1, 11, dtype=np.uint64)\n",
    "\n",
    "ubl_bank = np.array([1, 3, 5, 7, 10])\n",
    "\n",
    "display(f'State Bank: {state_bank}')\n",
    "\n",
    "display(f'UBL Bank: {ubl_bank}')\n",
    "\n",
    "print('np.intersect(state_bank, ubl_bank)')\n",
    "\n",
    "display(np.intersect1d(state_bank, ubl_bank))\n"
   ]
  },
  {
   "cell_type": "code",
   "execution_count": null,
   "metadata": {},
   "outputs": [
    {
     "data": {
      "text/plain": [
       "'State Bank: [ 1  2  3  4  5  6  7  8  9 10]'"
      ]
     },
     "metadata": {},
     "output_type": "display_data"
    },
    {
     "data": {
      "text/plain": [
       "'UBL Bank: [ 1  3  5  7 10]'"
      ]
     },
     "metadata": {},
     "output_type": "display_data"
    },
    {
     "name": "stdout",
     "output_type": "stream",
     "text": [
      "np.intersect(state_bank, ubl_bank)\n"
     ]
    },
    {
     "data": {
      "text/plain": [
       "array([1, 3, 5, 7, 0])"
      ]
     },
     "metadata": {},
     "output_type": "display_data"
    }
   ],
   "source": [
    "\n",
    "state_bank = np.arange(1, 11, dtype=np.uint64)\n",
    "\n",
    "ubl_bank = np.array([1, 3, 5, 7, 10])\n",
    "\n",
    "display(f'State Bank: {state_bank}')\n",
    "\n",
    "display(f'UBL Bank: {ubl_bank}')\n",
    "\n",
    "print('np.intersect(state_bank, ubl_bank)')\n",
    "\n",
    "display(np.where(ubl_bank % 2 == 0, 0,ubl_bank))\n"
   ]
  },
  {
   "cell_type": "code",
   "execution_count": 11,
   "metadata": {},
   "outputs": [
    {
     "data": {
      "text/plain": [
       "array([[1, 2, 3],\n",
       "       [4, 5, 6]])"
      ]
     },
     "metadata": {},
     "output_type": "display_data"
    },
    {
     "data": {
      "text/plain": [
       "array([['A', 'b', 'C'],\n",
       "       ['4', '5', '6']], dtype='<U11')"
      ]
     },
     "metadata": {},
     "output_type": "display_data"
    },
    {
     "data": {
      "text/plain": [
       "array([[1, 0],\n",
       "       [4, 5]])"
      ]
     },
     "metadata": {},
     "output_type": "display_data"
    },
    {
     "data": {
      "text/plain": [
       "array([[1, 0, 1],\n",
       "       [4, 5, 1]])"
      ]
     },
     "metadata": {},
     "output_type": "display_data"
    }
   ],
   "source": [
    "# Create numpy arrays\n",
    "import numpy as np \n",
    "from typing import Any\n",
    "a : NDArray[Shape['Size,Size'], Any] = np.array([[1, 2, 3], [4, 5, 6]])\n",
    "\n",
    "b : NDArray[Shape['Size,Size'], Any] = np.array([['A', 'b', 'C'], [4, 5, 6]])\n",
    "\n",
    "c : NDArray[Shape['Size,Size'], Any] = np.array([[1, 0], [4, 5]])\n",
    "\n",
    "d : NDArray[Shape['*,*'], Any] = np.array([[1, 0, 1], [4, 5, 1]])\n",
    "\n",
    "display(a)\n",
    "display(b)\n",
    "display(c)\n",
    "display(d)"
   ]
  },
  {
   "cell_type": "code",
   "execution_count": 12,
   "metadata": {},
   "outputs": [
    {
     "data": {
      "text/plain": [
       "array([1, 2, 3, 4, 5])"
      ]
     },
     "metadata": {},
     "output_type": "display_data"
    },
    {
     "data": {
      "text/plain": [
       "array([ 1,  2,  3,  4,  5,  6,  7,  8,  9, 10, 11, 12, 13, 14, 15, 16, 17])"
      ]
     },
     "metadata": {},
     "output_type": "display_data"
    }
   ],
   "source": [
    "a : NDArray[Shape['Size,Size'], Any] = np.arange(1, 6)\n",
    "b : NDArray[Shape['Size,Size'], Any] = np.arange(1, 18)\n",
    "display(a)\n",
    "display(b)"
   ]
  },
  {
   "cell_type": "code",
   "execution_count": 13,
   "metadata": {},
   "outputs": [
    {
     "data": {
      "text/plain": [
       "array([[0, 1, 2],\n",
       "       [3, 4, 5],\n",
       "       [6, 7, 8]])"
      ]
     },
     "metadata": {},
     "output_type": "display_data"
    },
    {
     "data": {
      "text/plain": [
       "array([[ 0,  1,  2],\n",
       "       [ 3,  4,  5],\n",
       "       [ 6,  7,  8],\n",
       "       [ 9, 10, 11],\n",
       "       [12, 13, 14]])"
      ]
     },
     "metadata": {},
     "output_type": "display_data"
    }
   ],
   "source": [
    "a : NDArray[Shape['Size,Size'], Any] = np.arange(3 * 3).reshape((3, 3))\n",
    "b : NDArray[Shape['Size,Size'], Any] = np.arange(5 * 3).reshape((5, 3))\n",
    "display(a)\n",
    "display(b)"
   ]
  },
  {
   "cell_type": "code",
   "execution_count": 14,
   "metadata": {},
   "outputs": [
    {
     "data": {
      "text/plain": [
       "array([[[ 0,  1,  2],\n",
       "        [ 3,  4,  5],\n",
       "        [ 6,  7,  8]],\n",
       "\n",
       "       [[ 9, 10, 11],\n",
       "        [12, 13, 14],\n",
       "        [15, 16, 17]],\n",
       "\n",
       "       [[18, 19, 20],\n",
       "        [21, 22, 23],\n",
       "        [24, 25, 26]],\n",
       "\n",
       "       [[27, 28, 29],\n",
       "        [30, 31, 32],\n",
       "        [33, 34, 35]],\n",
       "\n",
       "       [[36, 37, 38],\n",
       "        [39, 40, 41],\n",
       "        [42, 43, 44]]])"
      ]
     },
     "metadata": {},
     "output_type": "display_data"
    },
    {
     "data": {
      "text/plain": [
       "array([[[ 0,  1,  2],\n",
       "        [ 3,  4,  5],\n",
       "        [ 6,  7,  8],\n",
       "        [ 9, 10, 11],\n",
       "        [12, 13, 14]],\n",
       "\n",
       "       [[15, 16, 17],\n",
       "        [18, 19, 20],\n",
       "        [21, 22, 23],\n",
       "        [24, 25, 26],\n",
       "        [27, 28, 29]]])"
      ]
     },
     "metadata": {},
     "output_type": "display_data"
    }
   ],
   "source": [
    "a : NDArray[Shape['Size,Size'], Any] = np.arange(5 * 3 * 3).reshape((5, 3, 3))\n",
    "b : NDArray[Shape['Size,Size'], Any] = np.arange(2 * 5 * 3).reshape((2, 5, 3))\n",
    "display(a)\n",
    "display(b)"
   ]
  },
  {
   "cell_type": "code",
   "execution_count": 15,
   "metadata": {},
   "outputs": [
    {
     "data": {
      "text/plain": [
       "array([[[ 0,  1,  2],\n",
       "        [ 3,  4,  5],\n",
       "        [ 6,  7,  8]],\n",
       "\n",
       "       [[ 9, 10, 11],\n",
       "        [12, 13, 14],\n",
       "        [15, 16, 17]],\n",
       "\n",
       "       [[18, 19, 20],\n",
       "        [21, 22, 23],\n",
       "        [24, 25, 26]],\n",
       "\n",
       "       [[27, 28, 29],\n",
       "        [30, 31, 32],\n",
       "        [33, 34, 35]],\n",
       "\n",
       "       [[36, 37, 38],\n",
       "        [39, 40, 41],\n",
       "        [42, 43, 44]]])"
      ]
     },
     "execution_count": 15,
     "metadata": {},
     "output_type": "execute_result"
    }
   ],
   "source": [
    "a[::,::,::]"
   ]
  },
  {
   "cell_type": "code",
   "execution_count": 16,
   "metadata": {},
   "outputs": [
    {
     "data": {
      "text/plain": [
       "array([[18, 19, 20],\n",
       "       [21, 22, 23],\n",
       "       [24, 25, 26]])"
      ]
     },
     "execution_count": 16,
     "metadata": {},
     "output_type": "execute_result"
    }
   ],
   "source": [
    "a[2]"
   ]
  },
  {
   "cell_type": "code",
   "execution_count": 17,
   "metadata": {},
   "outputs": [
    {
     "data": {
      "text/plain": [
       "array([[[ 0,  1,  2],\n",
       "        [ 3,  4,  5],\n",
       "        [ 6,  7,  8]],\n",
       "\n",
       "       [[18, 19, 20],\n",
       "        [21, 22, 23],\n",
       "        [24, 25, 26]],\n",
       "\n",
       "       [[36, 37, 38],\n",
       "        [39, 40, 41],\n",
       "        [42, 43, 44]]])"
      ]
     },
     "execution_count": 17,
     "metadata": {},
     "output_type": "execute_result"
    }
   ],
   "source": [
    "a[::2]"
   ]
  },
  {
   "cell_type": "code",
   "execution_count": 18,
   "metadata": {},
   "outputs": [
    {
     "data": {
      "text/plain": [
       "array([[[18, 19, 20]],\n",
       "\n",
       "       [[27, 28, 29]]])"
      ]
     },
     "execution_count": 18,
     "metadata": {},
     "output_type": "execute_result"
    }
   ],
   "source": [
    "a[2:4, :1, : ]"
   ]
  },
  {
   "cell_type": "code",
   "execution_count": 19,
   "metadata": {},
   "outputs": [
    {
     "data": {
      "text/plain": [
       "array([[0., 0., 0.],\n",
       "       [0., 0., 0.],\n",
       "       [0., 0., 0.]])"
      ]
     },
     "execution_count": 19,
     "metadata": {},
     "output_type": "execute_result"
    }
   ],
   "source": [
    "np.zeros((3, 3))"
   ]
  },
  {
   "cell_type": "code",
   "execution_count": 20,
   "metadata": {},
   "outputs": [
    {
     "data": {
      "text/plain": [
       "array([[1., 1., 1.],\n",
       "       [1., 1., 1.],\n",
       "       [1., 1., 1.]])"
      ]
     },
     "execution_count": 20,
     "metadata": {},
     "output_type": "execute_result"
    }
   ],
   "source": [
    "np.ones((3, 3))"
   ]
  },
  {
   "cell_type": "code",
   "execution_count": 27,
   "metadata": {},
   "outputs": [
    {
     "data": {
      "text/plain": [
       "array([[1, 1, 1],\n",
       "       [1, 1, 1],\n",
       "       [1, 1, 1]])"
      ]
     },
     "execution_count": 27,
     "metadata": {},
     "output_type": "execute_result"
    }
   ],
   "source": [
    "a = np.arange(1, 10).reshape((3,3))\n",
    "np.ones_like(a)"
   ]
  },
  {
   "cell_type": "code",
   "execution_count": 28,
   "metadata": {},
   "outputs": [
    {
     "data": {
      "text/plain": [
       "array([[[ 0,  1,  2],\n",
       "        [ 3,  4,  5],\n",
       "        [ 6,  7,  8],\n",
       "        [ 9, 10, 11],\n",
       "        [12, 13, 14]],\n",
       "\n",
       "       [[15, 16, 17],\n",
       "        [18, 19, 20],\n",
       "        [21, 22, 23],\n",
       "        [24, 25, 26],\n",
       "        [27, 28, 29]]])"
      ]
     },
     "execution_count": 28,
     "metadata": {},
     "output_type": "execute_result"
    }
   ],
   "source": [
    "b : NDArray[Shape['Size,Size'], Any] = np.arange(2 * 5 * 3).reshape((2, 5, 3))\n",
    "b"
   ]
  },
  {
   "cell_type": "code",
   "execution_count": 31,
   "metadata": {},
   "outputs": [
    {
     "data": {
      "text/plain": [
       "array([3, 5])"
      ]
     },
     "execution_count": 31,
     "metadata": {},
     "output_type": "execute_result"
    }
   ],
   "source": [
    "\n",
    "b[0, [1], [0, 2]]"
   ]
  },
  {
   "cell_type": "code",
   "execution_count": 34,
   "metadata": {},
   "outputs": [
    {
     "name": "stdout",
     "output_type": "stream",
     "text": [
      "max: 20\n",
      "min: 1\n",
      "mean: 10.5\n",
      "argmax: 19\n",
      "argmin: 0\n",
      "std: 5.766281297335398\n",
      "sum: 210\n"
     ]
    }
   ],
   "source": [
    "a = np.arange(1, 21)\n",
    "print(f'max: {a.max()}')\n",
    "print(f'min: {a.min()}')\n",
    "print(f'mean: {a.mean()}')\n",
    "print(f'argmax: {a.argmax()}')\n",
    "print(f'argmin: {a.argmin()}')\n",
    "print(f'std: {a.std()}')\n",
    "print(f'sum: {a.sum()}')"
   ]
  },
  {
   "cell_type": "code",
   "execution_count": 47,
   "metadata": {},
   "outputs": [
    {
     "data": {
      "text/plain": [
       "array([ 1.        ,  2.        ,  5.33333333,  3.        ,  4.        ,\n",
       "       10.        ,  5.33333333, 12.        ])"
      ]
     },
     "execution_count": 47,
     "metadata": {},
     "output_type": "execute_result"
    }
   ],
   "source": [
    "a = np.array([1, 2, np.nan, 3, 4,10, np.nan, 12])\n",
    "np.where(np.isnan(a), np.nanmean(a), a)"
   ]
  }
 ],
 "metadata": {
  "kernelspec": {
   "display_name": "Python 3",
   "language": "python",
   "name": "python3"
  },
  "language_info": {
   "codemirror_mode": {
    "name": "ipython",
    "version": 3
   },
   "file_extension": ".py",
   "mimetype": "text/x-python",
   "name": "python",
   "nbconvert_exporter": "python",
   "pygments_lexer": "ipython3",
   "version": "3.12.4"
  }
 },
 "nbformat": 4,
 "nbformat_minor": 2
}
