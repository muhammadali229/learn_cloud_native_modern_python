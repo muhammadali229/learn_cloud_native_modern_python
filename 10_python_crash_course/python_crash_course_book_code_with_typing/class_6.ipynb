{
 "cells": [
  {
   "cell_type": "code",
   "execution_count": 1,
   "id": "eb409335",
   "metadata": {},
   "outputs": [
    {
     "name": "stdout",
     "output_type": "stream",
     "text": [
      "Pakistan Zindabad\n"
     ]
    }
   ],
   "source": [
    "if True:\n",
    "    print('Pakistan Zindabad')\n",
    "else:\n",
    "    print('Hahaha')"
   ]
  },
  {
   "cell_type": "code",
   "execution_count": 2,
   "id": "92e1ded1",
   "metadata": {},
   "outputs": [
    {
     "name": "stdout",
     "output_type": "stream",
     "text": [
      "Pakistan Zindabad\n"
     ]
    }
   ],
   "source": [
    "print('Pakistan Zindabad') if True else print('HAHAHAHA')"
   ]
  },
  {
   "cell_type": "code",
   "execution_count": 3,
   "id": "225c36f8",
   "metadata": {},
   "outputs": [
    {
     "name": "stdout",
     "output_type": "stream",
     "text": [
      "HAHAHAHA\n"
     ]
    }
   ],
   "source": [
    "print('Pakistan Zindabad') if False else print('HAHAHAHA')"
   ]
  },
  {
   "cell_type": "code",
   "execution_count": 4,
   "id": "19e76421",
   "metadata": {},
   "outputs": [
    {
     "name": "stdout",
     "output_type": "stream",
     "text": [
      "Elif\n"
     ]
    }
   ],
   "source": [
    "if False:\n",
    "    print('If')\n",
    "elif True:\n",
    "    print('Elif')\n",
    "else:\n",
    "    print('Else')"
   ]
  },
  {
   "cell_type": "code",
   "execution_count": 5,
   "id": "9bbba49d",
   "metadata": {},
   "outputs": [
    {
     "name": "stdout",
     "output_type": "stream",
     "text": [
      "Elif-2\n"
     ]
    }
   ],
   "source": [
    "if False:\n",
    "    print('If')\n",
    "elif False:\n",
    "    print('Elif-1')\n",
    "elif True:\n",
    "    print('Elif-2')\n",
    "else:\n",
    "    print('Else')"
   ]
  },
  {
   "cell_type": "code",
   "execution_count": 6,
   "id": "9130a5f4",
   "metadata": {},
   "outputs": [
    {
     "name": "stdout",
     "output_type": "stream",
     "text": [
      "Elif-2\n"
     ]
    }
   ],
   "source": [
    "if False:\n",
    "    print('If')\n",
    "elif False:\n",
    "    print('Elif-1')\n",
    "elif True:\n",
    "    print('Elif-2')"
   ]
  },
  {
   "cell_type": "code",
   "execution_count": 7,
   "id": "1c3b107c",
   "metadata": {},
   "outputs": [
    {
     "name": "stdout",
     "output_type": "stream",
     "text": [
      "Elif-2\n"
     ]
    }
   ],
   "source": [
    "if False:\n",
    "    print('If')\n",
    "elif False:\n",
    "    print('Elif-1')\n",
    "elif True:\n",
    "    print('Elif-2')\n",
    "elif True:\n",
    "    print('Elif-3')"
   ]
  },
  {
   "cell_type": "code",
   "execution_count": 9,
   "id": "f36a380c",
   "metadata": {},
   "outputs": [
    {
     "name": "stdout",
     "output_type": "stream",
     "text": [
      "80\n"
     ]
    }
   ],
   "source": [
    "from typing import Union\n",
    "percentage: Union[int, float] = 80\n",
    "print(percentage)"
   ]
  },
  {
   "cell_type": "code",
   "execution_count": 18,
   "id": "5afbbd51",
   "metadata": {},
   "outputs": [
    {
     "name": "stdout",
     "output_type": "stream",
     "text": [
      "Enter your percentage: 91.7\n",
      "91.7\n",
      "Your Percentage is: 91.7\n",
      "Your grade is: A\n"
     ]
    }
   ],
   "source": [
    "from typing import Union\n",
    "percentage: Union[int, float] = float(input('Enter your percentage: '))\n",
    "print(percentage)\n",
    "grade: Union[str, None] = None\n",
    "if percentage >= 90:\n",
    "    grade = 'A'\n",
    "elif percentage >= 80:\n",
    "    grade = 'B+'\n",
    "elif percentage >= 70:\n",
    "    grade = 'B'\n",
    "elif percentage >= 60:\n",
    "    grade = 'C+'\n",
    "elif percentage >= 50:\n",
    "    grade = 'C'\n",
    "elif percentage >= 33:\n",
    "    grade = 'D'\n",
    "else:\n",
    "    grade = 'Fail'\n",
    "print(f'Your Percentage is: {percentage}\\nYour grade is: {grade}')"
   ]
  },
  {
   "cell_type": "code",
   "execution_count": 24,
   "id": "b4f7082c",
   "metadata": {},
   "outputs": [
    {
     "name": "stdout",
     "output_type": "stream",
     "text": [
      "Enter your percentage: 86.2\n",
      "86.2\n",
      "Your Percentage is: 86.2\n",
      "Your grade is: B+\n"
     ]
    }
   ],
   "source": [
    "from typing import Union, Optional\n",
    "percentage: Union[int, float] = float(input('Enter your percentage: '))\n",
    "print(percentage)\n",
    "grade: Optional[str] = None\n",
    "if percentage >= 90:\n",
    "    grade = 'A'\n",
    "elif percentage >= 80:\n",
    "    grade = 'B+'\n",
    "elif percentage >= 70:\n",
    "    grade = 'B'\n",
    "elif percentage >= 60:\n",
    "    grade = 'C+'\n",
    "elif percentage >= 50:\n",
    "    grade = 'C'\n",
    "elif percentage >= 33:\n",
    "    grade = 'D'\n",
    "else:\n",
    "    grade = 'Fail'\n",
    "print(f'Your Percentage is: {percentage}\\nYour grade is: {grade}')"
   ]
  },
  {
   "cell_type": "code",
   "execution_count": 27,
   "id": "6e3ff94c",
   "metadata": {},
   "outputs": [
    {
     "name": "stdout",
     "output_type": "stream",
     "text": [
      "Enter your percentage: 69.56\n",
      "69.56\n",
      "Your Percentage is: 69.56\n",
      "Your grade is: C+\n"
     ]
    }
   ],
   "source": [
    "from typing import Union, Optional\n",
    "percentage: Union[int, float] = float(input('Enter your percentage: '))\n",
    "print(percentage)\n",
    "grade: Optional[str] = None\n",
    "if percentage >= 90 and percentage < 101:\n",
    "    grade = 'A'\n",
    "elif percentage >= 80 and percentage < 90:\n",
    "    grade = 'B+'\n",
    "elif percentage >= 70 and percentage < 80:\n",
    "    grade = 'B'\n",
    "elif percentage >= 60 and percentage < 70:\n",
    "    grade = 'C+'\n",
    "elif percentage >= 50 and percentage < 60:\n",
    "    grade = 'C'\n",
    "elif percentage >= 33 and percentage < 50:\n",
    "    grade = 'D'\n",
    "else:\n",
    "    grade = 'Fail'\n",
    "print(f'Your Percentage is: {percentage}\\nYour grade is: {grade}')"
   ]
  },
  {
   "cell_type": "code",
   "execution_count": 54,
   "id": "a8e69cb3",
   "metadata": {},
   "outputs": [
    {
     "name": "stdout",
     "output_type": "stream",
     "text": [
      "[86.2, 90, 68.24, 99.9, 32.5, 58.5, 72.6]\n",
      "['B+', 'A', 'C+', 'A', 'Fail', 'C', 'B']\n"
     ]
    }
   ],
   "source": [
    "from typing import Union, Optional, List\n",
    "PerType = Union[int, float]\n",
    "percentages: List[PerType] = [86.2, 90, 68.24, 99.9, 32.5, 58.5, 72.6]\n",
    "grades: List[str] = []\n",
    "for per in percentages:\n",
    "    grade: Optional[str] = None\n",
    "    if per >= 90 and per < 101:\n",
    "        grade = 'A'\n",
    "    elif per >= 80 and per < 90:\n",
    "        grade = 'B+'\n",
    "    elif per >= 70 and per < 80:\n",
    "        grade = 'B'\n",
    "    elif per >= 60 and per < 70:\n",
    "        grade = 'C+'\n",
    "    elif per >= 50 and per < 60:\n",
    "        grade = 'C'\n",
    "    elif per >= 33 and per < 50:\n",
    "        grade = 'D'\n",
    "    else:\n",
    "        grade = 'Fail'\n",
    "    grades.append(grade)\n",
    "print(percentages)\n",
    "print(grades)"
   ]
  },
  {
   "cell_type": "code",
   "execution_count": 56,
   "id": "c4f0f078",
   "metadata": {},
   "outputs": [],
   "source": [
    "is_good = ['Good' if s >= 70 else 'Average' for s in percentages]\n",
    "student_grades_perc: zip = list(zip(percentages, grades, list(range(len(percentages))), is_good))"
   ]
  },
  {
   "cell_type": "code",
   "execution_count": 57,
   "id": "b00fa314",
   "metadata": {},
   "outputs": [
    {
     "data": {
      "text/plain": [
       "[(32.5, 'Fail', 4, 'Average'),\n",
       " (58.5, 'C', 5, 'Average'),\n",
       " (68.24, 'C+', 2, 'Average'),\n",
       " (72.6, 'B', 6, 'Good'),\n",
       " (86.2, 'B+', 0, 'Good'),\n",
       " (90, 'A', 1, 'Good'),\n",
       " (99.9, 'A', 3, 'Good')]"
      ]
     },
     "execution_count": 57,
     "metadata": {},
     "output_type": "execute_result"
    }
   ],
   "source": [
    "sorted(student_grades_perc)"
   ]
  },
  {
   "cell_type": "code",
   "execution_count": 58,
   "id": "83c24664",
   "metadata": {},
   "outputs": [
    {
     "data": {
      "text/plain": [
       "[(86.2, 'B+', 0, 'Good'),\n",
       " (90, 'A', 1, 'Good'),\n",
       " (68.24, 'C+', 2, 'Average'),\n",
       " (99.9, 'A', 3, 'Good'),\n",
       " (32.5, 'Fail', 4, 'Average'),\n",
       " (58.5, 'C', 5, 'Average'),\n",
       " (72.6, 'B', 6, 'Good')]"
      ]
     },
     "execution_count": 58,
     "metadata": {},
     "output_type": "execute_result"
    }
   ],
   "source": [
    "sorted(student_grades_perc, key=lambda x: x[2])"
   ]
  },
  {
   "cell_type": "code",
   "execution_count": 60,
   "id": "905118d0",
   "metadata": {},
   "outputs": [
    {
     "name": "stdout",
     "output_type": "stream",
     "text": [
      "['Bmw', 'AUDI', 'Honda', 'Toyata']\n",
      "False\n"
     ]
    }
   ],
   "source": [
    "cars :List[str] = ['bmw', 'audi', 'honda', 'toyata']\n",
    "print([car.upper() if car == 'audi' else car.title() for car in cars])\n",
    "print('Mehran' in cars)"
   ]
  },
  {
   "cell_type": "code",
   "execution_count": 62,
   "id": "b7e9d644",
   "metadata": {},
   "outputs": [
    {
     "name": "stdout",
     "output_type": "stream",
     "text": [
      "Adding toppings mushroom\n",
      "Finish in making pizza\n"
     ]
    }
   ],
   "source": [
    "toppings :List[str] = ['mushroom']\n",
    "if toppings:\n",
    "    for t in toppings:\n",
    "        print(f'Adding toppings {t}')\n",
    "    print('Finish in making pizza')\n",
    "else:\n",
    "    print('Are you sure you want plain pizza')"
   ]
  },
  {
   "cell_type": "code",
   "execution_count": 63,
   "id": "1eeb16bc",
   "metadata": {},
   "outputs": [
    {
     "name": "stdout",
     "output_type": "stream",
     "text": [
      "Are you sure you want plain pizza\n"
     ]
    }
   ],
   "source": [
    "toppings :List[str] = []\n",
    "if toppings:\n",
    "    for t in toppings:\n",
    "        print(f'Adding toppings {t}')\n",
    "    print('Finish in making pizza')\n",
    "else:\n",
    "    print('Are you sure you want plain pizza')"
   ]
  },
  {
   "cell_type": "code",
   "execution_count": 69,
   "id": "26573fef",
   "metadata": {},
   "outputs": [
    {
     "name": "stdout",
     "output_type": "stream",
     "text": [
      "Enter requested toppings: peproni,cheese\n",
      "peproni not availaible\n",
      "Adding toppings cheese\n",
      "Finish in making pizza\n"
     ]
    }
   ],
   "source": [
    "request_toppings :List[str] = input('Enter requested toppings: ').split(',')\n",
    "available_topping : List[str] = ['cheese', 'mushroom']\n",
    "if request_toppings:\n",
    "    for t in request_toppings:\n",
    "        if t in available_topping:\n",
    "            print(f'Adding toppings {t}')\n",
    "        else:\n",
    "            print(f'{t} not availaible')\n",
    "    print('Finish in making pizza')\n",
    "else:\n",
    "    print('Are you sure you want plain pizza')"
   ]
  },
  {
   "cell_type": "code",
   "execution_count": 72,
   "id": "871c5afc",
   "metadata": {},
   "outputs": [
    {
     "name": "stdout",
     "output_type": "stream",
     "text": [
      "Enter otp: 1234\n",
      "Login\n"
     ]
    }
   ],
   "source": [
    "username: str = 'admin'\n",
    "password: str = 'admin'\n",
    "if username == 'admin' and password == 'admin':\n",
    "    otp = input('Enter otp: ')\n",
    "    if otp == '1234':\n",
    "        print('Login')\n",
    "    else:\n",
    "        print('OTP Not correct')\n",
    "else:\n",
    "    print('credentials incorrect')"
   ]
  }
 ],
 "metadata": {
  "kernelspec": {
   "display_name": "Python 3 (ipykernel)",
   "language": "python",
   "name": "python3"
  },
  "language_info": {
   "codemirror_mode": {
    "name": "ipython",
    "version": 3
   },
   "file_extension": ".py",
   "mimetype": "text/x-python",
   "name": "python",
   "nbconvert_exporter": "python",
   "pygments_lexer": "ipython3",
   "version": "3.7.9"
  }
 },
 "nbformat": 4,
 "nbformat_minor": 5
}
