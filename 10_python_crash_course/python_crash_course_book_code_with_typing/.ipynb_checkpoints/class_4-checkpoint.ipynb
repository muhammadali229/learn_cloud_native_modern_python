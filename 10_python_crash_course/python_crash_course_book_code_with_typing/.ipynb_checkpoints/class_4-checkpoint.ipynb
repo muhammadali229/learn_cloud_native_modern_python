{
 "cells": [
  {
   "cell_type": "code",
   "execution_count": 1,
   "id": "5244a06f",
   "metadata": {},
   "outputs": [
    {
     "name": "stdout",
     "output_type": "stream",
     "text": [
      "hamza\n",
      "ali\n",
      "yasir\n",
      "hamza\n"
     ]
    }
   ],
   "source": [
    "lst = ['ali', 'yasir', 'hamza']\n",
    "print(lst[-1])\n",
    "print(lst[0])\n",
    "print(lst[-2])\n",
    "print(lst[2])"
   ]
  },
  {
   "cell_type": "code",
   "execution_count": 2,
   "id": "ad965903",
   "metadata": {},
   "outputs": [
    {
     "name": "stdout",
     "output_type": "stream",
     "text": [
      "<class 'list'>\n",
      "<class 'str'>\n"
     ]
    }
   ],
   "source": [
    "from typing import List, Any\n",
    "lst: List[Any] = [1, 2, 'a']\n",
    "print(type(lst))\n",
    "print(type(lst[-1]))"
   ]
  },
  {
   "cell_type": "code",
   "execution_count": 3,
   "id": "4de266e7",
   "metadata": {},
   "outputs": [
    {
     "name": "stdout",
     "output_type": "stream",
     "text": [
      "<class 'list'>\n",
      "<class 'bool'>\n"
     ]
    }
   ],
   "source": [
    "from typing import List\n",
    "lst: List[str] = [1, 2, 'a', True]\n",
    "print(type(lst))\n",
    "print(type(lst[-1]))"
   ]
  },
  {
   "cell_type": "code",
   "execution_count": 4,
   "id": "35148a18",
   "metadata": {},
   "outputs": [
    {
     "name": "stdout",
     "output_type": "stream",
     "text": [
      "['A', 'B', 'C', 'D', 'E', 'F', 'G', 'H', 'I', 'J', 'K', 'L', 'M', 'N', 'O', 'P', 'Q', 'R', 'S', 'T', 'U', 'V', 'W', 'X', 'Y', 'Z']\n"
     ]
    }
   ],
   "source": [
    "characters : List[str] = [chr(i) for i in range(65, 91)]\n",
    "print(characters)"
   ]
  },
  {
   "cell_type": "code",
   "execution_count": 5,
   "id": "2b4dcdbf",
   "metadata": {},
   "outputs": [
    {
     "data": {
      "text/plain": [
       "['A', 'B', 'C', 'D', 'E', 'F']"
      ]
     },
     "execution_count": 5,
     "metadata": {},
     "output_type": "execute_result"
    }
   ],
   "source": [
    "characters[:6]"
   ]
  },
  {
   "cell_type": "code",
   "execution_count": 6,
   "id": "f6254189",
   "metadata": {},
   "outputs": [
    {
     "data": {
      "text/plain": [
       "['A', 'B']"
      ]
     },
     "execution_count": 6,
     "metadata": {},
     "output_type": "execute_result"
    }
   ],
   "source": [
    "characters[0:2]"
   ]
  },
  {
   "cell_type": "code",
   "execution_count": 7,
   "id": "dce85df0",
   "metadata": {},
   "outputs": [
    {
     "data": {
      "text/plain": [
       "['A', 'B']"
      ]
     },
     "execution_count": 7,
     "metadata": {},
     "output_type": "execute_result"
    }
   ],
   "source": [
    "characters[-26:-24]"
   ]
  },
  {
   "cell_type": "code",
   "execution_count": 8,
   "id": "67482814",
   "metadata": {},
   "outputs": [
    {
     "data": {
      "text/plain": [
       "['Y', 'Z']"
      ]
     },
     "execution_count": 8,
     "metadata": {},
     "output_type": "execute_result"
    }
   ],
   "source": [
    "characters[-2:]"
   ]
  },
  {
   "cell_type": "code",
   "execution_count": 9,
   "id": "4eb961b5",
   "metadata": {},
   "outputs": [
    {
     "name": "stdout",
     "output_type": "stream",
     "text": [
      "['Z', 'Y', 'X', 'W', 'V', 'U', 'T', 'S', 'R', 'Q', 'P', 'O', 'N', 'M', 'L', 'K', 'J', 'I', 'H', 'G', 'F', 'E', 'D', 'C', 'B', 'A']\n"
     ]
    }
   ],
   "source": [
    "print(characters[::-1])"
   ]
  },
  {
   "cell_type": "code",
   "execution_count": 10,
   "id": "d6b202d4",
   "metadata": {},
   "outputs": [
    {
     "data": {
      "text/plain": [
       "['A', 'C', 'E', 'G', 'I', 'K', 'M', 'O', 'Q', 'S', 'U', 'W', 'Y']"
      ]
     },
     "execution_count": 10,
     "metadata": {},
     "output_type": "execute_result"
    }
   ],
   "source": [
    "characters[::2]"
   ]
  },
  {
   "cell_type": "code",
   "execution_count": 25,
   "id": "1ac86b85",
   "metadata": {},
   "outputs": [
    {
     "name": "stdout",
     "output_type": "stream",
     "text": [
      "['A', 'B', 'C', 'D', 'E', 'F', 'G', 'H']\n",
      "[0, 1, 2, 3, 4, 5, 6, 7]\n",
      "[-1, -2, -3, -4, -5, -6, -7]\n",
      "['B', 'C', 'D', 'E']\n",
      "[]\n",
      "['H', 'G', 'F', 'E']\n"
     ]
    }
   ],
   "source": [
    "ch_new = characters[:8]\n",
    "print(ch_new)\n",
    "print([i for i in range(0, len(ch_new))])\n",
    "print([i for i in range(-1, -len(ch_new), -1)])\n",
    "print(ch_new[1:-3])\n",
    "print(ch_new[-1:-5]) # it show empty list\n",
    "print(ch_new[-1:-5:-1])"
   ]
  },
  {
   "cell_type": "code",
   "execution_count": 26,
   "id": "92772f1d",
   "metadata": {},
   "outputs": [],
   "source": [
    "from typing import List, Any\n",
    "lst: List[Any] = [1, 2, 'a', 'ali', 'yasir']"
   ]
  },
  {
   "cell_type": "code",
   "execution_count": 27,
   "id": "80ccb52b",
   "metadata": {},
   "outputs": [],
   "source": [
    "lst[1] = 'raja'"
   ]
  },
  {
   "cell_type": "code",
   "execution_count": 28,
   "id": "d0b501b0",
   "metadata": {},
   "outputs": [
    {
     "data": {
      "text/plain": [
       "[1, 'raja', 'a', 'ali', 'yasir']"
      ]
     },
     "execution_count": 28,
     "metadata": {},
     "output_type": "execute_result"
    }
   ],
   "source": [
    "lst"
   ]
  },
  {
   "cell_type": "code",
   "execution_count": 29,
   "id": "bd0fbb88",
   "metadata": {},
   "outputs": [],
   "source": [
    "del lst[-1]"
   ]
  },
  {
   "cell_type": "code",
   "execution_count": 30,
   "id": "00f21a3e",
   "metadata": {},
   "outputs": [
    {
     "data": {
      "text/plain": [
       "[1, 'raja', 'a', 'ali']"
      ]
     },
     "execution_count": 30,
     "metadata": {},
     "output_type": "execute_result"
    }
   ],
   "source": [
    "lst"
   ]
  },
  {
   "cell_type": "code",
   "execution_count": 31,
   "id": "c94d4506",
   "metadata": {},
   "outputs": [
    {
     "name": "stdout",
     "output_type": "stream",
     "text": [
      "ali\n"
     ]
    },
    {
     "data": {
      "text/plain": [
       "None"
      ]
     },
     "metadata": {},
     "output_type": "display_data"
    }
   ],
   "source": [
    "a:str = print('ali')\n",
    "display(a)"
   ]
  },
  {
   "cell_type": "code",
   "execution_count": 32,
   "id": "8b55b3a9",
   "metadata": {},
   "outputs": [
    {
     "name": "stdout",
     "output_type": "stream",
     "text": [
      "['append', 'clear', 'copy', 'count', 'extend', 'index', 'insert', 'pop', 'remove', 'reverse', 'sort']\n"
     ]
    }
   ],
   "source": [
    "print([i for i in dir(list) if '__' not in i])"
   ]
  },
  {
   "cell_type": "code",
   "execution_count": 33,
   "id": "1f06ed5f",
   "metadata": {},
   "outputs": [
    {
     "name": "stdout",
     "output_type": "stream",
     "text": [
      "Help on class list in module builtins:\n",
      "\n",
      "class list(object)\n",
      " |  list(iterable=(), /)\n",
      " |  \n",
      " |  Built-in mutable sequence.\n",
      " |  \n",
      " |  If no argument is given, the constructor creates a new empty list.\n",
      " |  The argument must be an iterable if specified.\n",
      " |  \n",
      " |  Methods defined here:\n",
      " |  \n",
      " |  __add__(self, value, /)\n",
      " |      Return self+value.\n",
      " |  \n",
      " |  __contains__(self, key, /)\n",
      " |      Return key in self.\n",
      " |  \n",
      " |  __delitem__(self, key, /)\n",
      " |      Delete self[key].\n",
      " |  \n",
      " |  __eq__(self, value, /)\n",
      " |      Return self==value.\n",
      " |  \n",
      " |  __ge__(self, value, /)\n",
      " |      Return self>=value.\n",
      " |  \n",
      " |  __getattribute__(self, name, /)\n",
      " |      Return getattr(self, name).\n",
      " |  \n",
      " |  __getitem__(...)\n",
      " |      x.__getitem__(y) <==> x[y]\n",
      " |  \n",
      " |  __gt__(self, value, /)\n",
      " |      Return self>value.\n",
      " |  \n",
      " |  __iadd__(self, value, /)\n",
      " |      Implement self+=value.\n",
      " |  \n",
      " |  __imul__(self, value, /)\n",
      " |      Implement self*=value.\n",
      " |  \n",
      " |  __init__(self, /, *args, **kwargs)\n",
      " |      Initialize self.  See help(type(self)) for accurate signature.\n",
      " |  \n",
      " |  __iter__(self, /)\n",
      " |      Implement iter(self).\n",
      " |  \n",
      " |  __le__(self, value, /)\n",
      " |      Return self<=value.\n",
      " |  \n",
      " |  __len__(self, /)\n",
      " |      Return len(self).\n",
      " |  \n",
      " |  __lt__(self, value, /)\n",
      " |      Return self<value.\n",
      " |  \n",
      " |  __mul__(self, value, /)\n",
      " |      Return self*value.\n",
      " |  \n",
      " |  __ne__(self, value, /)\n",
      " |      Return self!=value.\n",
      " |  \n",
      " |  __repr__(self, /)\n",
      " |      Return repr(self).\n",
      " |  \n",
      " |  __reversed__(self, /)\n",
      " |      Return a reverse iterator over the list.\n",
      " |  \n",
      " |  __rmul__(self, value, /)\n",
      " |      Return value*self.\n",
      " |  \n",
      " |  __setitem__(self, key, value, /)\n",
      " |      Set self[key] to value.\n",
      " |  \n",
      " |  __sizeof__(self, /)\n",
      " |      Return the size of the list in memory, in bytes.\n",
      " |  \n",
      " |  append(self, object, /)\n",
      " |      Append object to the end of the list.\n",
      " |  \n",
      " |  clear(self, /)\n",
      " |      Remove all items from list.\n",
      " |  \n",
      " |  copy(self, /)\n",
      " |      Return a shallow copy of the list.\n",
      " |  \n",
      " |  count(self, value, /)\n",
      " |      Return number of occurrences of value.\n",
      " |  \n",
      " |  extend(self, iterable, /)\n",
      " |      Extend list by appending elements from the iterable.\n",
      " |  \n",
      " |  index(self, value, start=0, stop=9223372036854775807, /)\n",
      " |      Return first index of value.\n",
      " |      \n",
      " |      Raises ValueError if the value is not present.\n",
      " |  \n",
      " |  insert(self, index, object, /)\n",
      " |      Insert object before index.\n",
      " |  \n",
      " |  pop(self, index=-1, /)\n",
      " |      Remove and return item at index (default last).\n",
      " |      \n",
      " |      Raises IndexError if list is empty or index is out of range.\n",
      " |  \n",
      " |  remove(self, value, /)\n",
      " |      Remove first occurrence of value.\n",
      " |      \n",
      " |      Raises ValueError if the value is not present.\n",
      " |  \n",
      " |  reverse(self, /)\n",
      " |      Reverse *IN PLACE*.\n",
      " |  \n",
      " |  sort(self, /, *, key=None, reverse=False)\n",
      " |      Stable sort *IN PLACE*.\n",
      " |  \n",
      " |  ----------------------------------------------------------------------\n",
      " |  Static methods defined here:\n",
      " |  \n",
      " |  __new__(*args, **kwargs) from builtins.type\n",
      " |      Create and return a new object.  See help(type) for accurate signature.\n",
      " |  \n",
      " |  ----------------------------------------------------------------------\n",
      " |  Data and other attributes defined here:\n",
      " |  \n",
      " |  __hash__ = None\n",
      "\n"
     ]
    }
   ],
   "source": [
    "help(list)"
   ]
  },
  {
   "cell_type": "code",
   "execution_count": 34,
   "id": "08daf14e",
   "metadata": {},
   "outputs": [],
   "source": [
    "from typing import List, Any\n",
    "lst: List[Any] = [1, 2, 'a', 'ali', 'yasir']"
   ]
  },
  {
   "cell_type": "code",
   "execution_count": 36,
   "id": "11d07654",
   "metadata": {},
   "outputs": [],
   "source": [
    "# a:str = del lst[0] error\n",
    "a:str = lst.pop()"
   ]
  },
  {
   "cell_type": "code",
   "execution_count": 37,
   "id": "ede266e1",
   "metadata": {},
   "outputs": [
    {
     "data": {
      "text/plain": [
       "'yasir'"
      ]
     },
     "execution_count": 37,
     "metadata": {},
     "output_type": "execute_result"
    }
   ],
   "source": [
    "a"
   ]
  },
  {
   "cell_type": "code",
   "execution_count": 38,
   "id": "cb56a4d2",
   "metadata": {},
   "outputs": [
    {
     "data": {
      "text/plain": [
       "[1, 2, 'a', 'ali']"
      ]
     },
     "execution_count": 38,
     "metadata": {},
     "output_type": "execute_result"
    }
   ],
   "source": [
    "lst"
   ]
  },
  {
   "cell_type": "code",
   "execution_count": 39,
   "id": "de8bcded",
   "metadata": {},
   "outputs": [
    {
     "name": "stdout",
     "output_type": "stream",
     "text": [
      "ali\n",
      "None\n"
     ]
    }
   ],
   "source": [
    "print(print('ali'))"
   ]
  },
  {
   "cell_type": "code",
   "execution_count": 40,
   "id": "d716f54f",
   "metadata": {},
   "outputs": [
    {
     "data": {
      "text/plain": [
       "2"
      ]
     },
     "execution_count": 40,
     "metadata": {},
     "output_type": "execute_result"
    }
   ],
   "source": [
    "lst.pop(1)"
   ]
  },
  {
   "cell_type": "code",
   "execution_count": 41,
   "id": "ffa3b7a7",
   "metadata": {},
   "outputs": [
    {
     "data": {
      "text/plain": [
       "[1, 'a', 'ali']"
      ]
     },
     "execution_count": 41,
     "metadata": {},
     "output_type": "execute_result"
    }
   ],
   "source": [
    "lst"
   ]
  },
  {
   "cell_type": "code",
   "execution_count": 42,
   "id": "5d3ab95f",
   "metadata": {},
   "outputs": [],
   "source": [
    "todos: str = []"
   ]
  },
  {
   "cell_type": "code",
   "execution_count": 43,
   "id": "5ca085fc",
   "metadata": {},
   "outputs": [],
   "source": [
    "todos.append('macroni')"
   ]
  },
  {
   "cell_type": "code",
   "execution_count": 44,
   "id": "1aeee0d6",
   "metadata": {},
   "outputs": [
    {
     "data": {
      "text/plain": [
       "['macroni']"
      ]
     },
     "execution_count": 44,
     "metadata": {},
     "output_type": "execute_result"
    }
   ],
   "source": [
    "todos"
   ]
  },
  {
   "cell_type": "code",
   "execution_count": 45,
   "id": "7b927471",
   "metadata": {},
   "outputs": [],
   "source": [
    "todos.append('mango')"
   ]
  },
  {
   "cell_type": "code",
   "execution_count": 46,
   "id": "b9c9b587",
   "metadata": {},
   "outputs": [],
   "source": [
    "todos.append('handfree')"
   ]
  },
  {
   "cell_type": "code",
   "execution_count": 47,
   "id": "b202b1ca",
   "metadata": {},
   "outputs": [
    {
     "data": {
      "text/plain": [
       "['macroni', 'mango', 'handfree']"
      ]
     },
     "execution_count": 47,
     "metadata": {},
     "output_type": "execute_result"
    }
   ],
   "source": [
    "todos"
   ]
  },
  {
   "cell_type": "code",
   "execution_count": 48,
   "id": "2c1bb882",
   "metadata": {},
   "outputs": [],
   "source": [
    "todos.insert(1, 'sela rice')"
   ]
  },
  {
   "cell_type": "code",
   "execution_count": 49,
   "id": "26c59706",
   "metadata": {},
   "outputs": [
    {
     "data": {
      "text/plain": [
       "['macroni', 'sela rice', 'mango', 'handfree']"
      ]
     },
     "execution_count": 49,
     "metadata": {},
     "output_type": "execute_result"
    }
   ],
   "source": [
    "todos"
   ]
  },
  {
   "cell_type": "code",
   "execution_count": 56,
   "id": "56783e69",
   "metadata": {},
   "outputs": [
    {
     "data": {
      "text/plain": [
       "['macroni', 'sela rice', 'mango', 'handfree']"
      ]
     },
     "execution_count": 56,
     "metadata": {},
     "output_type": "execute_result"
    }
   ],
   "source": [
    "todos_new = todos[:]\n",
    "todos_new"
   ]
  },
  {
   "cell_type": "code",
   "execution_count": 57,
   "id": "c6209ddb",
   "metadata": {},
   "outputs": [],
   "source": [
    "# del todos_new"
   ]
  },
  {
   "cell_type": "code",
   "execution_count": 58,
   "id": "459e03a0",
   "metadata": {},
   "outputs": [],
   "source": [
    "# todos_new"
   ]
  },
  {
   "cell_type": "code",
   "execution_count": 59,
   "id": "748cb282",
   "metadata": {},
   "outputs": [],
   "source": [
    "todos_new.clear()"
   ]
  },
  {
   "cell_type": "code",
   "execution_count": 60,
   "id": "37ec3be6",
   "metadata": {},
   "outputs": [
    {
     "data": {
      "text/plain": [
       "[]"
      ]
     },
     "execution_count": 60,
     "metadata": {},
     "output_type": "execute_result"
    }
   ],
   "source": [
    "todos_new"
   ]
  },
  {
   "cell_type": "code",
   "execution_count": 61,
   "id": "f9384a99",
   "metadata": {},
   "outputs": [],
   "source": [
    "todos_new_1 = todos.copy() # deep copy"
   ]
  },
  {
   "cell_type": "code",
   "execution_count": 62,
   "id": "33c1f16e",
   "metadata": {},
   "outputs": [
    {
     "name": "stdout",
     "output_type": "stream",
     "text": [
      "['macroni', 'sela rice', 'mango', 'handfree']\n"
     ]
    }
   ],
   "source": [
    "print(todos)"
   ]
  },
  {
   "cell_type": "code",
   "execution_count": 64,
   "id": "559ada63",
   "metadata": {},
   "outputs": [
    {
     "name": "stdout",
     "output_type": "stream",
     "text": [
      "['macroni', 'sela rice', 'mango', 'handfree']\n"
     ]
    }
   ],
   "source": [
    "print(todos_new_1)"
   ]
  },
  {
   "cell_type": "code",
   "execution_count": 65,
   "id": "8be06132",
   "metadata": {},
   "outputs": [],
   "source": [
    "todos_new_1[0] = 'mobile'"
   ]
  },
  {
   "cell_type": "code",
   "execution_count": 66,
   "id": "13c6bc45",
   "metadata": {},
   "outputs": [
    {
     "data": {
      "text/plain": [
       "['macroni', 'sela rice', 'mango', 'handfree']"
      ]
     },
     "execution_count": 66,
     "metadata": {},
     "output_type": "execute_result"
    }
   ],
   "source": [
    "todos"
   ]
  },
  {
   "cell_type": "code",
   "execution_count": 67,
   "id": "34a4e3e4",
   "metadata": {},
   "outputs": [
    {
     "data": {
      "text/plain": [
       "['mobile', 'sela rice', 'mango', 'handfree']"
      ]
     },
     "execution_count": 67,
     "metadata": {},
     "output_type": "execute_result"
    }
   ],
   "source": [
    "todos_new_1"
   ]
  },
  {
   "cell_type": "code",
   "execution_count": 68,
   "id": "e60343c9",
   "metadata": {},
   "outputs": [],
   "source": [
    "todos_new_2 = todos # shallow copy"
   ]
  },
  {
   "cell_type": "code",
   "execution_count": 70,
   "id": "e1ed3b7e",
   "metadata": {},
   "outputs": [
    {
     "name": "stdout",
     "output_type": "stream",
     "text": [
      "['macroni', 'sela rice', 'mango', 'handfree']\n",
      "['macroni', 'sela rice', 'mango', 'handfree']\n"
     ]
    }
   ],
   "source": [
    "print(todos_new_2)\n",
    "print(todos)"
   ]
  },
  {
   "cell_type": "code",
   "execution_count": 71,
   "id": "1e79acd6",
   "metadata": {},
   "outputs": [],
   "source": [
    "todos_new_2[0] = 'mobile'"
   ]
  },
  {
   "cell_type": "code",
   "execution_count": 72,
   "id": "d10d6da0",
   "metadata": {},
   "outputs": [
    {
     "name": "stdout",
     "output_type": "stream",
     "text": [
      "['mobile', 'sela rice', 'mango', 'handfree']\n",
      "['mobile', 'sela rice', 'mango', 'handfree']\n"
     ]
    }
   ],
   "source": [
    "print(todos_new_2)\n",
    "print(todos)"
   ]
  },
  {
   "cell_type": "code",
   "execution_count": 73,
   "id": "030b4533",
   "metadata": {},
   "outputs": [],
   "source": [
    "va:str = ['a', 'a', 'a', 'b', 'ç']"
   ]
  },
  {
   "cell_type": "code",
   "execution_count": 74,
   "id": "22ead7bf",
   "metadata": {},
   "outputs": [
    {
     "data": {
      "text/plain": [
       "3"
      ]
     },
     "execution_count": 74,
     "metadata": {},
     "output_type": "execute_result"
    }
   ],
   "source": [
    "va.count('a')"
   ]
  },
  {
   "cell_type": "code",
   "execution_count": 87,
   "id": "fa3145f7",
   "metadata": {},
   "outputs": [
    {
     "data": {
      "text/plain": [
       "['ali', 'anus', ['umair', 'majid', 'zubair']]"
      ]
     },
     "execution_count": 87,
     "metadata": {},
     "output_type": "execute_result"
    }
   ],
   "source": [
    "retainer = ['ali', 'anus']\n",
    "new_retainer = ['umair', 'majid', 'zubair']\n",
    "retainer.append(new_retainer)\n",
    "retainer"
   ]
  },
  {
   "cell_type": "code",
   "execution_count": 89,
   "id": "0879709d",
   "metadata": {},
   "outputs": [
    {
     "data": {
      "text/plain": [
       "['ali', 'anus', 'umair', 'majid', 'zubair']"
      ]
     },
     "execution_count": 89,
     "metadata": {},
     "output_type": "execute_result"
    }
   ],
   "source": [
    "retainer = ['ali', 'anus']\n",
    "new_retainer = ['umair', 'majid', 'zubair']\n",
    "retainer.extend(new_retainer)\n",
    "retainer"
   ]
  },
  {
   "cell_type": "code",
   "execution_count": 90,
   "id": "917da4c3",
   "metadata": {},
   "outputs": [
    {
     "data": {
      "text/plain": [
       "3"
      ]
     },
     "execution_count": 90,
     "metadata": {},
     "output_type": "execute_result"
    }
   ],
   "source": [
    "retainer.index('majid')"
   ]
  },
  {
   "cell_type": "code",
   "execution_count": 91,
   "id": "49f2ed4b",
   "metadata": {},
   "outputs": [],
   "source": [
    "retainer.append('hamza')"
   ]
  },
  {
   "cell_type": "code",
   "execution_count": 92,
   "id": "56d28a54",
   "metadata": {},
   "outputs": [
    {
     "data": {
      "text/plain": [
       "['ali', 'anus', 'umair', 'majid', 'zubair', 'hamza']"
      ]
     },
     "execution_count": 92,
     "metadata": {},
     "output_type": "execute_result"
    }
   ],
   "source": [
    "retainer"
   ]
  },
  {
   "cell_type": "code",
   "execution_count": 93,
   "id": "87786db9",
   "metadata": {},
   "outputs": [],
   "source": [
    "retainer.remove('hamza')"
   ]
  },
  {
   "cell_type": "code",
   "execution_count": 94,
   "id": "1f34d5da",
   "metadata": {},
   "outputs": [
    {
     "data": {
      "text/plain": [
       "['ali', 'anus', 'umair', 'majid', 'zubair']"
      ]
     },
     "execution_count": 94,
     "metadata": {},
     "output_type": "execute_result"
    }
   ],
   "source": [
    "retainer"
   ]
  },
  {
   "cell_type": "code",
   "execution_count": 95,
   "id": "49967c04",
   "metadata": {},
   "outputs": [],
   "source": [
    "retainer.append('tanzeel')\n",
    "retainer.append('tanzeel')"
   ]
  },
  {
   "cell_type": "code",
   "execution_count": 96,
   "id": "d94a32b0",
   "metadata": {},
   "outputs": [
    {
     "data": {
      "text/plain": [
       "['ali', 'anus', 'umair', 'majid', 'zubair', 'tanzeel', 'tanzeel']"
      ]
     },
     "execution_count": 96,
     "metadata": {},
     "output_type": "execute_result"
    }
   ],
   "source": [
    "retainer"
   ]
  },
  {
   "cell_type": "code",
   "execution_count": 97,
   "id": "76658a11",
   "metadata": {},
   "outputs": [],
   "source": [
    "retainer.remove('tanzeel')"
   ]
  },
  {
   "cell_type": "code",
   "execution_count": 98,
   "id": "30c80919",
   "metadata": {},
   "outputs": [
    {
     "data": {
      "text/plain": [
       "['ali', 'anus', 'umair', 'majid', 'zubair', 'tanzeel']"
      ]
     },
     "execution_count": 98,
     "metadata": {},
     "output_type": "execute_result"
    }
   ],
   "source": [
    "retainer"
   ]
  },
  {
   "cell_type": "code",
   "execution_count": 99,
   "id": "2ac02964",
   "metadata": {},
   "outputs": [],
   "source": [
    "retainer.append('tanzeel')"
   ]
  },
  {
   "cell_type": "code",
   "execution_count": 100,
   "id": "044d9c31",
   "metadata": {},
   "outputs": [
    {
     "data": {
      "text/plain": [
       "['ali', 'anus', 'umair', 'majid', 'zubair', 'tanzeel', 'tanzeel']"
      ]
     },
     "execution_count": 100,
     "metadata": {},
     "output_type": "execute_result"
    }
   ],
   "source": [
    "retainer"
   ]
  },
  {
   "cell_type": "code",
   "execution_count": 101,
   "id": "2afc5dbf",
   "metadata": {},
   "outputs": [
    {
     "data": {
      "text/plain": [
       "5"
      ]
     },
     "execution_count": 101,
     "metadata": {},
     "output_type": "execute_result"
    }
   ],
   "source": [
    "retainer.index('tanzeel')"
   ]
  },
  {
   "cell_type": "code",
   "execution_count": 103,
   "id": "862b20b5",
   "metadata": {},
   "outputs": [
    {
     "data": {
      "text/plain": [
       "6"
      ]
     },
     "execution_count": 103,
     "metadata": {},
     "output_type": "execute_result"
    }
   ],
   "source": [
    "retainer.index('tanzeel', -1)"
   ]
  },
  {
   "cell_type": "code",
   "execution_count": 104,
   "id": "1e4ecf02",
   "metadata": {},
   "outputs": [],
   "source": [
    "retainer.reverse() # change real data"
   ]
  },
  {
   "cell_type": "code",
   "execution_count": 105,
   "id": "1e2a6bde",
   "metadata": {},
   "outputs": [
    {
     "data": {
      "text/plain": [
       "['tanzeel', 'tanzeel', 'zubair', 'majid', 'umair', 'anus', 'ali']"
      ]
     },
     "execution_count": 105,
     "metadata": {},
     "output_type": "execute_result"
    }
   ],
   "source": [
    "retainer"
   ]
  },
  {
   "cell_type": "code",
   "execution_count": 106,
   "id": "54c0a639",
   "metadata": {},
   "outputs": [],
   "source": [
    "retainer.sort() # change real data"
   ]
  },
  {
   "cell_type": "code",
   "execution_count": 107,
   "id": "20855b1a",
   "metadata": {},
   "outputs": [
    {
     "data": {
      "text/plain": [
       "['ali', 'anus', 'majid', 'tanzeel', 'tanzeel', 'umair', 'zubair']"
      ]
     },
     "execution_count": 107,
     "metadata": {},
     "output_type": "execute_result"
    }
   ],
   "source": [
    "retainer"
   ]
  },
  {
   "cell_type": "code",
   "execution_count": 109,
   "id": "50e9a85e",
   "metadata": {},
   "outputs": [
    {
     "data": {
      "text/plain": [
       "['zubair', 'umair', 'tanzeel', 'tanzeel', 'majid', 'anus', 'ali']"
      ]
     },
     "execution_count": 109,
     "metadata": {},
     "output_type": "execute_result"
    }
   ],
   "source": [
    "sorted(retainer, reverse=True)"
   ]
  },
  {
   "cell_type": "code",
   "execution_count": 110,
   "id": "4aac2d70",
   "metadata": {},
   "outputs": [
    {
     "data": {
      "text/plain": [
       "['ali', 'anus', 'majid', 'tanzeel', 'tanzeel', 'umair', 'zubair']"
      ]
     },
     "execution_count": 110,
     "metadata": {},
     "output_type": "execute_result"
    }
   ],
   "source": [
    "retainer"
   ]
  },
  {
   "cell_type": "code",
   "execution_count": 111,
   "id": "4f67ae5a",
   "metadata": {},
   "outputs": [
    {
     "data": {
      "text/plain": [
       "7"
      ]
     },
     "execution_count": 111,
     "metadata": {},
     "output_type": "execute_result"
    }
   ],
   "source": [
    "len(retainer)"
   ]
  },
  {
   "cell_type": "code",
   "execution_count": 113,
   "id": "644ae653",
   "metadata": {},
   "outputs": [],
   "source": [
    "del retainer[3:5]"
   ]
  },
  {
   "cell_type": "code",
   "execution_count": 114,
   "id": "62c6dfae",
   "metadata": {},
   "outputs": [
    {
     "data": {
      "text/plain": [
       "['ali', 'anus', 'majid', 'umair', 'zubair']"
      ]
     },
     "execution_count": 114,
     "metadata": {},
     "output_type": "execute_result"
    }
   ],
   "source": [
    "retainer"
   ]
  }
 ],
 "metadata": {
  "kernelspec": {
   "display_name": "Python 3 (ipykernel)",
   "language": "python",
   "name": "python3"
  },
  "language_info": {
   "codemirror_mode": {
    "name": "ipython",
    "version": 3
   },
   "file_extension": ".py",
   "mimetype": "text/x-python",
   "name": "python",
   "nbconvert_exporter": "python",
   "pygments_lexer": "ipython3",
   "version": "3.7.9"
  }
 },
 "nbformat": 4,
 "nbformat_minor": 5
}
