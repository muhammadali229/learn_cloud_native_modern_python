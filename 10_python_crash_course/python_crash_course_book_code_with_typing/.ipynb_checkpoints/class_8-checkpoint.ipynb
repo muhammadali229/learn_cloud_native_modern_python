{
 "cells": [
  {
   "cell_type": "code",
   "execution_count": 1,
   "id": "58c6e647-29a2-4aa9-aca8-4def68f05290",
   "metadata": {},
   "outputs": [],
   "source": [
    "from typing import Dict, Union, List, TypedDict"
   ]
  },
  {
   "cell_type": "code",
   "execution_count": 2,
   "id": "3896574f-1221-497f-b14f-07ce349d19c8",
   "metadata": {},
   "outputs": [],
   "source": [
    "Key = Union[str, int, tuple]\n",
    "Value = Union[str, int, float, list, tuple, set]"
   ]
  },
  {
   "cell_type": "code",
   "execution_count": 4,
   "id": "f6f63df7-a487-4433-91c7-4189b3fa96b9",
   "metadata": {},
   "outputs": [],
   "source": [
    "data : Dict[Key, Value] = {\n",
    "    'name': 'Muhammad Ali',\n",
    "    'fname': 'Faisal Yaseen',\n",
    "    'education': 'Computer Engineering'\n",
    "}"
   ]
  },
  {
   "cell_type": "code",
   "execution_count": 8,
   "id": "c1c9e281-9386-4316-b71e-0abf10f302ca",
   "metadata": {},
   "outputs": [
    {
     "name": "stdout",
     "output_type": "stream",
     "text": [
      "['clear', 'copy', 'fromkeys', 'get', 'items', 'keys', 'pop', 'popitem', 'setdefault', 'update', 'values']\n"
     ]
    }
   ],
   "source": [
    "print([i for i in dir(data) if '__' not in i])"
   ]
  },
  {
   "cell_type": "code",
   "execution_count": 9,
   "id": "a46e10da-a0ae-40ff-9534-7d1a758e4225",
   "metadata": {},
   "outputs": [
    {
     "name": "stdout",
     "output_type": "stream",
     "text": [
      "Before\n",
      "{'name': 'Muhammad Ali', 'fname': 'Faisal Yaseen', 'education': 'Computer Engineering'}\n",
      "Before\n",
      "{}\n"
     ]
    }
   ],
   "source": [
    "data : Dict[Key, Value] = {\n",
    "    'name': 'Muhammad Ali',\n",
    "    'fname': 'Faisal Yaseen',\n",
    "    'education': 'Computer Engineering'\n",
    "}\n",
    "print(f'Before\\n{data}')\n",
    "data.clear()\n",
    "print(f'Before\\n{data}')"
   ]
  },
  {
   "cell_type": "code",
   "execution_count": 11,
   "id": "c0dbaae7-ae5a-4b3a-9d23-9b8f0351a51e",
   "metadata": {},
   "outputs": [
    {
     "name": "stdout",
     "output_type": "stream",
     "text": [
      "Before\n",
      "{'name': 'Muhammad Ali', 'fname': 'Faisal Yaseen', 'education': 'Computer Engineering'}\n"
     ]
    }
   ],
   "source": [
    "data : Dict[Key, Value] = {\n",
    "    'name': 'Muhammad Ali',\n",
    "    'fname': 'Faisal Yaseen',\n",
    "    'education': 'Computer Engineering'\n",
    "}\n",
    "print(f'Before\\n{data}')\n",
    "del data\n",
    "# print(f'Before\\n{data}') returns error data is not defined"
   ]
  },
  {
   "cell_type": "code",
   "execution_count": 16,
   "id": "5ecdbd45-d353-4bbd-9cdd-a218c570f7ae",
   "metadata": {},
   "outputs": [
    {
     "name": "stdout",
     "output_type": "stream",
     "text": [
      "Before\n",
      "{'name': 'Muhammad Ali', 'fname': 'Faisal Yaseen', 'education': 'Computer Engineering'}\n",
      "Muhammad Ali\n",
      "Before\n",
      "{'fname': 'Faisal Yaseen', 'education': 'Computer Engineering'}\n"
     ]
    }
   ],
   "source": [
    "data : Dict[Key, Value] = {\n",
    "    'name': 'Muhammad Ali',\n",
    "    'fname': 'Faisal Yaseen',\n",
    "    'education': 'Computer Engineering'\n",
    "}\n",
    "print(f'Before\\n{data}')\n",
    "name:str = data.pop('name')\n",
    "print(name)\n",
    "print(f'Before\\n{data}')"
   ]
  },
  {
   "cell_type": "code",
   "execution_count": 17,
   "id": "fcb9fe42-0dd8-483f-a6b1-3fd7375fcaf8",
   "metadata": {},
   "outputs": [
    {
     "name": "stdout",
     "output_type": "stream",
     "text": [
      "Before\n",
      "{'name': 'Muhammad Ali', 'fname': 'Faisal Yaseen', 'education': 'Computer Engineering'}\n",
      "('education', 'Computer Engineering')\n",
      "Before\n",
      "{'name': 'Muhammad Ali', 'fname': 'Faisal Yaseen'}\n"
     ]
    }
   ],
   "source": [
    "data : Dict[Key, Value] = {\n",
    "    'name': 'Muhammad Ali',\n",
    "    'fname': 'Faisal Yaseen',\n",
    "    'education': 'Computer Engineering'\n",
    "}\n",
    "print(f'Before\\n{data}')\n",
    "name:str = data.popitem()\n",
    "print(name)\n",
    "print(f'Before\\n{data}')"
   ]
  },
  {
   "cell_type": "code",
   "execution_count": 18,
   "id": "899ceebe-4609-4eb4-a60b-78adfa358dc1",
   "metadata": {},
   "outputs": [
    {
     "name": "stdout",
     "output_type": "stream",
     "text": [
      "Before\n",
      "{'name': 'Muhammad Ali', 'fname': 'Faisal Yaseen', 'education': 'Computer Engineering'}\n",
      "NA\n",
      "Before\n",
      "{'name': 'Muhammad Ali', 'fname': 'Faisal Yaseen', 'education': 'Computer Engineering'}\n"
     ]
    }
   ],
   "source": [
    "data : Dict[Key, Value] = {\n",
    "    'name': 'Muhammad Ali',\n",
    "    'fname': 'Faisal Yaseen',\n",
    "    'education': 'Computer Engineering'\n",
    "}\n",
    "print(f'Before\\n{data}')\n",
    "name:str = data.get('city', 'NA')\n",
    "print(name)\n",
    "print(f'Before\\n{data}')"
   ]
  },
  {
   "cell_type": "code",
   "execution_count": 19,
   "id": "9821732c-d9f7-447f-82cb-ad7275f62f77",
   "metadata": {},
   "outputs": [
    {
     "name": "stdout",
     "output_type": "stream",
     "text": [
      "Before\n",
      "{'name': 'Muhammad Ali', 'fname': 'Faisal Yaseen', 'education': 'Computer Engineering'}\n",
      "NA\n",
      "Before\n",
      "{'name': 'Muhammad Ali', 'fname': 'Faisal Yaseen', 'education': 'Computer Engineering', 'city': 'NA'}\n"
     ]
    }
   ],
   "source": [
    "data : Dict[Key, Value] = {\n",
    "    'name': 'Muhammad Ali',\n",
    "    'fname': 'Faisal Yaseen',\n",
    "    'education': 'Computer Engineering'\n",
    "}\n",
    "print(f'Before\\n{data}')\n",
    "name:str = data.setdefault('city', 'NA')\n",
    "print(name)\n",
    "print(f'Before\\n{data}')"
   ]
  },
  {
   "cell_type": "code",
   "execution_count": 21,
   "id": "ce81c5a4-8edf-410c-82f2-da118aef8a31",
   "metadata": {},
   "outputs": [
    {
     "name": "stdout",
     "output_type": "stream",
     "text": [
      "Before\n",
      "{'name': 'Muhammad Ali', 'fname': 'Faisal Yaseen', 'education': 'Computer Engineering'}\n",
      "None\n",
      "Before\n",
      "{'name': 'Muhammad Ali', 'fname': 'Faisal Yaseen', 'education': 'Computer Science', 'age': 28}\n"
     ]
    }
   ],
   "source": [
    "data : Dict[Key, Value] = {\n",
    "    'name': 'Muhammad Ali',\n",
    "    'fname': 'Faisal Yaseen',\n",
    "    'education': 'Computer Engineering'\n",
    "}\n",
    "data1: Dict[Key, Value] = {\n",
    "    'education': 'Computer Science',\n",
    "    'age': 28\n",
    "}\n",
    "print(f'Before\\n{data}')\n",
    "name:str = data.update(data1) \n",
    "print(name) # returns None\n",
    "print(f'Before\\n{data}')"
   ]
  },
  {
   "cell_type": "code",
   "execution_count": 28,
   "id": "5e8e7ddf-e18d-46d8-b0d0-52e717a3058a",
   "metadata": {},
   "outputs": [],
   "source": [
    "import pandas as pd\n",
    "from typing import Any"
   ]
  },
  {
   "cell_type": "code",
   "execution_count": 30,
   "id": "0f510c38-a135-405c-84c5-2676e42c46d7",
   "metadata": {},
   "outputs": [],
   "source": [
    "students_data: Dict[str, list[Any]] = {\n",
    "    'roll_no': [1, 2, 3],\n",
    "    'name': ['ali', 'anus', 'majid'],\n",
    "    'education': ['ai generative', 'metaverse', 'web development']\n",
    "}"
   ]
  },
  {
   "cell_type": "code",
   "execution_count": 31,
   "id": "2add9c87-ee00-4c06-b1c4-4ee8fb12b7e2",
   "metadata": {},
   "outputs": [],
   "source": [
    "df : pd.DataFrame = pd.DataFrame(students_data)"
   ]
  },
  {
   "cell_type": "code",
   "execution_count": 33,
   "id": "1627a3f4-308d-4d65-b418-91d76c3f1619",
   "metadata": {},
   "outputs": [
    {
     "data": {
      "text/html": [
       "<div>\n",
       "<style scoped>\n",
       "    .dataframe tbody tr th:only-of-type {\n",
       "        vertical-align: middle;\n",
       "    }\n",
       "\n",
       "    .dataframe tbody tr th {\n",
       "        vertical-align: top;\n",
       "    }\n",
       "\n",
       "    .dataframe thead th {\n",
       "        text-align: right;\n",
       "    }\n",
       "</style>\n",
       "<table border=\"1\" class=\"dataframe\">\n",
       "  <thead>\n",
       "    <tr style=\"text-align: right;\">\n",
       "      <th></th>\n",
       "      <th>roll_no</th>\n",
       "      <th>name</th>\n",
       "      <th>education</th>\n",
       "    </tr>\n",
       "  </thead>\n",
       "  <tbody>\n",
       "    <tr>\n",
       "      <th>0</th>\n",
       "      <td>1</td>\n",
       "      <td>ali</td>\n",
       "      <td>ai generative</td>\n",
       "    </tr>\n",
       "    <tr>\n",
       "      <th>1</th>\n",
       "      <td>2</td>\n",
       "      <td>anus</td>\n",
       "      <td>metaverse</td>\n",
       "    </tr>\n",
       "    <tr>\n",
       "      <th>2</th>\n",
       "      <td>3</td>\n",
       "      <td>majid</td>\n",
       "      <td>web development</td>\n",
       "    </tr>\n",
       "  </tbody>\n",
       "</table>\n",
       "</div>"
      ],
      "text/plain": [
       "   roll_no   name        education\n",
       "0        1    ali    ai generative\n",
       "1        2   anus        metaverse\n",
       "2        3  majid  web development"
      ]
     },
     "execution_count": 33,
     "metadata": {},
     "output_type": "execute_result"
    }
   ],
   "source": [
    "df"
   ]
  },
  {
   "cell_type": "code",
   "execution_count": 34,
   "id": "e184f2eb-e941-488d-8421-992fb6a46ea5",
   "metadata": {},
   "outputs": [
    {
     "data": {
      "text/plain": [
       "{'name': 'Muhammad Ali',\n",
       " 'fname': 'Faisal Yaseen',\n",
       " 'education': 'Computer Science'}"
      ]
     },
     "execution_count": 34,
     "metadata": {},
     "output_type": "execute_result"
    }
   ],
   "source": [
    "data : Dict[Key, Value] = {\n",
    "    'name': 'Muhammad Ali',\n",
    "    'fname': 'Faisal Yaseen',\n",
    "    'education': 'Computer Engineering',\n",
    "    'education': 'Computer Science'\n",
    "}\n",
    "data"
   ]
  },
  {
   "cell_type": "code",
   "execution_count": 41,
   "id": "a5527ec9-047d-41e2-b07c-3330153c3221",
   "metadata": {},
   "outputs": [
    {
     "data": {
      "text/plain": [
       "[{'name': 'Muhammad Ali', 'age': '28', 'education': 'Computer Engineering'},\n",
       " {'name': 'Muhammad Anus', 'age': '31', 'education': 'Computer Science'},\n",
       " {'name': 'Yasir Abbas', 'age': '28', 'education': 'Software Engineering'}]"
      ]
     },
     "metadata": {},
     "output_type": "display_data"
    }
   ],
   "source": [
    "student1 : Dict[Key, Value] = {\n",
    "    'name': 'Muhammad Ali',\n",
    "    'age': '28',\n",
    "    'education': 'Computer Engineering'\n",
    "}\n",
    "student2 : Dict[Key, Value] = {\n",
    "    'name': 'Muhammad Anus',\n",
    "    'age': '31',\n",
    "    'education': 'Computer Science'\n",
    "}\n",
    "student3 : Dict[Key, Value] = {\n",
    "    'name': 'Yasir Abbas',\n",
    "    'age': '28',\n",
    "    'education': 'Software Engineering'\n",
    "}\n",
    "students: List[Dict] = [student1, student2, student3]\n",
    "display(students)"
   ]
  },
  {
   "cell_type": "code",
   "execution_count": 46,
   "id": "4bd1a60d-52ab-4d2a-a406-0c188deffaa1",
   "metadata": {},
   "outputs": [
    {
     "data": {
      "text/plain": [
       "'{\"name\": \"Muhammad Ali\", \"age\": \"28\", \"education\": \"Computer Engineering\"}'"
      ]
     },
     "metadata": {},
     "output_type": "display_data"
    },
    {
     "name": "stdout",
     "output_type": "stream",
     "text": [
      "<class 'str'>\n"
     ]
    }
   ],
   "source": [
    "import json\n",
    "student1 : Dict[Key, Value] = {\n",
    "    'name': 'Muhammad Ali',\n",
    "    'age': '28',\n",
    "    'education': 'Computer Engineering'\n",
    "}\n",
    "data1 = json.dumps(student1)\n",
    "display(data1)\n",
    "print(type(data1))"
   ]
  },
  {
   "cell_type": "code",
   "execution_count": null,
   "id": "04810076-3b75-48f6-9369-517a2e8f7e3b",
   "metadata": {},
   "outputs": [],
   "source": []
  }
 ],
 "metadata": {
  "kernelspec": {
   "display_name": "Python 3 (ipykernel)",
   "language": "python",
   "name": "python3"
  },
  "language_info": {
   "codemirror_mode": {
    "name": "ipython",
    "version": 3
   },
   "file_extension": ".py",
   "mimetype": "text/x-python",
   "name": "python",
   "nbconvert_exporter": "python",
   "pygments_lexer": "ipython3",
   "version": "3.12.4"
  }
 },
 "nbformat": 4,
 "nbformat_minor": 5
}
