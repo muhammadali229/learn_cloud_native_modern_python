{
 "cells": [
  {
   "cell_type": "code",
   "execution_count": 1,
   "metadata": {},
   "outputs": [],
   "source": [
    "import pandas as pd\n",
    "import pandera as pa"
   ]
  },
  {
   "cell_type": "code",
   "execution_count": 2,
   "metadata": {},
   "outputs": [
    {
     "data": {
      "text/plain": [
       "0     1\n",
       "1     2\n",
       "2     3\n",
       "3     4\n",
       "4     5\n",
       "5     6\n",
       "6     7\n",
       "7     8\n",
       "8     9\n",
       "9    10\n",
       "Name: integer_series, dtype: int64"
      ]
     },
     "metadata": {},
     "output_type": "display_data"
    },
    {
     "name": "stdout",
     "output_type": "stream",
     "text": [
      "<class 'pandas.core.series.Series'>\n"
     ]
    }
   ],
   "source": [
    "series = pd.Series(list(range(1, 11)),name=\"integer_series\")\n",
    "\n",
    "# Define a Pandera schema for the Series\n",
    "schema = pa.SeriesSchema(\n",
    "    pa.Int,  # Specify the data type as integer\n",
    "    nullable=False,  # Ensure there are no null values\n",
    "    name=\"integer_series\",  # Optional: name for the series\n",
    ")\n",
    "\n",
    "# Validate the Series\n",
    "validated_series = schema(series)\n",
    "\n",
    "# Print the validated Series\n",
    "display(validated_series)\n",
    "\n",
    "# Print the data type\n",
    "print(type(validated_series)) "
   ]
  },
  {
   "cell_type": "code",
   "execution_count": 3,
   "metadata": {},
   "outputs": [
    {
     "name": "stdout",
     "output_type": "stream",
     "text": [
      "a     1\n",
      "b     2\n",
      "c     3\n",
      "d     4\n",
      "e     5\n",
      "f     6\n",
      "g     7\n",
      "h     8\n",
      "i     9\n",
      "j    10\n",
      "dtype: int64\n"
     ]
    }
   ],
   "source": [
    "s2 = pd.Series({\n",
    "    \"a\": 1,\n",
    "    \"b\": 2,\n",
    "    \"c\": 3,\n",
    "    \"d\": 4,\n",
    "    \"e\": 5,\n",
    "    \"f\": 6,\n",
    "    \"g\": 7,\n",
    "    \"h\": 8,\n",
    "    \"i\": 9,\n",
    "    \"j\": 10\n",
    "})\n",
    "\n",
    "# Define a Pandera schema for the Series\n",
    "s2_schema = pa.SeriesSchema(\n",
    "    pa.Int,  # Specify the data type as integer\n",
    "    nullable=False,  # Ensure there are no null values\n",
    "    index=pa.Index(pa.String),  # Specify the index type as string\n",
    "    checks=[\n",
    "        pa.Check.in_range(min_value=1, max_value=10),  # Ensure values are between 1 and 10\n",
    "        # pa.Check(lambda s: s.sum() == 55, error=\"Sum of values must be 55\"),  # Custom check\n",
    "    ]\n",
    ")\n",
    "\n",
    "# Validate the Series\n",
    "validated_s2 = s2_schema(s2)\n",
    "\n",
    "# Print the validated Series\n",
    "print(validated_s2)"
   ]
  },
  {
   "cell_type": "code",
   "execution_count": 4,
   "metadata": {},
   "outputs": [
    {
     "name": "stdout",
     "output_type": "stream",
     "text": [
      "a    1\n",
      "b    2\n",
      "c    3\n",
      "d    4\n",
      "e    5\n",
      "dtype: int64\n"
     ]
    }
   ],
   "source": [
    "from typing import List \n",
    "values : List[int] = [1, 2, 3, 4, 5]\n",
    "index : List[str] = ['a', 'b', 'c', 'd', 'e']\n",
    "s1: pd.Series = pd.Series(values, index=index)\n",
    "print(s1) "
   ]
  },
  {
   "cell_type": "code",
   "execution_count": 6,
   "metadata": {},
   "outputs": [
    {
     "name": "stdout",
     "output_type": "stream",
     "text": [
      "a1  a    1\n",
      "    b    2\n",
      "    c    3\n",
      "b1  d    4\n",
      "    e    5\n",
      "Name: student_data, dtype: int64\n"
     ]
    }
   ],
   "source": [
    "from typing import List \n",
    "values : List[int] = [1, 2, 3, 4, 5]\n",
    "index : List[List[str]] = [['a1', 'a1', 'a1', 'b1', 'b1'], ['a', 'b', 'c', 'd', 'e']]\n",
    "s1: pd.Series = pd.Series(values, index=index, name='student_data')\n",
    "print(s1) "
   ]
  },
  {
   "cell_type": "code",
   "execution_count": null,
   "metadata": {},
   "outputs": [],
   "source": []
  }
 ],
 "metadata": {
  "kernelspec": {
   "display_name": "Python 3 (ipykernel)",
   "language": "python",
   "name": "python3"
  },
  "language_info": {
   "codemirror_mode": {
    "name": "ipython",
    "version": 3
   },
   "file_extension": ".py",
   "mimetype": "text/x-python",
   "name": "python",
   "nbconvert_exporter": "python",
   "pygments_lexer": "ipython3",
   "version": "3.12.4"
  }
 },
 "nbformat": 4,
 "nbformat_minor": 4
}
