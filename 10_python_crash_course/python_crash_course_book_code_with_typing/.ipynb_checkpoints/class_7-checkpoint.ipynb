{
 "cells": [
  {
   "cell_type": "code",
   "execution_count": 1,
   "id": "3772140f",
   "metadata": {},
   "outputs": [],
   "source": [
    "from typing import Dict, Union, List, TypedDict\n",
    "import pprint"
   ]
  },
  {
   "cell_type": "code",
   "execution_count": 2,
   "id": "69a431af-d13a-4137-91ba-67b00c5e645b",
   "metadata": {},
   "outputs": [],
   "source": [
    "my_type = TypedDict('ct', {'a': str, 'b': str})"
   ]
  },
  {
   "cell_type": "code",
   "execution_count": 3,
   "id": "6e7f6723",
   "metadata": {},
   "outputs": [],
   "source": [
    "Key = Union[str, int, tuple, my_type]\n",
    "# Key = Union[str, int, set]\n",
    "# Key = Union[str, int, list]\n",
    "Value = Union[str, int, float, list, tuple, set]"
   ]
  },
  {
   "cell_type": "code",
   "execution_count": 5,
   "id": "406c2aeb",
   "metadata": {},
   "outputs": [],
   "source": [
    "data : Dict[Key, Value] = {\n",
    "    'name': 'Muhammad Ali',\n",
    "    'fname': 'Faisal Yaseen',\n",
    "    'education': 'Computer Engineering', \n",
    "    123: 'hello',\n",
    "    'age': 28,\n",
    "    (1,2,3): 'hello',\n",
    "    'ct': {'a': 'a_value', 'b': 'b_value'},\n",
    "    'float': 1.23,\n",
    "    'lst': ['macroni', 'cheese'],\n",
    "    'tuple': (1,2,3),\n",
    "    'set': {1, 1, 2, 3}\n",
    "#     {1: 'a', 2: 'b'} : 'nice'\n",
    "#     {1, 2, 3}: 'set value' unhashable\n",
    "#     [1, 2]: 'age' \n",
    "}"
   ]
  },
  {
   "cell_type": "code",
   "execution_count": 7,
   "id": "67ddcb54",
   "metadata": {},
   "outputs": [
    {
     "data": {
      "text/plain": [
       "{'name': 'Muhammad Ali',\n",
       " 'fname': 'Faisal Yaseen',\n",
       " 'education': 'Computer Engineering',\n",
       " 123: 'hello',\n",
       " 'age': 28,\n",
       " (1, 2, 3): 'hello',\n",
       " 'ct': {'a': 'a_value', 'b': 'b_value'},\n",
       " 'float': 1.23,\n",
       " 'lst': ['macroni', 'cheese'],\n",
       " 'tuple': (1, 2, 3),\n",
       " 'set': {1, 2, 3}}"
      ]
     },
     "metadata": {},
     "output_type": "display_data"
    }
   ],
   "source": [
    "display(data)"
   ]
  },
  {
   "cell_type": "code",
   "execution_count": 9,
   "id": "72150ad7-026a-498b-a83b-7f3ad0d176a6",
   "metadata": {},
   "outputs": [
    {
     "data": {
      "text/plain": [
       "'a_value'"
      ]
     },
     "execution_count": 9,
     "metadata": {},
     "output_type": "execute_result"
    }
   ],
   "source": [
    "data['ct']['a']"
   ]
  },
  {
   "cell_type": "code",
   "execution_count": 10,
   "id": "62fafe09",
   "metadata": {},
   "outputs": [
    {
     "name": "stdout",
     "output_type": "stream",
     "text": [
      "{123: 'hello',\n",
      " 'age': 28,\n",
      " 'ct': {'a': 'a_value', 'b': 'b_value'},\n",
      " 'education': 'Computer Engineering',\n",
      " 'float': 1.23,\n",
      " 'fname': 'Faisal Yaseen',\n",
      " 'lst': ['macroni', 'cheese'],\n",
      " 'name': 'Muhammad Ali',\n",
      " 'set': {1, 2, 3},\n",
      " 'tuple': (1, 2, 3),\n",
      " (1, 2, 3): 'hello'}\n"
     ]
    }
   ],
   "source": [
    "pprint.pprint(data)"
   ]
  },
  {
   "cell_type": "code",
   "execution_count": 11,
   "id": "6eec4ea6",
   "metadata": {},
   "outputs": [
    {
     "data": {
      "text/plain": [
       "'Muhammad Ali'"
      ]
     },
     "execution_count": 11,
     "metadata": {},
     "output_type": "execute_result"
    }
   ],
   "source": [
    "data['name']"
   ]
  },
  {
   "cell_type": "code",
   "execution_count": 12,
   "id": "7f0a97a8",
   "metadata": {},
   "outputs": [
    {
     "data": {
      "text/plain": [
       "'hello'"
      ]
     },
     "execution_count": 12,
     "metadata": {},
     "output_type": "execute_result"
    }
   ],
   "source": [
    "data[123]"
   ]
  },
  {
   "cell_type": "code",
   "execution_count": 13,
   "id": "db01a09e",
   "metadata": {},
   "outputs": [
    {
     "data": {
      "text/plain": [
       "'Computer Engineering'"
      ]
     },
     "execution_count": 13,
     "metadata": {},
     "output_type": "execute_result"
    }
   ],
   "source": [
    "data['education']"
   ]
  },
  {
   "cell_type": "code",
   "execution_count": 14,
   "id": "529ae777",
   "metadata": {},
   "outputs": [],
   "source": [
    "# data['key not exist']"
   ]
  },
  {
   "cell_type": "code",
   "execution_count": 15,
   "id": "60dd2e6b",
   "metadata": {},
   "outputs": [
    {
     "data": {
      "text/plain": [
       "dict_keys(['name', 'fname', 'education', 123, 'age', (1, 2, 3), 'ct', 'float', 'lst', 'tuple', 'set'])"
      ]
     },
     "execution_count": 15,
     "metadata": {},
     "output_type": "execute_result"
    }
   ],
   "source": [
    "data.keys()"
   ]
  },
  {
   "cell_type": "code",
   "execution_count": 16,
   "id": "facb891b",
   "metadata": {},
   "outputs": [
    {
     "data": {
      "text/plain": [
       "{1, 2, 3, 4, 5, 6}"
      ]
     },
     "execution_count": 16,
     "metadata": {},
     "output_type": "execute_result"
    }
   ],
   "source": [
    "data_set : int = {1, 1, 2, 2, 3, 4, 5, 6}\n",
    "data_set"
   ]
  },
  {
   "cell_type": "code",
   "execution_count": 17,
   "id": "c2054161",
   "metadata": {},
   "outputs": [
    {
     "name": "stdout",
     "output_type": "stream",
     "text": [
      "['add', 'clear', 'copy', 'difference', 'difference_update', 'discard', 'intersection', 'intersection_update', 'isdisjoint', 'issubset', 'issuperset', 'pop', 'remove', 'symmetric_difference', 'symmetric_difference_update', 'union', 'update']\n"
     ]
    }
   ],
   "source": [
    "print([i for i in dir(set) if '__' not in i]) # __ are all class attributes"
   ]
  },
  {
   "cell_type": "code",
   "execution_count": 18,
   "id": "24fbc495",
   "metadata": {},
   "outputs": [
    {
     "data": {
      "text/plain": [
       "{1, 2, 3, 4, 5}"
      ]
     },
     "execution_count": 18,
     "metadata": {},
     "output_type": "execute_result"
    }
   ],
   "source": [
    "abc:set = {1, 1, 2, 3, 4, 5}\n",
    "abc"
   ]
  },
  {
   "cell_type": "code",
   "execution_count": 19,
   "id": "fc07288f",
   "metadata": {},
   "outputs": [],
   "source": [
    "abc :List = list(abc)"
   ]
  },
  {
   "cell_type": "code",
   "execution_count": 20,
   "id": "45386abd",
   "metadata": {},
   "outputs": [
    {
     "data": {
      "text/plain": [
       "[1, 2, 3, 4, 5]"
      ]
     },
     "execution_count": 20,
     "metadata": {},
     "output_type": "execute_result"
    }
   ],
   "source": [
    "abc"
   ]
  },
  {
   "cell_type": "code",
   "execution_count": 21,
   "id": "4cbcfd35",
   "metadata": {},
   "outputs": [
    {
     "data": {
      "text/plain": [
       "{'name': 'Muhammad Ali',\n",
       " 'fname': 'Faisal Yaseen',\n",
       " 'education': 'Computer Engineering',\n",
       " 123: 'hello',\n",
       " 'age': 28,\n",
       " (1, 2, 3): 'hello',\n",
       " 'ct': {'a': 'a_value', 'b': 'b_value'},\n",
       " 'float': 1.23,\n",
       " 'lst': ['macroni', 'cheese'],\n",
       " 'tuple': (1, 2, 3),\n",
       " 'set': {1, 2, 3}}"
      ]
     },
     "execution_count": 21,
     "metadata": {},
     "output_type": "execute_result"
    }
   ],
   "source": [
    "data"
   ]
  },
  {
   "cell_type": "code",
   "execution_count": 22,
   "id": "43d36f06",
   "metadata": {},
   "outputs": [
    {
     "data": {
      "text/plain": [
       "'cheese'"
      ]
     },
     "execution_count": 22,
     "metadata": {},
     "output_type": "execute_result"
    }
   ],
   "source": [
    "data['lst'][1]"
   ]
  },
  {
   "cell_type": "code",
   "execution_count": 23,
   "id": "32c5ec47",
   "metadata": {},
   "outputs": [],
   "source": [
    "data['nested_dict'] = {\n",
    "    'courses': {\n",
    "        'name': 'Generative AI',\n",
    "        'code': '1213-adab'\n",
    "    }\n",
    "}"
   ]
  },
  {
   "cell_type": "code",
   "execution_count": 24,
   "id": "4d097340",
   "metadata": {},
   "outputs": [
    {
     "data": {
      "text/plain": [
       "{'name': 'Muhammad Ali',\n",
       " 'fname': 'Faisal Yaseen',\n",
       " 'education': 'Computer Engineering',\n",
       " 123: 'hello',\n",
       " 'age': 28,\n",
       " (1, 2, 3): 'hello',\n",
       " 'ct': {'a': 'a_value', 'b': 'b_value'},\n",
       " 'float': 1.23,\n",
       " 'lst': ['macroni', 'cheese'],\n",
       " 'tuple': (1, 2, 3),\n",
       " 'set': {1, 2, 3},\n",
       " 'nested_dict': {'courses': {'name': 'Generative AI', 'code': '1213-adab'}}}"
      ]
     },
     "execution_count": 24,
     "metadata": {},
     "output_type": "execute_result"
    }
   ],
   "source": [
    "data"
   ]
  },
  {
   "cell_type": "code",
   "execution_count": 25,
   "id": "ec92838f",
   "metadata": {},
   "outputs": [],
   "source": [
    "empty_dict : Dict[Key, Value] = {}"
   ]
  },
  {
   "cell_type": "code",
   "execution_count": 26,
   "id": "e899bafa",
   "metadata": {},
   "outputs": [],
   "source": [
    "empty_dict['name'] = 'Anus'\n",
    "empty_dict['age'] = 32\n",
    "empty_dict['company'] = 'Bluetech Consulting'"
   ]
  },
  {
   "cell_type": "code",
   "execution_count": 27,
   "id": "3e1a12f2",
   "metadata": {},
   "outputs": [],
   "source": [
    "empty_dict['name'] = 'Muhammad Anus'"
   ]
  },
  {
   "cell_type": "code",
   "execution_count": 28,
   "id": "3e0df1e3",
   "metadata": {},
   "outputs": [
    {
     "data": {
      "text/plain": [
       "{'name': 'Muhammad Anus', 'age': 32, 'company': 'Bluetech Consulting'}"
      ]
     },
     "execution_count": 28,
     "metadata": {},
     "output_type": "execute_result"
    }
   ],
   "source": [
    "empty_dict"
   ]
  },
  {
   "cell_type": "code",
   "execution_count": 29,
   "id": "0a9f6e04",
   "metadata": {},
   "outputs": [
    {
     "name": "stdout",
     "output_type": "stream",
     "text": [
      "['clear', 'copy', 'fromkeys', 'get', 'items', 'keys', 'pop', 'popitem', 'setdefault', 'update', 'values']\n"
     ]
    }
   ],
   "source": [
    "print([i for i in dir(dict) if '__' not in i])"
   ]
  },
  {
   "cell_type": "code",
   "execution_count": 30,
   "id": "1a904fab",
   "metadata": {},
   "outputs": [
    {
     "data": {
      "text/plain": [
       "'key not exist'"
      ]
     },
     "execution_count": 30,
     "metadata": {},
     "output_type": "execute_result"
    }
   ],
   "source": [
    "empty_dict.get('is_married', 'key not exist')"
   ]
  },
  {
   "cell_type": "code",
   "execution_count": 31,
   "id": "34d0d00e",
   "metadata": {},
   "outputs": [
    {
     "data": {
      "text/plain": [
       "'Muhammad Anus'"
      ]
     },
     "execution_count": 31,
     "metadata": {},
     "output_type": "execute_result"
    }
   ],
   "source": [
    "empty_dict.get('name', 'key not exist')"
   ]
  },
  {
   "cell_type": "code",
   "execution_count": 32,
   "id": "cd9adb45",
   "metadata": {},
   "outputs": [
    {
     "name": "stdout",
     "output_type": "stream",
     "text": [
      "name\n",
      "age\n",
      "company\n"
     ]
    }
   ],
   "source": [
    "for d in empty_dict:\n",
    "    print(d)"
   ]
  },
  {
   "cell_type": "code",
   "execution_count": 33,
   "id": "3bd33d5f",
   "metadata": {},
   "outputs": [
    {
     "name": "stdout",
     "output_type": "stream",
     "text": [
      "Key: name, value: Muhammad Anus\n",
      "Key: age, value: 32\n",
      "Key: company, value: Bluetech Consulting\n"
     ]
    }
   ],
   "source": [
    "for k, v in empty_dict.items():\n",
    "    print(f'Key: {k}, value: {v}')"
   ]
  },
  {
   "cell_type": "code",
   "execution_count": 34,
   "id": "e8fcab41",
   "metadata": {},
   "outputs": [
    {
     "name": "stdout",
     "output_type": "stream",
     "text": [
      "dict_keys(['name', 'fname', 'education', 123, 'age', (1, 2, 3), 'ct', 'float', 'lst', 'tuple', 'set', 'nested_dict'])\n",
      "\n",
      "dict_values(['Muhammad Ali', 'Faisal Yaseen', 'Computer Engineering', 'hello', 28, 'hello', {'a': 'a_value', 'b': 'b_value'}, 1.23, ['macroni', 'cheese'], (1, 2, 3), {1, 2, 3}, {'courses': {'name': 'Generative AI', 'code': '1213-adab'}}])\n",
      "\n",
      "dict_items([('name', 'Muhammad Ali'), ('fname', 'Faisal Yaseen'), ('education', 'Computer Engineering'), (123, 'hello'), ('age', 28), ((1, 2, 3), 'hello'), ('ct', {'a': 'a_value', 'b': 'b_value'}), ('float', 1.23), ('lst', ['macroni', 'cheese']), ('tuple', (1, 2, 3)), ('set', {1, 2, 3}), ('nested_dict', {'courses': {'name': 'Generative AI', 'code': '1213-adab'}})])\n"
     ]
    }
   ],
   "source": [
    "print(data.keys())\n",
    "print()\n",
    "print(data.values())\n",
    "print()\n",
    "print(data.items())"
   ]
  },
  {
   "cell_type": "code",
   "execution_count": 35,
   "id": "a0cf16ef",
   "metadata": {},
   "outputs": [
    {
     "data": {
      "text/plain": [
       "{'name': 'Muhammad Ali'}"
      ]
     },
     "execution_count": 35,
     "metadata": {},
     "output_type": "execute_result"
    }
   ],
   "source": [
    "{'name': i.title() for i in data.values() if 'ali' in str(i).lower()}"
   ]
  },
  {
   "cell_type": "code",
   "execution_count": 36,
   "id": "2569de40",
   "metadata": {},
   "outputs": [
    {
     "data": {
      "text/plain": [
       "{'name': str,\n",
       " 'fname': str,\n",
       " 'education': str,\n",
       " 'age': str,\n",
       " 'ct': str,\n",
       " 'float': str,\n",
       " 'lst': str,\n",
       " 'tuple': str,\n",
       " 'set': str,\n",
       " 'nested_dict': str}"
      ]
     },
     "execution_count": 36,
     "metadata": {},
     "output_type": "execute_result"
    }
   ],
   "source": [
    "{k: type(k) for k, v in data.items() if isinstance(k, str)}"
   ]
  },
  {
   "cell_type": "code",
   "execution_count": 37,
   "id": "b096a401",
   "metadata": {},
   "outputs": [
    {
     "name": "stdout",
     "output_type": "stream",
     "text": [
      "5 6\n",
      "6 5\n"
     ]
    }
   ],
   "source": [
    "a: int = 5\n",
    "b: int = 6\n",
    "print(a, b)\n",
    "a,b = b,a\n",
    "print(a, b)"
   ]
  },
  {
   "cell_type": "code",
   "execution_count": 38,
   "id": "edeb78a4",
   "metadata": {},
   "outputs": [
    {
     "name": "stdout",
     "output_type": "stream",
     "text": [
      "{}\n"
     ]
    }
   ],
   "source": [
    "keys : List[str] = ['name', 'age', 'education']\n",
    "empty_dict : Dict[Key, Value] = {}\n",
    "print(empty_dict)"
   ]
  },
  {
   "cell_type": "code",
   "execution_count": 39,
   "id": "91ba1b6e",
   "metadata": {},
   "outputs": [],
   "source": [
    "empty_dict = empty_dict.fromkeys(keys)"
   ]
  },
  {
   "cell_type": "code",
   "execution_count": 40,
   "id": "2be07e0a",
   "metadata": {},
   "outputs": [
    {
     "data": {
      "text/plain": [
       "{'name': None, 'age': None, 'education': None}"
      ]
     },
     "execution_count": 40,
     "metadata": {},
     "output_type": "execute_result"
    }
   ],
   "source": [
    "empty_dict"
   ]
  }
 ],
 "metadata": {
  "kernelspec": {
   "display_name": "Python 3 (ipykernel)",
   "language": "python",
   "name": "python3"
  },
  "language_info": {
   "codemirror_mode": {
    "name": "ipython",
    "version": 3
   },
   "file_extension": ".py",
   "mimetype": "text/x-python",
   "name": "python",
   "nbconvert_exporter": "python",
   "pygments_lexer": "ipython3",
   "version": "3.12.4"
  }
 },
 "nbformat": 4,
 "nbformat_minor": 5
}
