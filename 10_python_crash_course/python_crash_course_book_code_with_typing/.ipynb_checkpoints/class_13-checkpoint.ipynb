{
 "cells": [
  {
   "cell_type": "code",
   "execution_count": 1,
   "id": "1de8b4cf-e969-4d68-9ec3-9c17fdfd9184",
   "metadata": {},
   "outputs": [],
   "source": [
    "def obj_1_speak():\n",
    "    pass\n",
    "def obj_2_speak():\n",
    "    pass\n",
    "obj_1_name:str = 'Muhammad Ali'\n",
    "obj_2_name:str = 'Muhammad Anus'"
   ]
  },
  {
   "cell_type": "code",
   "execution_count": 2,
   "id": "991c3188-fe42-41b6-b706-0cb44d953aaf",
   "metadata": {},
   "outputs": [],
   "source": [
    "class Teacher():\n",
    "    def __init__(self, teacher_id: int, name: str)->None:\n",
    "        self.teacher_id: int = teacher_id \n",
    "        self.name:str = name\n",
    "        self.organization:str = 'PIAIC'\n",
    "    \n",
    "    def speak(self, word:str)->None:\n",
    "        print(f'{self.name} is speaking {word}')\n",
    "\n",
    "    def teaching(self, course:str)->None:\n",
    "        print(f'{self.name} is teaching {course}')\n",
    "    \n",
    "    def get_info(self):\n",
    "        return {\n",
    "            'teacher_id': self.teacher_id,\n",
    "            'name': 'Sir ' + self.name,\n",
    "            'organization': self.organization\n",
    "        }\n",
    "sir_zia_obj: Teacher = Teacher(1, 'Zia')\n",
    "sir_qasim_obj: Teacher = Teacher(2, 'Muhammad Qasim')"
   ]
  },
  {
   "cell_type": "code",
   "execution_count": 3,
   "id": "1d7e655c-0ebb-4c2d-bad9-57aca0dc674f",
   "metadata": {},
   "outputs": [
    {
     "name": "stdout",
     "output_type": "stream",
     "text": [
      "Zia is speaking Pakistan Zindabad\n"
     ]
    }
   ],
   "source": [
    "sir_zia_obj.speak('Pakistan Zindabad')"
   ]
  },
  {
   "cell_type": "code",
   "execution_count": 4,
   "id": "6cd35670-073c-4a52-b83c-3e89aca748f1",
   "metadata": {},
   "outputs": [
    {
     "name": "stdout",
     "output_type": "stream",
     "text": [
      "Muhammad Qasim is speaking Pakistan_Zindabad 2\n"
     ]
    }
   ],
   "source": [
    "sir_qasim_obj.speak('Pakistan_Zindabad 2')"
   ]
  },
  {
   "cell_type": "code",
   "execution_count": 5,
   "id": "ec457af2-c49c-4068-b88d-f696f77306f7",
   "metadata": {},
   "outputs": [
    {
     "name": "stdout",
     "output_type": "stream",
     "text": [
      "Zia is teaching Blockchain\n"
     ]
    }
   ],
   "source": [
    "sir_zia_obj.teaching('Blockchain')"
   ]
  },
  {
   "cell_type": "code",
   "execution_count": 6,
   "id": "9545ede7-7801-4fb9-9674-0917b9274e9b",
   "metadata": {},
   "outputs": [
    {
     "name": "stdout",
     "output_type": "stream",
     "text": [
      "Muhammad Qasim is teaching Artifical Intelligence\n"
     ]
    }
   ],
   "source": [
    "sir_qasim_obj.teaching('Artifical Intelligence')"
   ]
  },
  {
   "cell_type": "code",
   "execution_count": 7,
   "id": "a4ddf592-fc76-4e30-b465-975e0ef2b128",
   "metadata": {},
   "outputs": [
    {
     "data": {
      "text/plain": [
       "{'teacher_id': 1, 'name': 'Sir Zia', 'organization': 'PIAIC'}"
      ]
     },
     "execution_count": 7,
     "metadata": {},
     "output_type": "execute_result"
    }
   ],
   "source": [
    "sir_zia_obj.get_info()"
   ]
  },
  {
   "cell_type": "code",
   "execution_count": 8,
   "id": "51a4914f-d4d4-4ba5-ad2e-825989a6c080",
   "metadata": {},
   "outputs": [
    {
     "data": {
      "text/plain": [
       "{'teacher_id': 2, 'name': 'Sir Muhammad Qasim', 'organization': 'PIAIC'}"
      ]
     },
     "execution_count": 8,
     "metadata": {},
     "output_type": "execute_result"
    }
   ],
   "source": [
    "sir_qasim_obj.get_info()"
   ]
  },
  {
   "cell_type": "code",
   "execution_count": 9,
   "id": "3f4af02c-a082-4c48-8723-c5a5e67571c4",
   "metadata": {},
   "outputs": [
    {
     "name": "stdout",
     "output_type": "stream",
     "text": [
      "['get_info', 'name', 'organization', 'speak', 'teacher_id', 'teaching']\n"
     ]
    }
   ],
   "source": [
    "print([i for i in dir(sir_qasim_obj) if '__' not in i])"
   ]
  },
  {
   "cell_type": "code",
   "execution_count": 10,
   "id": "3eddfc5d-ef77-4b2c-9dc7-1b9cf82333fa",
   "metadata": {},
   "outputs": [
    {
     "name": "stdout",
     "output_type": "stream",
     "text": [
      "1\n",
      "2\n"
     ]
    }
   ],
   "source": [
    "print(sir_zia_obj.teacher_id)\n",
    "print(sir_qasim_obj.teacher_id)"
   ]
  },
  {
   "cell_type": "code",
   "execution_count": 11,
   "id": "0b5adbae-3ce2-4376-baeb-5ac9b0af0d11",
   "metadata": {},
   "outputs": [],
   "source": [
    "# sir_ali_obj: Teacher = Teacher(3) missing 1 argument 'name'"
   ]
  },
  {
   "cell_type": "code",
   "execution_count": 12,
   "id": "21bc55b0-0347-4563-8758-8bd4e55b38a7",
   "metadata": {},
   "outputs": [],
   "source": [
    "# define class variable\n",
    "class Teacher():\n",
    "    counter:int = 0 # class_variable\n",
    "    helpline_num: str = '0332-2052568' # class_variable\n",
    "    def __init__(self, teacher_id: int, name: str)->None:\n",
    "        self.teacher_id: int = teacher_id \n",
    "        self.name:str = name\n",
    "        self.organization:str = 'PIAIC'\n",
    "        Teacher.counter += 1\n",
    "    \n",
    "    def speak(self, word:str)->None:\n",
    "        print(f'{self.name} is speaking {word}')\n",
    "\n",
    "    def teaching(self, course:str)->None:\n",
    "        print(f'{self.name} is teaching {course}')\n",
    "    \n",
    "    def get_info(self):\n",
    "        return {\n",
    "            'teacher_id': self.teacher_id,\n",
    "            'name': 'Sir ' + self.name,\n",
    "            'organization': self.organization,\n",
    "            'helpline_number': Teacher.helpline_num\n",
    "        }\n",
    "sir_zia_obj: Teacher = Teacher(1, 'Zia')\n",
    "sir_qasim_obj: Teacher = Teacher(2, 'Muhammad Qasim')"
   ]
  },
  {
   "cell_type": "code",
   "execution_count": 13,
   "id": "0f271f6f-795b-4b62-883c-7a1a0591bc5e",
   "metadata": {},
   "outputs": [
    {
     "data": {
      "text/plain": [
       "{'teacher_id': 1,\n",
       " 'name': 'Sir Zia',\n",
       " 'organization': 'PIAIC',\n",
       " 'helpline_number': '0332-2052568'}"
      ]
     },
     "execution_count": 13,
     "metadata": {},
     "output_type": "execute_result"
    }
   ],
   "source": [
    "sir_zia_obj.get_info()"
   ]
  },
  {
   "cell_type": "code",
   "execution_count": 14,
   "id": "e1a7d2c6-92dc-4d26-8ebb-9e27059c9011",
   "metadata": {},
   "outputs": [
    {
     "data": {
      "text/plain": [
       "{'teacher_id': 2,\n",
       " 'name': 'Sir Muhammad Qasim',\n",
       " 'organization': 'PIAIC',\n",
       " 'helpline_number': '0332-2052568'}"
      ]
     },
     "execution_count": 14,
     "metadata": {},
     "output_type": "execute_result"
    }
   ],
   "source": [
    "sir_qasim_obj.get_info()"
   ]
  },
  {
   "cell_type": "code",
   "execution_count": 15,
   "id": "a34c54f2-a726-4cb4-8a38-985171ee7def",
   "metadata": {},
   "outputs": [
    {
     "data": {
      "text/plain": [
       "2"
      ]
     },
     "execution_count": 15,
     "metadata": {},
     "output_type": "execute_result"
    }
   ],
   "source": [
    "Teacher.counter"
   ]
  },
  {
   "cell_type": "code",
   "execution_count": 16,
   "id": "39866fa1-4951-472c-8c12-5bffbcdedfa8",
   "metadata": {},
   "outputs": [],
   "source": [
    "# 1.25hr"
   ]
  },
  {
   "cell_type": "code",
   "execution_count": 20,
   "id": "588bbcb5-bd19-42b4-bcca-d2ee4b8eec54",
   "metadata": {},
   "outputs": [
    {
     "name": "stdout",
     "output_type": "stream",
     "text": [
      "-----------Parent--------------\n",
      "brown\n",
      "black\n",
      "Parent method speak: Pakistan Zindabad\n",
      "Parent method watching: Teams\n",
      "-----------Child--------------\n",
      "brown\n",
      "black\n",
      "Parent method speak: Pakistan Zindabad\n",
      "Parent method watching: Teams\n"
     ]
    }
   ],
   "source": [
    "# Inheritance\n",
    "class Parent():\n",
    "    def __init__(self)->None:\n",
    "        self.eye_color:str = 'brown'\n",
    "        self.hair_color:str = 'black'\n",
    "    def speak(self, word:str)->None:\n",
    "        print(f'Parent method speak: {word}')\n",
    "    def watching(self, object_name:str)->None:\n",
    "        print(f'Parent method watching: {object_name}')\n",
    "\n",
    "class Child(Parent):\n",
    "    pass\n",
    "\n",
    "print(\"-----------Parent--------------\")\n",
    "prnt_1:Parent = Parent()\n",
    "print(prnt_1.eye_color)\n",
    "print(prnt_1.hair_color)\n",
    "prnt_1.speak('Pakistan Zindabad')\n",
    "prnt_1.watching('Teams')\n",
    "\n",
    "print(\"-----------Child--------------\")\n",
    "child_1:Child = Child()\n",
    "print(child_1.eye_color)\n",
    "print(child_1.hair_color)\n",
    "child_1.speak('Pakistan Zindabad')\n",
    "child_1.watching('Teams')"
   ]
  },
  {
   "cell_type": "code",
   "execution_count": 21,
   "id": "b3a88ae4-7a8a-4310-9f45-4f84e656a4e1",
   "metadata": {},
   "outputs": [
    {
     "name": "stdout",
     "output_type": "stream",
     "text": [
      "-----------Parent--------------\n",
      "brown\n",
      "black\n",
      "Parent method speak: Pakistan Zindabad\n",
      "Parent method watching: Teams\n",
      "-----------Child--------------\n",
      "brown\n",
      "black\n",
      "Parent method speak: Pakistan Zindabad\n",
      "Parent method watching: Teams\n",
      "Child method teaching Python\n"
     ]
    }
   ],
   "source": [
    "# Inheritance\n",
    "class Parent():\n",
    "    def __init__(self)->None:\n",
    "        self.eye_color:str = 'brown'\n",
    "        self.hair_color:str = 'black'\n",
    "    def speak(self, word:str)->None:\n",
    "        print(f'Parent method speak: {word}')\n",
    "    def watching(self, object_name:str)->None:\n",
    "        print(f'Parent method watching: {object_name}')\n",
    "\n",
    "class Child(Parent):\n",
    "    def teaching(self, subject:str = None)->None:\n",
    "        print(f'Child method teaching {subject}')\n",
    "\n",
    "print(\"-----------Parent--------------\")\n",
    "prnt_1:Parent = Parent()\n",
    "print(prnt_1.eye_color)\n",
    "print(prnt_1.hair_color)\n",
    "prnt_1.speak('Pakistan Zindabad')\n",
    "prnt_1.watching('Teams')\n",
    "\n",
    "print(\"-----------Child--------------\")\n",
    "child_1:Child = Child()\n",
    "print(child_1.eye_color)\n",
    "print(child_1.hair_color)\n",
    "child_1.speak('Pakistan Zindabad')\n",
    "child_1.watching('Teams')\n",
    "child_1.teaching('Python')"
   ]
  },
  {
   "cell_type": "code",
   "execution_count": 30,
   "id": "b4b01753-87a7-46db-ad32-6d582e16e888",
   "metadata": {},
   "outputs": [
    {
     "name": "stdout",
     "output_type": "stream",
     "text": [
      "Business Intelligence: True, 7\n",
      "Designer: True, 9\n"
     ]
    }
   ],
   "source": [
    "class Employee():\n",
    "    def __init__(self, name:str, education:str, department:str)->None:\n",
    "        self.name:str = name\n",
    "        self.education:str = education\n",
    "        self.department:str = department\n",
    "class BusinessIntelligenceEmployeer(Employee):\n",
    "    def __init__(self, name:str, education:str, department: str, is_etl:bool, sql_ranking:int)->None:\n",
    "        super().__init__(name, education, department)\n",
    "        self.is_etl:bool = is_etl\n",
    "        self.sql_ranking:int = sql_ranking\n",
    "class Designer(Employee):\n",
    "    def __init__(self, name:str, education:str, department: str, is_animation:bool, ui_ux_ranking:int):\n",
    "        super().__init__(name, education, department)\n",
    "        self.is_animation:bool = is_animation\n",
    "        self.ui_ux_ranking:int = ui_ux_ranking\n",
    "bi_1:BusinessIntelligenceEmployeer = BusinessIntelligenceEmployeer('Muhammad Ali', 'Computer Engineering', 'Business Intelligence', True, 7)\n",
    "de_1:Designer = Designer('Hamza', 'Computer Science', 'UI/UX Designer', True, 9)\n",
    "print(f'Business Intelligence: {bi_1.is_etl}, {bi_1.sql_ranking}')\n",
    "print(f'Designer: {de_1.is_animation}, {de_1.ui_ux_ranking}')"
   ]
  }
 ],
 "metadata": {
  "kernelspec": {
   "display_name": "Python 3 (ipykernel)",
   "language": "python",
   "name": "python3"
  },
  "language_info": {
   "codemirror_mode": {
    "name": "ipython",
    "version": 3
   },
   "file_extension": ".py",
   "mimetype": "text/x-python",
   "name": "python",
   "nbconvert_exporter": "python",
   "pygments_lexer": "ipython3",
   "version": "3.12.4"
  }
 },
 "nbformat": 4,
 "nbformat_minor": 5
}
