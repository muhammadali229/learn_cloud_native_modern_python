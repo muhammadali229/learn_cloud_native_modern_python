{
 "cells": [
  {
   "cell_type": "code",
   "execution_count": 1,
   "id": "c88fadc7-f9e6-4271-a798-7f0da9e8fadc",
   "metadata": {},
   "outputs": [],
   "source": [
    "# !pip install nptyping\n",
    "# !pip install beartype --index-url https://pypi.python.org/simple/"
   ]
  },
  {
   "cell_type": "code",
   "execution_count": 4,
   "id": "4ce43ba9-4c88-40c4-9e34-3e64663d6755",
   "metadata": {},
   "outputs": [],
   "source": [
    "import numpy as np\n",
    "from nptyping import NDArray"
   ]
  },
  {
   "cell_type": "code",
   "execution_count": 5,
   "id": "50f9dc9f-b358-4be4-9518-f9e4c8d17861",
   "metadata": {},
   "outputs": [
    {
     "data": {
      "text/plain": [
       "array(1000)"
      ]
     },
     "execution_count": 5,
     "metadata": {},
     "output_type": "execute_result"
    }
   ],
   "source": [
    "a = np.array(1000)\n",
    "a"
   ]
  },
  {
   "cell_type": "code",
   "execution_count": null,
   "id": "f98aed4b-5e3a-4bec-9eb9-ebadbcdf5014",
   "metadata": {},
   "outputs": [],
   "source": []
  }
 ],
 "metadata": {
  "kernelspec": {
   "display_name": "Python 3 (ipykernel)",
   "language": "python",
   "name": "python3"
  },
  "language_info": {
   "codemirror_mode": {
    "name": "ipython",
    "version": 3
   },
   "file_extension": ".py",
   "mimetype": "text/x-python",
   "name": "python",
   "nbconvert_exporter": "python",
   "pygments_lexer": "ipython3",
   "version": "3.12.4"
  }
 },
 "nbformat": 4,
 "nbformat_minor": 5
}
