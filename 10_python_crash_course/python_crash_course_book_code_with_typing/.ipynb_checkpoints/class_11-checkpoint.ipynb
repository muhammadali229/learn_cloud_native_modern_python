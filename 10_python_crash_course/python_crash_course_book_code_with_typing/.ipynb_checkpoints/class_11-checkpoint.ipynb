{
 "cells": [
  {
   "cell_type": "code",
   "execution_count": 11,
   "id": "82ebe748-8347-454a-a702-515ce76dd4bb",
   "metadata": {},
   "outputs": [
    {
     "name": "stdout",
     "output_type": "stream",
     "text": [
      "Before Outside func a: 5, address: 140734775687736\n",
      "inside func before num: 5, address: 140734775687736\n",
      "inside func after num: 6, address: 140734775687768\n",
      "After Outside func a: 5, address: 140734775687736\n"
     ]
    }
   ],
   "source": [
    "# By value immutable data type\n",
    "a:int = 5\n",
    "print(f'Before Outside func a: {a}, address: {id(a)}') # original value remains same\n",
    "def func(num:int):\n",
    "    print(f'inside func before num: {num}, address: {id(num)}')\n",
    "    num = 6\n",
    "    print(f'inside func after num: {num}, address: {id(num)}')\n",
    "func(a)\n",
    "print(f'After Outside func a: {a}, address: {id(a)}') # original value remains same"
   ]
  },
  {
   "cell_type": "code",
   "execution_count": 12,
   "id": "8c7022eb-0e0f-4648-ad49-63f73c299aac",
   "metadata": {},
   "outputs": [
    {
     "name": "stdout",
     "output_type": "stream",
     "text": [
      "Outside func Before List: [1, 2], address: 1432403770112\n",
      "inside func Before List: [1, 2], address: 1432403770112\n",
      "inside func After List: [1, 2, 3], address: 1432403770112\n",
      "Outside func After List: [1, 2, 3], address: 1432403770112\n"
     ]
    }
   ],
   "source": [
    "# Call by reference mutable data type\n",
    "from typing import List\n",
    "lst_a:List[int] = [1, 2]\n",
    "print(f'Outside func Before List: {lst_a}, address: {id(lst_a)}') # original list also modified\n",
    "def func(lst_num:List[int]):\n",
    "    print(f'inside func Before List: {lst_num}, address: {id(lst_num)}')\n",
    "    lst_num.append(3)\n",
    "    print(f'inside func After List: {lst_num}, address: {id(lst_num)}')\n",
    "func(lst_a)\n",
    "print(f'Outside func After List: {lst_a}, address: {id(lst_a)}') # original list also modified"
   ]
  },
  {
   "cell_type": "code",
   "execution_count": 15,
   "id": "e5ace266-d5be-4f88-816f-e431d5256085",
   "metadata": {},
   "outputs": [
    {
     "name": "stdout",
     "output_type": "stream",
     "text": [
      "Outside func List: [1, 2], address: 1432403766272\n",
      "inside func Before List: [1, 2], address: 1432403766272\n",
      "inside func After List: [7, 3], address: 1432403766336\n",
      "Outside func List: [1, 2], address: 1432403766272\n"
     ]
    }
   ],
   "source": [
    "# Call by reference mutable data type\n",
    "from typing import List\n",
    "lst_a:List[int] = [1, 2]\n",
    "print(f'Outside func List: {lst_a}, address: {id(lst_a)}') # original list also modified\n",
    "def func(lst_num:List[int]):\n",
    "    print(f'inside func Before List: {lst_num}, address: {id(lst_num)}')\n",
    "    lst_num = [7] # initialized a new object list, now there are new difference objects\n",
    "    lst_num.append(3)\n",
    "    print(f'inside func After List: {lst_num}, address: {id(lst_num)}')\n",
    "func(lst_a)\n",
    "print(f'Outside func List: {lst_a}, address: {id(lst_a)}') # original list also modified"
   ]
  },
  {
   "cell_type": "code",
   "execution_count": 17,
   "id": "0c2c41a4-9c1b-4401-a688-eccf1074504f",
   "metadata": {},
   "outputs": [
    {
     "name": "stdout",
     "output_type": "stream",
     "text": [
      "Before b=3, a: 5, address: 140734775687736\n",
      "Before b=3, b: 5, address: 140734775687736\n",
      "After b=3, a: 5, address: 140734775687736\n",
      "After b=3, b: 3, address: 140734775687672\n"
     ]
    }
   ],
   "source": [
    "a:int = 5\n",
    "b = a\n",
    "print(f'Before b=3, a: {a}, address: {id(a)}')\n",
    "print(f'Before b=3, b: {b}, address: {id(b)}')\n",
    "b = 3\n",
    "print(f'After b=3, a: {a}, address: {id(a)}')\n",
    "print(f'After b=3, b: {b}, address: {id(b)}')"
   ]
  },
  {
   "cell_type": "code",
   "execution_count": 19,
   "id": "b388de08-0eca-48e8-9361-076d77f5225c",
   "metadata": {},
   "outputs": [
    {
     "name": "stdout",
     "output_type": "stream",
     "text": [
      "Before b=3, a: 7, address: 140734775687800\n",
      "Before b=3, b: 7, address: 140734775687800\n",
      "After b=3, a: 7, address: 140734775687800\n",
      "After b=3, b: 3, address: 140734775687672\n"
     ]
    }
   ],
   "source": [
    "a:int = 7\n",
    "b:int = 7\n",
    "print(f'Before b=3, a: {a}, address: {id(a)}')\n",
    "print(f'Before b=3, b: {b}, address: {id(b)}')\n",
    "b = 3\n",
    "print(f'After b=3, a: {a}, address: {id(a)}')\n",
    "print(f'After b=3, b: {b}, address: {id(b)}')"
   ]
  },
  {
   "cell_type": "code",
   "execution_count": 20,
   "id": "c308f440-89f8-4270-8949-371cedac415c",
   "metadata": {},
   "outputs": [
    {
     "name": "stdout",
     "output_type": "stream",
     "text": [
      "a: [1, 2, 3], address: 1432403932096\n",
      "b: [1, 2, 3], address: 1432403615680\n"
     ]
    }
   ],
   "source": [
    "a:List[int] = [1,2,3]\n",
    "b:List[int] = [1,2,3]\n",
    "print(f'a: {a}, address: {id(a)}')\n",
    "print(f'b: {b}, address: {id(b)}')"
   ]
  },
  {
   "cell_type": "code",
   "execution_count": 21,
   "id": "5348653c-0c1e-4196-b98e-86b574cdf3c2",
   "metadata": {},
   "outputs": [
    {
     "name": "stdout",
     "output_type": "stream",
     "text": [
      "a: [1, 2, 3], address: 1432403922432\n",
      "b: [1, 2, 3], address: 1432403829120\n",
      "[1, 2, 3, 1, 2, 3]\n"
     ]
    }
   ],
   "source": [
    "a:List[int] = [1,2,3]\n",
    "b:List[int] = [1,2,3]\n",
    "print(f'a: {a}, address: {id(a)}')\n",
    "print(f'b: {b}, address: {id(b)}')\n",
    "print(a + b)"
   ]
  },
  {
   "cell_type": "code",
   "execution_count": 22,
   "id": "7d3d67b0-f66e-49e5-9eea-42cae3267bcd",
   "metadata": {},
   "outputs": [
    {
     "name": "stdout",
     "output_type": "stream",
     "text": [
      "a: ['a', 'b'], address: 1432403932096\n",
      "b: ['c', 'd'], address: 1432403770176\n",
      "['a', 'b', 'c', 'd']\n"
     ]
    }
   ],
   "source": [
    "a:List[int] = ['a', 'b']\n",
    "b:List[int] = ['c', 'd']\n",
    "print(f'a: {a}, address: {id(a)}')\n",
    "print(f'b: {b}, address: {id(b)}')\n",
    "print(a + b)"
   ]
  },
  {
   "cell_type": "code",
   "execution_count": 49,
   "id": "18a8bcc1-ef37-4f79-adaf-db548c928355",
   "metadata": {},
   "outputs": [
    {
     "name": "stdout",
     "output_type": "stream",
     "text": [
      "I'm mutable!\n",
      "Goodbye, World!\n"
     ]
    }
   ],
   "source": [
    "def my_function():\n",
    "    print(\"Hello, World!\")\n",
    "\n",
    "# Functions can have attributes added to them\n",
    "my_function.new_attribute = \"I'm mutable!\"\n",
    "print(my_function.new_attribute)  # Output: I'm mutable!\n",
    "\n",
    "# Functions can be reassigned\n",
    "def another_function():\n",
    "    print(\"Goodbye, World!\")\n",
    "\n",
    "my_function = another_function\n",
    "my_function()  # Output: Goodbye, World!"
   ]
  },
  {
   "cell_type": "markdown",
   "id": "9371d890-d719-48b3-b445-8696208f2a03",
   "metadata": {},
   "source": [
    "##  Try-Except\n",
    "```python\n",
    "try:\n",
    "    # logic\n",
    "except (Error_class_1, Error_class_2):\n",
    "    # if error occurred then run this block\n",
    "else:\n",
    "    # if error not occurred run this block\n",
    "finally:\n",
    "    # this block will always run"
   ]
  },
  {
   "cell_type": "code",
   "execution_count": 25,
   "id": "7e0b9cee-2493-446c-ae63-243ca5d53c5a",
   "metadata": {},
   "outputs": [
    {
     "name": "stdin",
     "output_type": "stream",
     "text": [
      "Enter num 1:  1\n",
      "Enter num 2:  0\n"
     ]
    },
    {
     "ename": "ZeroDivisionError",
     "evalue": "division by zero",
     "output_type": "error",
     "traceback": [
      "\u001b[1;31m---------------------------------------------------------------------------\u001b[0m",
      "\u001b[1;31mZeroDivisionError\u001b[0m                         Traceback (most recent call last)",
      "Cell \u001b[1;32mIn[25], line 4\u001b[0m\n\u001b[0;32m      2\u001b[0m a:\u001b[38;5;28mint\u001b[39m \u001b[38;5;241m=\u001b[39m \u001b[38;5;28mint\u001b[39m(\u001b[38;5;28minput\u001b[39m(\u001b[38;5;124m'\u001b[39m\u001b[38;5;124mEnter num 1: \u001b[39m\u001b[38;5;124m'\u001b[39m))\n\u001b[0;32m      3\u001b[0m b:\u001b[38;5;28mint\u001b[39m \u001b[38;5;241m=\u001b[39m \u001b[38;5;28mint\u001b[39m(\u001b[38;5;28minput\u001b[39m(\u001b[38;5;124m'\u001b[39m\u001b[38;5;124mEnter num 2: \u001b[39m\u001b[38;5;124m'\u001b[39m))\n\u001b[1;32m----> 4\u001b[0m \u001b[38;5;28mprint\u001b[39m(\u001b[43ma\u001b[49m\u001b[43m \u001b[49m\u001b[38;5;241;43m/\u001b[39;49m\u001b[43m \u001b[49m\u001b[43mb\u001b[49m)\n",
      "\u001b[1;31mZeroDivisionError\u001b[0m: division by zero"
     ]
    }
   ],
   "source": [
    "# Runtime error\n",
    "a:int = int(input('Enter num 1: '))\n",
    "b:int = int(input('Enter num 2: '))\n",
    "print(a / b)"
   ]
  },
  {
   "cell_type": "code",
   "execution_count": 41,
   "id": "fed593ad-6e0d-4a42-9644-a6d3f62b03db",
   "metadata": {},
   "outputs": [
    {
     "name": "stdin",
     "output_type": "stream",
     "text": [
      "Enter num 1:  3\n",
      "Enter num 2:  0\n"
     ]
    },
    {
     "name": "stdout",
     "output_type": "stream",
     "text": [
      "∞\n",
      "Program Ends don't care error or no error\n"
     ]
    }
   ],
   "source": [
    "# Runtime error\n",
    "a:int = int(input('Enter num 1: '))\n",
    "b:int = int(input('Enter num 2: '))\n",
    "try:\n",
    "    result:int = a / b\n",
    "except ZeroDivisionError: \n",
    "    print('∞')\n",
    "else:\n",
    "    print(f'Result: {result:2f}')\n",
    "finally:\n",
    "    print('Program Ends don\\'t care error or no error')"
   ]
  },
  {
   "cell_type": "code",
   "execution_count": 29,
   "id": "34a8cfe4-1686-480d-9528-f7945d91a235",
   "metadata": {},
   "outputs": [
    {
     "name": "stdin",
     "output_type": "stream",
     "text": [
      "Enter index to show item:  10\n"
     ]
    },
    {
     "ename": "IndexError",
     "evalue": "list index out of range",
     "output_type": "error",
     "traceback": [
      "\u001b[1;31m---------------------------------------------------------------------------\u001b[0m",
      "\u001b[1;31mIndexError\u001b[0m                                Traceback (most recent call last)",
      "Cell \u001b[1;32mIn[29], line 3\u001b[0m\n\u001b[0;32m      1\u001b[0m lst: List[\u001b[38;5;28mint\u001b[39m] \u001b[38;5;241m=\u001b[39m [\u001b[38;5;241m1\u001b[39m, \u001b[38;5;241m2\u001b[39m, \u001b[38;5;241m3\u001b[39m, \u001b[38;5;241m4\u001b[39m, \u001b[38;5;241m5\u001b[39m]\n\u001b[0;32m      2\u001b[0m idx:\u001b[38;5;28mint\u001b[39m \u001b[38;5;241m=\u001b[39m \u001b[38;5;28mint\u001b[39m(\u001b[38;5;28minput\u001b[39m(\u001b[38;5;124m'\u001b[39m\u001b[38;5;124mEnter index to show item: \u001b[39m\u001b[38;5;124m'\u001b[39m))\n\u001b[1;32m----> 3\u001b[0m \u001b[38;5;28mprint\u001b[39m(\u001b[43mlst\u001b[49m\u001b[43m[\u001b[49m\u001b[43midx\u001b[49m\u001b[43m]\u001b[49m)\n",
      "\u001b[1;31mIndexError\u001b[0m: list index out of range"
     ]
    }
   ],
   "source": [
    "lst: List[int] = [1, 2, 3, 4, 5]\n",
    "idx:int = int(input('Enter index to show item: '))\n",
    "print(lst[idx])"
   ]
  },
  {
   "cell_type": "code",
   "execution_count": 31,
   "id": "f87adc54-8e52-42be-a14d-175a2d3f2341",
   "metadata": {},
   "outputs": [
    {
     "name": "stdin",
     "output_type": "stream",
     "text": [
      "Enter index to show item:  10\n"
     ]
    },
    {
     "name": "stdout",
     "output_type": "stream",
     "text": [
      "There is no element on 10 index in this list [1, 2, 3, 4, 5]\n"
     ]
    }
   ],
   "source": [
    "lst: List[int] = [1, 2, 3, 4, 5]\n",
    "idx:int = int(input('Enter index to show item: '))\n",
    "try:\n",
    "    print(lst[idx])\n",
    "except IndexError:\n",
    "    print(f'There is no element on {idx} index in this list {lst}')"
   ]
  },
  {
   "cell_type": "code",
   "execution_count": 46,
   "id": "2f94522b-3e0e-4408-bcec-9f0cc9db5957",
   "metadata": {},
   "outputs": [
    {
     "name": "stdin",
     "output_type": "stream",
     "text": [
      "Enter num 1:  3\n",
      "Enter num 2:  2\n"
     ]
    },
    {
     "name": "stdout",
     "output_type": "stream",
     "text": [
      "list index out of range\n",
      "Program Ends don't care error or no error\n"
     ]
    }
   ],
   "source": [
    "# Runtime error\n",
    "a:int = int(input('Enter num 1: '))\n",
    "b:int = int(input('Enter num 2: '))\n",
    "lst: List[int] = [1, 2, 3, 4, 5]\n",
    "try:\n",
    "    result:int = a / b\n",
    "    print(lst[10])\n",
    "except (ZeroDivisionError, IndexError, NameError) as e: \n",
    "    print(e)\n",
    "else:\n",
    "    print(f'Result: {result:2f}')\n",
    "finally:\n",
    "    print('Program Ends don\\'t care error or no error')"
   ]
  },
  {
   "cell_type": "code",
   "execution_count": 32,
   "id": "641b76a7-a98e-4318-a525-152260d7ea30",
   "metadata": {},
   "outputs": [
    {
     "ename": "TypeError",
     "evalue": "'tuple' object does not support item assignment",
     "output_type": "error",
     "traceback": [
      "\u001b[1;31m---------------------------------------------------------------------------\u001b[0m",
      "\u001b[1;31mTypeError\u001b[0m                                 Traceback (most recent call last)",
      "Cell \u001b[1;32mIn[32], line 3\u001b[0m\n\u001b[0;32m      1\u001b[0m \u001b[38;5;28;01mfrom\u001b[39;00m \u001b[38;5;21;01mtyping\u001b[39;00m \u001b[38;5;28;01mimport\u001b[39;00m Tuple\n\u001b[0;32m      2\u001b[0m tup_a: Tuple[\u001b[38;5;28mint\u001b[39m] \u001b[38;5;241m=\u001b[39m \u001b[38;5;241m1\u001b[39m, \u001b[38;5;241m2\u001b[39m, \u001b[38;5;241m3\u001b[39m, \u001b[38;5;241m4\u001b[39m, \u001b[38;5;241m5\u001b[39m\n\u001b[1;32m----> 3\u001b[0m \u001b[43mtup_a\u001b[49m\u001b[43m[\u001b[49m\u001b[38;5;241;43m0\u001b[39;49m\u001b[43m]\u001b[49m \u001b[38;5;241m=\u001b[39m \u001b[38;5;241m10\u001b[39m\n",
      "\u001b[1;31mTypeError\u001b[0m: 'tuple' object does not support item assignment"
     ]
    }
   ],
   "source": [
    "from typing import Tuple\n",
    "tup_a: Tuple[int] = 1, 2, 3, 4, 5\n",
    "tup_a[0] = 10"
   ]
  },
  {
   "cell_type": "code",
   "execution_count": 33,
   "id": "33217334-6320-4cf2-aab5-85b5e86f2ae2",
   "metadata": {},
   "outputs": [
    {
     "name": "stdout",
     "output_type": "stream",
     "text": [
      "Tuple is immutable\n"
     ]
    }
   ],
   "source": [
    "from typing import Tuple\n",
    "tup_a: Tuple[int] = 1, 2, 3, 4, 5\n",
    "try: \n",
    "    tup_a[0] = 10\n",
    "except TypeError:\n",
    "    print('Tuple is immutable')"
   ]
  },
  {
   "cell_type": "code",
   "execution_count": 36,
   "id": "c493c1cf-4eac-459a-8884-79f8a9cff5f6",
   "metadata": {},
   "outputs": [
    {
     "ename": "KeyError",
     "evalue": "'f_name'",
     "output_type": "error",
     "traceback": [
      "\u001b[1;31m---------------------------------------------------------------------------\u001b[0m",
      "\u001b[1;31mKeyError\u001b[0m                                  Traceback (most recent call last)",
      "Cell \u001b[1;32mIn[36], line 7\u001b[0m\n\u001b[0;32m      2\u001b[0m dict_a: Dict[\u001b[38;5;28mstr\u001b[39m, \u001b[38;5;28mstr\u001b[39m] \u001b[38;5;241m=\u001b[39m {\n\u001b[0;32m      3\u001b[0m     \u001b[38;5;124m'\u001b[39m\u001b[38;5;124mname\u001b[39m\u001b[38;5;124m'\u001b[39m: \u001b[38;5;124m'\u001b[39m\u001b[38;5;124mMuhammad Ali\u001b[39m\u001b[38;5;124m'\u001b[39m,\n\u001b[0;32m      4\u001b[0m     \u001b[38;5;124m'\u001b[39m\u001b[38;5;124meducation\u001b[39m\u001b[38;5;124m'\u001b[39m: \u001b[38;5;124m'\u001b[39m\u001b[38;5;124mComputer Engineering\u001b[39m\u001b[38;5;124m'\u001b[39m\n\u001b[0;32m      5\u001b[0m }\n\u001b[0;32m      6\u001b[0m key_to_updated \u001b[38;5;241m=\u001b[39m \u001b[38;5;124m'\u001b[39m\u001b[38;5;124mf_name\u001b[39m\u001b[38;5;124m'\u001b[39m\n\u001b[1;32m----> 7\u001b[0m \u001b[43mdict_a\u001b[49m\u001b[43m[\u001b[49m\u001b[43mkey_to_updated\u001b[49m\u001b[43m]\u001b[49m\n",
      "\u001b[1;31mKeyError\u001b[0m: 'f_name'"
     ]
    }
   ],
   "source": [
    "from typing import Dict\n",
    "dict_a: Dict[str, str] = {\n",
    "    'name': 'Muhammad Ali',\n",
    "    'education': 'Computer Engineering'\n",
    "}\n",
    "key_to_updated = 'f_name'\n",
    "dict_a[key_to_updated]"
   ]
  },
  {
   "cell_type": "code",
   "execution_count": 37,
   "id": "3cb9bdda-6d58-4f6a-bf5a-bbc2e66de8c8",
   "metadata": {},
   "outputs": [
    {
     "name": "stdout",
     "output_type": "stream",
     "text": [
      "f_name key not found in dict {'name': 'Muhammad Ali', 'education': 'Computer Engineering'}\n"
     ]
    }
   ],
   "source": [
    "from typing import Dict\n",
    "dict_a: Dict[str, str] = {\n",
    "    'name': 'Muhammad Ali',\n",
    "    'education': 'Computer Engineering'\n",
    "}\n",
    "key_to_updated = 'f_name'\n",
    "try: \n",
    "    dict_a[key_to_updated]\n",
    "except KeyError:\n",
    "    print(f'{key_to_updated} key not found in dict {dict_a}')"
   ]
  }
 ],
 "metadata": {
  "kernelspec": {
   "display_name": "Python 3 (ipykernel)",
   "language": "python",
   "name": "python3"
  },
  "language_info": {
   "codemirror_mode": {
    "name": "ipython",
    "version": 3
   },
   "file_extension": ".py",
   "mimetype": "text/x-python",
   "name": "python",
   "nbconvert_exporter": "python",
   "pygments_lexer": "ipython3",
   "version": "3.12.4"
  }
 },
 "nbformat": 4,
 "nbformat_minor": 5
}
